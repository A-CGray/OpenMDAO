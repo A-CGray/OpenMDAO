{
 "cells": [
  {
   "cell_type": "code",
   "execution_count": null,
   "metadata": {
    "tags": [
     "remove-input",
     "active-ipynb",
     "remove-output"
    ]
   },
   "outputs": [],
   "source": [
    "try:\n",
    "    from openmdao.utils.notebook_utils import notebook_mode\n",
    "except ImportError:\n",
    "    !python -m pip install openmdao[notebooks]"
   ]
  },
  {
   "cell_type": "markdown",
   "metadata": {},
   "source": [
    "# Reports System\n",
    "\n",
    "## Default Usage\n",
    "\n",
    "OpenMDAO has a reports system which will generate several common reports when you run your model. Currently, the only reports that are run are the N2 diagram and the scaling report. (The scaling report does not work with MPI currently.) The names of these reports in the reporting system, are \"n2\" and \"scaling\", respectively.\n",
    "\n",
    "The n2 report is generated after `Problem.final_setup`.\n",
    "The scaling report is run after `Driver._compute_totals`.\n",
    "\n",
    "Note that the reports are only run the first time the method is run on a given instance. For example, the scaling report is only run after the first call to `Driver._compute_totals`.\n",
    "\n",
    "These reports, will, by default be put into a folder named after the `Problem` name. For example, if your model\n",
    "has a single Problem and its default name, `problem1`, was not changed by the user, the reports will be placed in a directory named `problem1_reports`.\n",
    "\n",
    "The user has control over this reporting by setting some environment variables which are described below.\n",
    "\n",
    "## Controlling which reports get run\n",
    "\n",
    "To turn off all the report generation that is part of the default report generation system of OpenMDAO,\n",
    "the user should set an environment variable of `OPENMDAO_REPORTS` to any one of these four values: '0', 'false', 'off', or 'none'.\n",
    "\n",
    "The user can also have more fine-grained control over what reports get run by setting this environment variable to a string that lists the reports to run. For example\n",
    "\n",
    "1. OPENMDAO_REPORTS=n2\n",
    "\n",
    "2. OPENMDAO_REPORTS=n2,scaling\n",
    "\n",
    "3. OPENMDAO_REPORTS=none\n",
    "\n",
    "If `OPENMDAO_REPORTS` is not set, all reports are run. The user can also explicitly turn on all reports by setting `OPENMDAO_REPORTS` to any of these four values: '1', 'true', 'on', or 'all'."
   ]
  },
  {
   "cell_type": "markdown",
   "metadata": {},
   "source": [
    "## Setting the directory for the reports\n",
    "\n",
    "If the user wishes to have the reports directory placed into a different directory other than the current working\n",
    "directory, the user can set the environment variable, `OPENMDAO_REPORTS_DIR` to the name of that directory. The\n",
    "directory does not have to exist beforehand. It will be created by the reporting system. As an example, if `OPENMDAO_REPORTS_DIR` is set to \"my_reports\", then, if the `Problem` name is `problem1`, then the reports will be written to the \"my_reports/problem1\" directory.\n",
    "\n",
    "## Support for subproblems\n",
    "\n",
    "The reporting system supports subproblems. For example, if a model has two Problems and they have the default names of\n",
    "`problem1` and `problem2`, the reporting system will put the reports into the folders, `problem1_reports` and\n",
    "`problem2_reports`.\n",
    "\n",
    "## Adding user defined reports\n",
    "\n",
    "The user can register a user defined report with the reporting system using the `register_report` function.\n",
    "\n",
    "```{eval-rst}\n",
    "    .. autofunction:: openmdao.utils.reports_system.register_report\n",
    "        :noindex:\n",
    "```\n",
    "\n",
    "Here is a script to show how this is done. Note that the function that is called to do the reporting must have\n",
    "as its first argument, the class name of the OpenMDAO object owning the method where the report will be run. Currently, the only options are `Problem` and `Driver`.\n",
    "\n",
    "After this script is run, there will be a file named `user_report.txt` in the directory `problem1_reports`."
   ]
  },
  {
   "cell_type": "code",
   "execution_count": null,
   "metadata": {
    "tags": [
     "remove-input",
     "remove-output"
    ]
   },
   "outputs": [],
   "source": [
    "import os\n",
    "os.environ['OPENMDAO_REPORTS'] = '1'  # Only need to run reports in this notebook"
   ]
  },
  {
   "cell_type": "code",
   "execution_count": null,
   "metadata": {
    "pycharm": {
     "name": "#%%\n"
    }
   },
   "outputs": [],
   "source": [
    "import pathlib\n",
    "from openmdao.utils.reports_system import register_report, get_reports_dir\n",
    "import openmdao.api as om\n",
    "from openmdao.test_suite.components.paraboloid import Paraboloid\n",
    "\n",
    "user_report_filename = 'user_report.txt'\n",
    "\n",
    "def user_defined_report(prob):\n",
    "    problem_reports_dirpath = get_reports_dir(prob)\n",
    "    user_report_filepath = str(\n",
    "        pathlib.Path(problem_reports_dirpath).joinpath(user_report_filename))\n",
    "    with open(user_report_filepath, \"w\") as f:\n",
    "        f.write(f\"Do some reporting on the Problem, {prob._name}\\n\")\n",
    "\n",
    "# Run the report after the before the call to Problem.setup\n",
    "register_report(\"user_report\", user_defined_report, \"This report is user defined\",\n",
    "                     'Problem', 'setup', 'pre')\n",
    "\n",
    "prob = om.Problem()\n",
    "model = prob.model\n",
    "\n",
    "model.add_subsystem('p1', om.IndepVarComp('x', 0.0), promotes=['x'])\n",
    "model.add_subsystem('p2', om.IndepVarComp('y', 0.0), promotes=['y'])\n",
    "model.add_subsystem('comp', Paraboloid(), promotes=['x', 'y', 'f_xy'])\n",
    "\n",
    "model.add_design_var('x', lower=0.0, upper=1.0)\n",
    "model.add_design_var('y', lower=0.0, upper=1.0)\n",
    "model.add_objective('f_xy')\n",
    "\n",
    "prob.driver = om.ScipyOptimizeDriver()\n",
    "\n",
    "prob.setup()\n",
    "prob.run_driver()\n",
    "prob.cleanup()"
   ]
  },
  {
   "cell_type": "code",
   "execution_count": null,
   "metadata": {
    "pycharm": {
     "name": "#%%\n"
    },
    "tags": [
     "remove-input",
     "remove-output"
    ]
   },
   "outputs": [],
   "source": [
    "import pathlib\n",
    "from openmdao.utils.reports_system import set_reports_dir, _reports_dir\n",
    "problem_reports_dir = pathlib.Path(_reports_dir).joinpath(f'{prob._name}_reports')\n",
    "\n",
    "path = pathlib.Path(problem_reports_dir).joinpath(user_report_filename)\n",
    "assert path.is_file(),\"Could not find problem report\""
   ]
  },
  {
   "cell_type": "markdown",
   "metadata": {},
   "source": [
    "## Listing registered reports\n",
    "\n",
    "The user can use the `list_reports` function to see what reports are registered.\n",
    "\n",
    "```{eval-rst}\n",
    "    .. autofunction:: openmdao.utils.reports_system.list_reports\n",
    "        :noindex:\n",
    "```"
   ]
  },
  {
   "cell_type": "code",
   "execution_count": null,
   "metadata": {},
   "outputs": [],
   "source": [
    "from openmdao.utils.reports_system import list_reports\n",
    "list_reports()"
   ]
  },
  {
   "cell_type": "code",
   "execution_count": null,
   "metadata": {
    "tags": [
     "remove-input",
     "remove-output"
    ]
   },
   "outputs": [],
   "source": [
    "os.environ['OPENMDAO_REPORTS'] = '0'"
   ]
  }
 ],
 "metadata": {
  "celltoolbar": "Tags",
  "kernelspec": {
   "display_name": "Python 3",
   "language": "python",
   "name": "python3"
  },
  "language_info": {
   "codemirror_mode": {
    "name": "ipython",
    "version": 3
   },
   "file_extension": ".py",
   "mimetype": "text/x-python",
   "name": "python",
   "nbconvert_exporter": "python",
   "pygments_lexer": "ipython3",
   "version": "3.8.5"
  },
  "orphan": true
 },
 "nbformat": 4,
 "nbformat_minor": 4
}
