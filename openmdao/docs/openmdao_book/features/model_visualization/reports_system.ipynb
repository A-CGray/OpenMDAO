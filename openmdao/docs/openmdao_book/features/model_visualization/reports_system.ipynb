{
 "cells": [
  {
   "cell_type": "code",
   "execution_count": null,
   "metadata": {
    "tags": [
     "remove-input",
     "active-ipynb",
     "remove-output"
    ]
   },
   "outputs": [],
   "source": [
    "try:\n",
    "    from openmdao.utils.notebook_utils import notebook_mode\n",
    "except ImportError:\n",
    "    !python -m pip install openmdao[notebooks]"
   ]
  },
  {
   "cell_type": "markdown",
   "metadata": {},
   "source": [
    "# Reports\n",
    "\n",
    "## Default Usage\n",
    "\n",
    "By default, OpenMDAO will generate several common reports when you run your model.\n",
    "\n",
    "1. N2 diagram\n",
    "2. Scaling report\n",
    "3. Coloring report\n",
    "\n",
    "These reports, will, by default be put into a folder named after the Problem name. For example, if your model\n",
    "has a single Problem and its default name, `problem1`, was not overridden, the reports will be placed in a directory named\n",
    "`problem1_reports`.\n",
    "\n",
    "The user has control over this reporting by setting some environment variables\n",
    "\n",
    "## Turning off the reporting system\n",
    "\n",
    "To turn off all the report generation that is part of the default report generation system of OpenMDAO,\n",
    "the user should set an environment variable of `OPENMDAO_REPORTS` to any one of these three values: '0', 'false', 'off'.\n",
    "\n",
    "## Setting the directory for the reports\n",
    "\n",
    "If the user wishes to have the reports directory placed into a different directory other than the current working\n",
    "directory, the user can set the environment variable, `OPENMDAO_REPORTS_DIR` to the name of that directory. The\n",
    "directory does not have to exist. It will be created by the reporting system.\n",
    "\n",
    "## Support for subproblems\n",
    "\n",
    "The reporting system supports subproblems. For example, a model has two Problems and they have the default names of\n",
    "`problem1` and `problem2`, the reporting system will put the reports into the folders, `problem1_reports` and\n",
    "`problem2_reports`.\n",
    "\n",
    "## Adding user defined reports\n",
    "\n",
    "The user can register a user defined report with the reporting system.\n",
    "\n",
    "Here is a script to show how this is done. Note that the function that is called to do the reporting must have\n",
    "as its first argument, the `Problem`.\n",
    "\n",
    "After this script is run, there will be a file named `user_report.txt` in the directory `problem1_reports`."
   ]
  },
  {
   "cell_type": "code",
   "execution_count": null,
   "outputs": [],
   "source": [
    "from openmdao.utils.reports import register_report\n",
    "import openmdao.api as om\n",
    "from openmdao.test_suite.components.paraboloid import Paraboloid\n",
    "\n",
    "def user_defined_report(prob):\n",
    "    with open('user_report.txt', \"w\") as f:\n",
    "        f.write(f\"Do some reporting on the Problem, {prob._name}\\n\")\n",
    "\n",
    "register_report(user_defined_report, 'user defined report', 'setup', 'pre')\n",
    "\n",
    "prob = om.Problem()\n",
    "model = prob.model\n",
    "\n",
    "model.add_subsystem('p1', om.IndepVarComp('x', 0.0), promotes=['x'])\n",
    "model.add_subsystem('p2', om.IndepVarComp('y', 0.0), promotes=['y'])\n",
    "model.add_subsystem('comp', Paraboloid(), promotes=['x', 'y', 'f_xy'])\n",
    "\n",
    "model.add_design_var('x', lower=0.0, upper=1.0)\n",
    "model.add_design_var('y', lower=0.0, upper=1.0)\n",
    "model.add_objective('f_xy')\n",
    "\n",
    "prob.driver = om.ScipyOptimizeDriver()\n",
    "\n",
    "prob.setup()\n",
    "prob.run_driver()\n",
    "prob.cleanup()"
   ],
   "metadata": {
    "collapsed": false,
    "pycharm": {
     "name": "#%%\n"
    }
   }
  },
  {
   "cell_type": "code",
   "execution_count": null,
   "outputs": [],
   "source": [],
   "metadata": {
    "collapsed": false,
    "pycharm": {
     "name": "#%%\n"
    }
   }
  }
 ],
 "metadata": {
  "celltoolbar": "Tags",
  "kernelspec": {
   "display_name": "Python 3",
   "language": "python",
   "name": "python3"
  },
  "language_info": {
   "codemirror_mode": {
    "name": "ipython",
    "version": 3
   },
   "file_extension": ".py",
   "mimetype": "text/x-python",
   "name": "python",
   "nbconvert_exporter": "python",
   "pygments_lexer": "ipython3",
   "version": "3.8.1"
  },
  "orphan": true
 },
 "nbformat": 4,
 "nbformat_minor": 4
}