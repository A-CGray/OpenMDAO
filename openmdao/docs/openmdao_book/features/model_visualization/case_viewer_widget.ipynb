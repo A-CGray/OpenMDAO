{
 "cells": [
  {
   "cell_type": "code",
   "execution_count": null,
   "metadata": {
    "tags": [
     "remove-input",
     "active-ipynb",
     "remove-output"
    ]
   },
   "outputs": [],
   "source": [
    "try:\n",
    "    from openmdao.utils.notebook_utils import notebook_mode\n",
    "except ImportError:\n",
    "    !python -m pip install openmdao[notebooks]"
   ]
  },
  {
   "cell_type": "markdown",
   "metadata": {},
   "source": [
    "# Inspecting Case Data\n",
    "\n",
    "## CaseViewerWidget\n",
    "\n",
    "When working in a Jupyter notebook, you can quickly get a plot of the data you have recorded from your analysis using a `CaseViewerWidget`.\n",
    "\n",
    "\n",
    "Here we show an example that uses the [Sellar MDA](../../basic_user_guide/multidisciplinary_optimization/sellar_opt.ipynb) model from the\n",
    "Basic User Guide. "
   ]
  },
  {
   "cell_type": "code",
   "execution_count": null,
   "metadata": {
    "tags": [
     "remove_input",
     "remove_output"
    ]
   },
   "outputs": [],
   "source": [
    "from openmdao.utils.notebook_utils import get_code\n",
    "from myst_nb import glue\n",
    "glue(\"case_viewer_widget_sellar_src_code\", get_code(\"openmdao.test_suite.components.sellar_feature.SellarMDA\"), display=False)"
   ]
  },
  {
   "cell_type": "markdown",
   "metadata": {},
   "source": [
    ":::{Admonition} `SellarMDA` class definition \n",
    ":class: dropdown\n",
    "\n",
    "{glue:}`case_viewer_widget_sellar_src_code`\n",
    ":::"
   ]
  },
  {
   "cell_type": "code",
   "execution_count": null,
   "metadata": {
    "scrolled": true
   },
   "outputs": [],
   "source": [
    "import openmdao.api as om\n",
    "from openmdao.test_suite.components.sellar_feature import SellarMDA\n",
    "\n",
    "import numpy as np\n",
    "\n",
    "# define Sellar MDA problem\n",
    "prob = om.Problem(model=SellarMDA())\n",
    "\n",
    "model = prob.model\n",
    "model.add_design_var('z', lower=np.array([-10.0, 0.0]),\n",
    "                          upper=np.array([10.0, 10.0]))\n",
    "model.add_design_var('x', lower=0.0, upper=10.0)\n",
    "model.add_objective('obj')\n",
    "model.add_constraint('con1', upper=0.0)\n",
    "model.add_constraint('con2', upper=0.0)\n",
    "\n",
    "prob.driver = om.ScipyOptimizeDriver(optimizer='SLSQP', tol=1e-9, disp=False)\n",
    "\n",
    "prob.setup()\n",
    "\n",
    "# add recorder to the driver, model and cycle solver\n",
    "recorder = om.SqliteRecorder('sellar.sql')\n",
    "prob.driver.add_recorder(recorder)\n",
    "prob.model.add_recorder(recorder)\n",
    "prob.model.cycle.nonlinear_solver.add_recorder(recorder)\n",
    "\n",
    "# run the optimization\n",
    "prob.model.set_solver_print(level=1)\n",
    "prob.run_driver()\n",
    "prob.cleanup()"
   ]
  },
  {
   "cell_type": "markdown",
   "metadata": {},
   "source": [
    "Having recorded our driver iterations and final problem state into the file \"sellar.sql\", we can now instantiate a `CaseViewerWidget` to quickly and easily generate plots of our output variables across iterations.\n",
    "\n",
    "Using the `Source` selector we can choose to inspect either the cases recorded by the driver, the model or the cycle solver.  Having chosen the source, we can then select the range of `Cases` to inspect and then finally the `Output` variables to plot.  Hold the CTRL or Shift key when clicking choosing variables for the Y axis to select multiple outputs."
   ]
  },
  {
   "cell_type": "code",
   "execution_count": null,
   "metadata": {},
   "outputs": [],
   "source": [
    "om.CaseViewerWidget('sellar.sql', source='driver', y_axis=['x', 'z', 'con1', 'con2', 'obj']);"
   ]
  },
  {
   "cell_type": "markdown",
   "metadata": {},
   "source": [
    "Note that if you narrow the case range to a single case, you have the ability to select an output variable for the X axis instead of `Iterations`. As an example of when this might be useful, see the following use case that implements a polynomial fit component.  We show how the curve fit might be shown using data from the model and how to use the `CaseViewerWidget` to quickly get a similar plot."
   ]
  },
  {
   "cell_type": "code",
   "execution_count": null,
   "metadata": {
    "tags": [
     "remove_input",
     "remove_output"
    ]
   },
   "outputs": [],
   "source": [
    "from openmdao.utils.notebook_utils import get_code\n",
    "from myst_nb import glue\n",
    "glue(\"case_viewer_widget_polyfit_src_code\", get_code(\"openmdao.test_suite.components.polynomial_fit.PolynomialFit\"), display=False)"
   ]
  },
  {
   "cell_type": "markdown",
   "metadata": {},
   "source": [
    ":::{Admonition} `PolynomialFit` class definition \n",
    ":class: dropdown\n",
    "\n",
    "{glue:}`case_viewer_widget_polyfit_src_code`\n",
    ":::"
   ]
  },
  {
   "cell_type": "code",
   "execution_count": null,
   "metadata": {
    "scrolled": true
   },
   "outputs": [],
   "source": [
    "import numpy as np\n",
    "\n",
    "import openmdao.api as om\n",
    "\n",
    "from openmdao.test_suite.components.polynomial_fit import PolynomialFit\n",
    "\n",
    "\n",
    "N_cp = 50\n",
    "N_predict = 1000\n",
    "\n",
    "p = om.Problem()\n",
    "\n",
    "fit = p.model.add_subsystem('fit', PolynomialFit(N_cp=N_cp, N_predict=N_predict))\n",
    "fit.nonlinear_solver = om.NewtonSolver(solve_subsystems=False, maxiter=10, iprint=2)\n",
    "fit.linear_solver = om.DirectSolver()\n",
    "\n",
    "p.setup()\n",
    "\n",
    "\n",
    "np.random.seed(0)\n",
    "\n",
    "X_cp = np.linspace(0, np.pi, N_cp)\n",
    "Y_cp = np.sin(X_cp) + (np.random.random(N_cp) - 0.5)*0.1\n",
    "\n",
    "X_true = np.linspace(0, np.pi, N_predict)\n",
    "Y_true = np.sin(X_true)\n",
    "\n",
    "p['fit.x_cp'] = X_cp\n",
    "p['fit.y_cp'] = Y_cp\n",
    "p['fit.x'] = X_true\n",
    "\n",
    "p.model.add_recorder(om.SqliteRecorder(\"polyfit.sql\"))\n",
    "\n",
    "p.run_model()"
   ]
  },
  {
   "cell_type": "code",
   "execution_count": null,
   "metadata": {},
   "outputs": [],
   "source": [
    "# plot curve fit using data from the model\n",
    "\n",
    "import matplotlib.pyplot as plt\n",
    "\n",
    "fig, ax = plt.subplots()\n",
    "\n",
    "ax.plot(p['fit.x'], p['fit.y'], label='fit.y')\n",
    "ax.scatter(p['fit.x_cp'], p['fit.y_cp'], label='fit.y_cp', c='C1')\n",
    "\n",
    "plt.legend(loc='best')\n",
    "plt.show()"
   ]
  },
  {
   "cell_type": "code",
   "execution_count": null,
   "metadata": {},
   "outputs": [],
   "source": [
    "# plot curve fit using data from the case recording\n",
    "\n",
    "om.CaseViewerWidget(\"polyfit.sql\", x_axis='fit.x', y_axis='fit.y');"
   ]
  },
  {
   "cell_type": "markdown",
   "metadata": {},
   "source": [
    "```{Note}\n",
    "    If you choose variables for the X and/or Y axes that cannot be plotted, e.g. due to dimensionality,\n",
    "    a message will be displayed indicating why a plot cannot be generated.\n",
    "```"
   ]
  }
 ],
 "metadata": {
  "celltoolbar": "Tags",
  "kernelspec": {
   "display_name": "Python 3",
   "language": "python",
   "name": "python3"
  },
  "language_info": {
   "codemirror_mode": {
    "name": "ipython",
    "version": 3
   },
   "file_extension": ".py",
   "mimetype": "text/x-python",
   "name": "python",
   "nbconvert_exporter": "python",
   "pygments_lexer": "ipython3",
   "version": "3.9.4"
  },
  "orphan": true
 },
 "nbformat": 4,
 "nbformat_minor": 4
}
