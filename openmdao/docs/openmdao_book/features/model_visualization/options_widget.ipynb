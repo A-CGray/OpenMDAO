{
 "cells": [
  {
   "cell_type": "code",
   "execution_count": null,
   "metadata": {
    "tags": [
     "remove-input",
     "active-ipynb",
     "remove-output"
    ]
   },
   "outputs": [],
   "source": [
    "try:\n",
    "    from openmdao.utils.notebook_utils import notebook_mode\n",
    "except ImportError:\n",
    "    !python -m pip install openmdao[notebooks]"
   ]
  },
  {
   "cell_type": "markdown",
   "metadata": {},
   "source": [
    "# Inspecting Case Data\n",
    "\n",
    "## CaseViewerWidget\n",
    "\n",
    "When working in a Jupyter notebook, you can quickly get a plot of the data you have recorded from your analysis using a `CaseViewerWidget`.\n",
    "\n",
    "\n",
    "Here we show an example that uses the [Sellar MDA](../../basic_user_guide/multidisciplinary_optimization/sellar_opt.ipynb) model from the\n",
    "Basic User Guide. "
   ]
  },
  {
   "cell_type": "code",
   "execution_count": null,
   "metadata": {
    "scrolled": true
   },
   "outputs": [],
   "source": [
    "import openmdao.api as om\n",
    "from openmdao.test_suite.components.sellar_feature import SellarMDA\n",
    "\n",
    "import numpy as np\n",
    "\n",
    "# define Sellar MDA problem\n",
    "prob = om.Problem(model=SellarMDA())\n",
    "\n",
    "model = prob.model\n",
    "model.add_design_var('z', lower=np.array([-10.0, 0.0]),\n",
    "                          upper=np.array([10.0, 10.0]))\n",
    "model.add_design_var('x', lower=0.0, upper=10.0)\n",
    "model.add_objective('obj')\n",
    "model.add_constraint('con1', upper=0.0)\n",
    "model.add_constraint('con2', upper=0.0)\n",
    "\n",
    "prob.driver = om.ScipyOptimizeDriver(optimizer='SLSQP', tol=1e-9, disp=False, \n",
    "                                     debug_print=['desvars', 'objs'])\n",
    "\n",
    "prob.setup()\n",
    "\n",
    "# add recorder to the driver, model and cycle solver\n",
    "# recorder = om.SqliteRecorder('sellar.sql')\n",
    "# prob.driver.add_recorder(recorder)\n",
    "# prob.model.add_recorder(recorder)\n",
    "# prob.model.cycle.nonlinear_solver.add_recorder(recorder)\n",
    "\n",
    "# run the optimization\n",
    "# prob.model.set_solver_print(level=1)\n",
    "# prob.run_driver()\n",
    "# prob.cleanup()"
   ]
  },
  {
   "cell_type": "markdown",
   "metadata": {},
   "source": [
    "Having recorded our driver iterations and final problem state into the file \"sellar.sql\", we can now instantiate a `CaseViewerWidget` to quickly and easily generate plots of our output variables across iterations.\n",
    "\n",
    "Using the `Source` selector we can choose to inspect either the cases recorded by the driver, the model or the cycle solver.  Having chosen the source, we can then select the range of `Cases` to inspect and then finally the `Output` variables to plot.  Hold the CTRL or Shift key when clicking choosing variables for the Y axis to select multiple outputs."
   ]
  },
  {
   "cell_type": "code",
   "execution_count": null,
   "metadata": {},
   "outputs": [],
   "source": [
    "from openmdao.visualization.options_widget import OptionsWidget\n",
    "OptionsWidget(prob.driver.options);"
   ]
  },
  {
   "cell_type": "code",
   "execution_count": null,
   "metadata": {},
   "outputs": [],
   "source": [
    "from pprint import pprint\n",
    "pprint([f'{opt}: {prob.driver.options[opt]}' for opt in prob.driver.options])"
   ]
  },
  {
   "cell_type": "code",
   "execution_count": null,
   "metadata": {},
   "outputs": [],
   "source": [
    "from openmdao.visualization.options_widget import OptionsWidget\n",
    "OptionsWidget(prob.model.options);"
   ]
  }
 ],
 "metadata": {
  "celltoolbar": "Tags",
  "kernelspec": {
   "display_name": "Python 3",
   "language": "python",
   "name": "python3"
  },
  "language_info": {
   "codemirror_mode": {
    "name": "ipython",
    "version": 3
   },
   "file_extension": ".py",
   "mimetype": "text/x-python",
   "name": "python",
   "nbconvert_exporter": "python",
   "pygments_lexer": "ipython3",
   "version": "3.9.4"
  },
  "orphan": true
 },
 "nbformat": 4,
 "nbformat_minor": 4
}
