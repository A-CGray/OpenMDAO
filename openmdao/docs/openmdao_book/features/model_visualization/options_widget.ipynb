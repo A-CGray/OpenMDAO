{
 "cells": [
  {
   "cell_type": "code",
   "execution_count": 1,
   "metadata": {
    "tags": [
     "remove-input",
     "active-ipynb",
     "remove-output"
    ]
   },
   "outputs": [],
   "source": [
    "try:\n",
    "    from openmdao.utils.notebook_utils import notebook_mode\n",
    "except ImportError:\n",
    "    !python -m pip install openmdao[notebooks]"
   ]
  },
  {
   "cell_type": "markdown",
   "metadata": {},
   "source": [
    "# Inspecting Case Data\n",
    "\n",
    "## CaseViewerWidget\n",
    "\n",
    "When working in a Jupyter notebook, you can quickly get a plot of the data you have recorded from your analysis using a `CaseViewerWidget`.\n",
    "\n",
    "\n",
    "Here we show an example that uses the [Sellar MDA](../../basic_user_guide/multidisciplinary_optimization/sellar_opt.ipynb) model from the\n",
    "Basic User Guide. "
   ]
  },
  {
   "cell_type": "code",
   "execution_count": 2,
   "metadata": {
    "scrolled": true
   },
   "outputs": [
    {
     "data": {
      "text/plain": [
       "<openmdao.core.problem.Problem at 0x7f5c7c06d720>"
      ]
     },
     "execution_count": 2,
     "metadata": {},
     "output_type": "execute_result"
    }
   ],
   "source": [
    "import openmdao.api as om\n",
    "from openmdao.test_suite.components.sellar_feature import SellarMDA\n",
    "\n",
    "import numpy as np\n",
    "\n",
    "# define Sellar MDA problem\n",
    "prob = om.Problem(model=SellarMDA())\n",
    "\n",
    "model = prob.model\n",
    "model.add_design_var('z', lower=np.array([-10.0, 0.0]),\n",
    "                          upper=np.array([10.0, 10.0]))\n",
    "model.add_design_var('x', lower=0.0, upper=10.0)\n",
    "model.add_objective('obj')\n",
    "model.add_constraint('con1', upper=0.0)\n",
    "model.add_constraint('con2', upper=0.0)\n",
    "\n",
    "prob.driver = om.ScipyOptimizeDriver(optimizer='SLSQP', tol=1e-9, disp=False)\n",
    "\n",
    "prob.setup()\n",
    "\n",
    "# add recorder to the driver, model and cycle solver\n",
    "# recorder = om.SqliteRecorder('sellar.sql')\n",
    "# prob.driver.add_recorder(recorder)\n",
    "# prob.model.add_recorder(recorder)\n",
    "# prob.model.cycle.nonlinear_solver.add_recorder(recorder)\n",
    "\n",
    "# run the optimization\n",
    "# prob.model.set_solver_print(level=1)\n",
    "# prob.run_driver()\n",
    "# prob.cleanup()"
   ]
  },
  {
   "cell_type": "markdown",
   "metadata": {},
   "source": [
    "Having recorded our driver iterations and final problem state into the file \"sellar.sql\", we can now instantiate a `CaseViewerWidget` to quickly and easily generate plots of our output variables across iterations.\n",
    "\n",
    "Using the `Source` selector we can choose to inspect either the cases recorded by the driver, the model or the cycle solver.  Having chosen the source, we can then select the range of `Cases` to inspect and then finally the `Output` variables to plot.  Hold the CTRL or Shift key when clicking choosing variables for the Y axis to select multiple outputs."
   ]
  },
  {
   "cell_type": "code",
   "execution_count": 3,
   "metadata": {},
   "outputs": [
    {
     "name": "stdout",
     "output_type": "stream",
     "text": [
      "debug_print option={'val': [], 'values': None, 'types': <class 'list'>, 'desc': \"List of what type of Driver variables to print at each iteration. Valid items in list are 'desvars', 'ln_cons', 'nl_cons', 'objs', 'totals'\", 'upper': None, 'lower': None, 'check_valid': <function _check_debug_print_opts_valid at 0x7f5c8d124a60>, 'has_been_set': True, 'allow_none': False, 'recordable': True, 'deprecation': None}\n",
      "-----------\n",
      "optimizer option={'val': 'SLSQP', 'values': {'SLSQP', 'dual_annealing', 'L-BFGS-B', 'shgo', 'Newton-CG', 'Nelder-Mead', 'trust-constr', 'differential_evolution', 'BFGS', 'Powell', 'basinhopping', 'COBYLA', 'TNC', 'CG'}, 'types': None, 'desc': 'Name of optimizer to use', 'upper': None, 'lower': None, 'check_valid': None, 'has_been_set': True, 'allow_none': False, 'recordable': True, 'deprecation': None}\n",
      "-----------\n",
      "tol option={'val': 1e-09, 'values': None, 'types': None, 'desc': 'Tolerance for termination. For detailed control, use solver-specific options.', 'upper': None, 'lower': 0.0, 'check_valid': None, 'has_been_set': True, 'allow_none': False, 'recordable': True, 'deprecation': None}\n",
      "-----------\n",
      "maxiter option={'val': 200, 'values': None, 'types': None, 'desc': 'Maximum number of iterations.', 'upper': None, 'lower': 0, 'check_valid': None, 'has_been_set': True, 'allow_none': False, 'recordable': True, 'deprecation': None}\n",
      "-----------\n",
      "disp option={'val': False, 'values': (True, False), 'types': <class 'bool'>, 'desc': 'Set to False to prevent printing of Scipy convergence messages', 'upper': None, 'lower': None, 'check_valid': None, 'has_been_set': True, 'allow_none': False, 'recordable': True, 'deprecation': None}\n",
      "-----------\n",
      "singular_jac_behavior option={'val': 'warn', 'values': ['error', 'warn', 'ignore'], 'types': None, 'desc': \"Defines behavior of a zero row/col check after first call tocompute_totals:error - raise an error.warn - raise a warning.ignore - don't perform check.\", 'upper': None, 'lower': None, 'check_valid': None, 'has_been_set': True, 'allow_none': False, 'recordable': True, 'deprecation': None}\n",
      "-----------\n",
      "singular_jac_tol option={'val': 1e-16, 'values': None, 'types': None, 'desc': 'Tolerance for zero row/column check.', 'upper': None, 'lower': None, 'check_valid': None, 'has_been_set': True, 'allow_none': False, 'recordable': True, 'deprecation': None}\n",
      "-----------\n"
     ]
    },
    {
     "data": {
      "application/vnd.jupyter.widget-view+json": {
       "model_id": "50604e1ac1314ee3b9d6fd476fe33562",
       "version_major": 2,
       "version_minor": 0
      },
      "text/plain": [
       "SelectMultiple(description='debug_print', layout=Layout(width='50%'), options=(), style=DescriptionStyle(descr…"
      ]
     },
     "metadata": {},
     "output_type": "display_data"
    },
    {
     "data": {
      "application/vnd.jupyter.widget-view+json": {
       "model_id": "d3744e04a65641d5946bfdd9a8a29cd4",
       "version_major": 2,
       "version_minor": 0
      },
      "text/plain": [
       "Dropdown(description='optimizer', layout=Layout(width='50%'), options=('SLSQP', 'dual_annealing', 'L-BFGS-B', …"
      ]
     },
     "metadata": {},
     "output_type": "display_data"
    },
    {
     "data": {
      "application/vnd.jupyter.widget-view+json": {
       "model_id": "af944fcc6ffc426b90eaedff552face9",
       "version_major": 2,
       "version_minor": 0
      },
      "text/plain": [
       "IntText(value=0, description='tol', layout=Layout(width='50%'), style=DescriptionStyle(description_width='init…"
      ]
     },
     "metadata": {},
     "output_type": "display_data"
    },
    {
     "data": {
      "application/vnd.jupyter.widget-view+json": {
       "model_id": "9212ce91779c4c279f4a18c067571ded",
       "version_major": 2,
       "version_minor": 0
      },
      "text/plain": [
       "IntText(value=200, description='maxiter', layout=Layout(width='50%'), style=DescriptionStyle(description_width…"
      ]
     },
     "metadata": {},
     "output_type": "display_data"
    },
    {
     "data": {
      "application/vnd.jupyter.widget-view+json": {
       "model_id": "04bcaf190f324affba09f9c711b59ac4",
       "version_major": 2,
       "version_minor": 0
      },
      "text/plain": [
       "Dropdown(description='disp', index=1, layout=Layout(width='50%'), options=(True, False), style=DescriptionStyl…"
      ]
     },
     "metadata": {},
     "output_type": "display_data"
    },
    {
     "data": {
      "application/vnd.jupyter.widget-view+json": {
       "model_id": "f795a5e3483e42dab1ee88c8c0a7269f",
       "version_major": 2,
       "version_minor": 0
      },
      "text/plain": [
       "Dropdown(description='singular_jac_behavior', index=1, layout=Layout(width='50%'), options=('error', 'warn', '…"
      ]
     },
     "metadata": {},
     "output_type": "display_data"
    },
    {
     "data": {
      "application/vnd.jupyter.widget-view+json": {
       "model_id": "4ef501aec0824413ad30c245d853f2fa",
       "version_major": 2,
       "version_minor": 0
      },
      "text/plain": [
       "IntText(value=0, description='singular_jac_tol', layout=Layout(width='50%'), style=DescriptionStyle(descriptio…"
      ]
     },
     "metadata": {},
     "output_type": "display_data"
    }
   ],
   "source": [
    "from openmdao.visualization.options_widget import OptionsWidget\n",
    "OptionsWidget(prob.driver.options);"
   ]
  },
  {
   "cell_type": "code",
   "execution_count": 4,
   "metadata": {},
   "outputs": [
    {
     "name": "stdout",
     "output_type": "stream",
     "text": [
      "assembled_jac_type option={'val': 'csc', 'values': ['csc', 'dense'], 'types': None, 'desc': 'Linear solver(s) in this group or implicit component, if using an assembled jacobian, will use this type.', 'upper': None, 'lower': None, 'check_valid': None, 'has_been_set': True, 'allow_none': False, 'recordable': True, 'deprecation': None}\n",
      "-----------\n"
     ]
    },
    {
     "data": {
      "application/vnd.jupyter.widget-view+json": {
       "model_id": "7cbc6b38437041fb982c89bdaa5a17ab",
       "version_major": 2,
       "version_minor": 0
      },
      "text/plain": [
       "Dropdown(description='assembled_jac_type', layout=Layout(width='50%'), options=('csc', 'dense'), style=Descrip…"
      ]
     },
     "metadata": {},
     "output_type": "display_data"
    }
   ],
   "source": [
    "from openmdao.visualization.options_widget import OptionsWidget\n",
    "OptionsWidget(prob.model.options);"
   ]
  }
 ],
 "metadata": {
  "celltoolbar": "Tags",
  "kernelspec": {
   "display_name": "Python 3 (ipykernel)",
   "language": "python",
   "name": "python3"
  },
  "language_info": {
   "codemirror_mode": {
    "name": "ipython",
    "version": 3
   },
   "file_extension": ".py",
   "mimetype": "text/x-python",
   "name": "python",
   "nbconvert_exporter": "python",
   "pygments_lexer": "ipython3",
   "version": "3.10.0"
  },
  "orphan": true
 },
 "nbformat": 4,
 "nbformat_minor": 4
}
