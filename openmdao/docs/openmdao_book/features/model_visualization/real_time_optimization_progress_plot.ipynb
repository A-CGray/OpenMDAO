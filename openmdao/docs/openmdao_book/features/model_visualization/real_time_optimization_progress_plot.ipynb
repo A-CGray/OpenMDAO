{
 "cells": [
  {
   "cell_type": "code",
   "execution_count": null,
   "id": "f9f2925f",
   "metadata": {
    "tags": [
     "remove-input",
     "active-ipynb",
     "remove-output"
    ]
   },
   "outputs": [],
   "source": [
    "try:\n",
    "    from openmdao.utils.notebook_utils import notebook_mode  # noqa: F401\n",
    "except ImportError:\n",
    "    !python -m pip install openmdao[notebooks]"
   ]
  },
  {
   "attachments": {},
   "cell_type": "markdown",
   "id": "ee8e8873",
   "metadata": {},
   "source": [
    "# Using the Real-time Optimization Progress Plot\n",
    "\n",
    "The real-time optimization progress plot feature allows the user to see, in real-time the progress of an optimization run by plotting design variables, contstraints, and the objective.\n",
    "\n",
    "The plot feature launches a plotting app that runs in a browser.\n",
    "\n",
    "There two different ways that the plot can be used."
   ]
  },
  {
   "attachments": {},
   "cell_type": "markdown",
   "id": "c48021c2",
   "metadata": {},
   "source": [
    "## Running the plot as part of an optimization run\n",
    "\n",
    "The most common way to use this feature is to run the optimization script using \n",
    "\n",
    "```\n",
    "openmdao rtplot path_to_script.py\n",
    "```\n",
    "\n",
    "This will automatically launch the plotting app in a browser window at the appropriate time during the optimization run. \n",
    "\n",
    "The plot will then be periodically be updated as the results of driver iterations complete. "
   ]
  },
  {
   "cell_type": "markdown",
   "id": "5acdecaf",
   "metadata": {},
   "source": [
    "```{important}\n",
    "In order for this to work, the script must have a case recorder attached to the `Driver`.\n",
    "```"
   ]
  },
  {
   "cell_type": "markdown",
   "id": "10ba0143",
   "metadata": {},
   "source": [
    "## Running the plot separate from an optimization run\n",
    "\n",
    "This is used when you want to directly point the plotting feature at a case recorder file that contains driver iteration information. \n",
    "\n",
    "For example, let's say you have an optimization script named `optimize_system.py`. In that script, a case recorder is attached to the `Driver` like this:\n",
    "\n",
    "```\n",
    "prob.driver.add_recorder(SqliteRecorder(\"system_driver_recording.sql\"))\n",
    "```\n",
    "if you run that script:\n",
    "\n",
    "```\n",
    "python optimize_system.py\n",
    "```\n",
    "\n",
    "The result will be a case recorder file in \n",
    "\n",
    "```\n",
    "optimize_system_out/system_driver_recording.sql\n",
    "\n",
    "```\n",
    "\n",
    "Then to see a plot of the optimization progress:"
   ]
  },
  {
   "cell_type": "markdown",
   "id": "2ac29bfc",
   "metadata": {},
   "source": []
  },
  {
   "cell_type": "markdown",
   "id": "c1860288",
   "metadata": {},
   "source": [
    "```\n",
    "openmdao realtime_opt_plot optimize_system_out/system_driver_recording.sql\n",
    "```"
   ]
  },
  {
   "cell_type": "markdown",
   "id": "83cdd5bc",
   "metadata": {},
   "source": [
    "## Real-time Optimization Progress Plot User Interface\n",
    "\n",
    "The plot is very easy to use. Here is an example of what it can look like\n",
    "\n",
    "![real_time_optimization_progress_plot](images/real_time_optimization_progress_plot.png)\n"
   ]
  },
  {
   "cell_type": "markdown",
   "id": "c2c5dbc4",
   "metadata": {},
   "source": [
    "Variables can be plotted by clicking on the button containing their name. In the example above all of them have selected and plotted. \n",
    "\n",
    "The objective function axis is always on the left. Additional axes are created on the right as the user selects other variables to plot. \n",
    "\n",
    "The variables buttons also including information about the units and, if the variable is a vector, the shape of the vector. \n",
    "\n",
    "For a design variable that is a vector, like z in the plot, the plot shows the range of all the values in the vector. \n",
    "\n",
    "For constraints, if they are vectors, the plot shows worst case constraint, using the infinity norm function, which returns the maximum absolute value among all elements in the vector. \n",
    "\n",
    "This plot is created by running a small, local server using the Bokeh plotting library. To stop the server, the user can click on the Quit Application button in the upper right."
   ]
  }
 ],
 "metadata": {
  "celltoolbar": "Tags",
  "kernelspec": {
   "display_name": "Python 3 (ipykernel)",
   "language": "python",
   "name": "python3"
  },
  "language_info": {
   "codemirror_mode": {
    "name": "ipython",
    "version": 3
   },
   "file_extension": ".py",
   "mimetype": "text/x-python",
   "name": "python",
   "nbconvert_exporter": "python",
   "pygments_lexer": "ipython3",
   "version": "3.11.4"
  },
  "orphan": true
 },
 "nbformat": 4,
 "nbformat_minor": 5
}
