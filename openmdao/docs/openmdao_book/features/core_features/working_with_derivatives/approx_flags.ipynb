{
 "cells": [
  {
   "cell_type": "code",
   "execution_count": 1,
   "id": "cc7e3027",
   "metadata": {
    "tags": [
     "remove-input",
     "remove-output",
     "active-ipynb"
    ]
   },
   "outputs": [],
   "source": [
    "try:\n",
    "    import openmdao.api as om\n",
    "except ImportError:\n",
    "    !python -m pip install openmdao[notebooks]\n",
    "    import openmdao.api as om"
   ]
  },
  {
   "cell_type": "markdown",
   "id": "25b7f5f2",
   "metadata": {},
   "source": [
    "# How to know if a System is under FD or CS\n",
    "\n",
    "All Systems (Components and Groups) have two flags that indicate whether the System is running under finite difference or complex step.  The `under_finite_difference` flag is True if the System is being finite differenced and the `under_complex_step` flag is True if the System is being complex stepped.\n"
   ]
  },
  {
   "cell_type": "markdown",
   "id": "404246bb",
   "metadata": {},
   "source": [
    "## Usage\n",
    "\n",
    "\n",
    "First we'll show how to detect when a component is being finite differenced:"
   ]
  },
  {
   "cell_type": "code",
   "execution_count": 6,
   "id": "8e807dfd",
   "metadata": {},
   "outputs": [
    {
     "name": "stdout",
     "output_type": "stream",
     "text": [
      "comp is being finite differenced!\n"
     ]
    }
   ],
   "source": [
    "import numpy as np\n",
    "\n",
    "import openmdao.api as om\n",
    "\n",
    "class MyFDPartialComp(om.ExplicitComponent):\n",
    "    def setup(self):\n",
    "        self.num_fd_computes = 0\n",
    "\n",
    "        self.add_input('x')\n",
    "        self.add_output('y')\n",
    "\n",
    "    def setup_partials(self):\n",
    "        self.declare_partials('y', 'x', method='fd')\n",
    "\n",
    "    def compute(self, inputs, outputs):\n",
    "        outputs['y'] = 1.5 * inputs['x']\n",
    "        if self.under_finite_difference:\n",
    "            self.num_fd_computes += 1\n",
    "            print(f\"{self.pathname} is being finite differenced!\")\n",
    "\n",
    "        \n",
    "p = om.Problem()\n",
    "p.model.add_subsystem('comp', MyFDPartialComp())\n",
    "\n",
    "p.setup()\n",
    "p.run_model()\n",
    "\n",
    "# there shouldn't be any finite difference computes yet\n",
    "assert p.model.comp.num_fd_computes == 0\n",
    "\n",
    "totals = p.compute_totals(['comp.y'], ['comp.x'])\n",
    "\n",
    "# since we're doing forward difference, there should be 1 call to compute under fd\n",
    "assert p.model.comp.num_fd_computes == 1\n"
   ]
  },
  {
   "cell_type": "markdown",
   "id": "faa12919",
   "metadata": {},
   "source": [
    "Now we'll do the same thing for a complex stepped component:"
   ]
  },
  {
   "cell_type": "code",
   "execution_count": 7,
   "id": "11d0b2cc",
   "metadata": {},
   "outputs": [
    {
     "name": "stdout",
     "output_type": "stream",
     "text": [
      "comp is being complex stepped!\n"
     ]
    }
   ],
   "source": [
    "import numpy as np\n",
    "\n",
    "import openmdao.api as om\n",
    "\n",
    "class MyCSPartialComp(om.ExplicitComponent):\n",
    "    def setup(self):\n",
    "        self.num_cs_computes = 0\n",
    "\n",
    "        self.add_input('x')\n",
    "        self.add_output('y')\n",
    "\n",
    "    def setup_partials(self):\n",
    "        self.declare_partials('y', 'x', method='cs')\n",
    "\n",
    "    def compute(self, inputs, outputs):\n",
    "        outputs['y'] = 1.5 * inputs['x']\n",
    "        if self.under_complex_step:\n",
    "            self.num_cs_computes += 1\n",
    "            print(f\"{self.pathname} is being complex stepped!\")\n",
    "\n",
    "        \n",
    "p = om.Problem()\n",
    "p.model.add_subsystem('comp', MyCSPartialComp())\n",
    "\n",
    "p.setup()\n",
    "p.run_model()\n",
    "\n",
    "# there shouldn't be any complex step computes yet\n",
    "assert p.model.comp.num_cs_computes == 0\n",
    "\n",
    "totals = p.compute_totals(['comp.y'], ['comp.x'])\n",
    "\n",
    "# there should be 1 call to compute under cs\n",
    "assert p.model.comp.num_cs_computes == 1\n",
    "\n"
   ]
  }
 ],
 "metadata": {
  "celltoolbar": "Tags",
  "kernelspec": {
   "display_name": "Python 3",
   "language": "python",
   "name": "python3"
  },
  "language_info": {
   "codemirror_mode": {
    "name": "ipython",
    "version": 3
   },
   "file_extension": ".py",
   "mimetype": "text/x-python",
   "name": "python",
   "nbconvert_exporter": "python",
   "pygments_lexer": "ipython3",
   "version": "3.8.8"
  },
  "orphan": true
 },
 "nbformat": 4,
 "nbformat_minor": 5
}
