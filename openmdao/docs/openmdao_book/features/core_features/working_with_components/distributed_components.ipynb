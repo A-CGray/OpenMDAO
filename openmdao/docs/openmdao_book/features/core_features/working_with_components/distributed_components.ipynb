{
 "cells": [
  {
   "cell_type": "code",
   "execution_count": 1,
   "metadata": {
    "tags": [
     "remove-input",
     "active-ipynb",
     "remove-output"
    ]
   },
   "outputs": [
    {
     "name": "stdout",
     "output_type": "stream",
     "text": [
      "Populating the interactive namespace from numpy and matplotlib\n"
     ]
    }
   ],
   "source": [
    "%pylab inline\n",
    "from ipyparallel import Client, error\n",
    "cluster=Client(profile=\"mpi\")\n",
    "view=cluster[:]\n",
    "view.block=True\n",
    "\n",
    "try:\n",
    "    import openmdao.api as om\n",
    "except ImportError:\n",
    "    !python -m pip install openmdao[notebooks]\n",
    "    import openmdao.api as om"
   ]
  },
  {
   "cell_type": "markdown",
   "metadata": {},
   "source": [
    "```{note}\n",
    "This feature requires MPI, and may not be able to be run on Colab.\n",
    "```"
   ]
  },
  {
   "cell_type": "markdown",
   "metadata": {},
   "source": [
    "# Distributed Components\n",
    "\n",
    "At times when you need to perform a computation using large input arrays, you may want to perform that computation in multiple processes, where each process operates on some subset of the input values. This may be done purely for performance reasons, or it may be necessary because the entire input will not fit in the memory of a single machine. In any case, this can be accomplished in OpenMDAO using a distributed component. A distributed component is a component that operates on distributed variables. A variable is distributed if each process contains only a part of the whole variable.\n",
    "\n",
    "We’ve already seen that by using [src_indices](connect-with-src-indices) we can connect an input to only a subset of an output variable. By giving different values for src_indices in each MPI process, we can distribute computations on a distributed output across the processes.\n",
    "\n",
    "You tell the framework that a variable is distributed by setting its `distributed` option to True:\n",
    "\n",
    "\n",
    "\n",
    "\n",
    "                             desc='True if ALL variables in this component are distributed '\n",
    "                                  'across multiple processes.',\n",
    "                             deprecation=\"The 'distributed' option has been deprecated. Individual \"\n",
    "                                         \"inputs and outputs should be set as distributed instead,\"\n",
    "                                         \" using calls to add_input() or add_output().\")\n",
    "\n",
    "\n",
    "\n",
    "\n",
    "\n",
    "## Component Options"
   ]
  },
  {
   "cell_type": "code",
   "execution_count": 2,
   "metadata": {
    "tags": [
     "remove-input"
    ]
   },
   "outputs": [
    {
     "data": {
      "text/html": [
       "<table>\n",
       "<thead>\n",
       "<tr><th>Option            </th><th>Default  </th><th>Acceptable Values  </th><th>Acceptable Types  </th><th>Description                                                                                                                                                      </th></tr>\n",
       "</thead>\n",
       "<tbody>\n",
       "<tr><td>assembled_jac_type</td><td>csc      </td><td>[&#x27;csc&#x27;, &#x27;dense&#x27;]   </td><td>N/A               </td><td>Linear solver(s) in this group, if using an assembled jacobian, will use this type.                                                                              </td></tr>\n",
       "<tr><td>distributed       </td><td>False    </td><td>[True, False]      </td><td>[&#x27;bool&#x27;]          </td><td>True if ALL variables in this component are distributed across multiple processes.                                                                               </td></tr>\n",
       "<tr><td>run_root_only     </td><td>False    </td><td>[True, False]      </td><td>[&#x27;bool&#x27;]          </td><td>If True, call compute/compute_partials/linearize/apply_linear/apply_nonlinear/compute_jacvec_product only on rank 0 and broadcast the results to the other ranks.</td></tr>\n",
       "</tbody>\n",
       "</table>"
      ],
      "text/plain": [
       "<IPython.core.display.HTML object>"
      ]
     },
     "metadata": {},
     "output_type": "display_data"
    }
   ],
   "source": [
    "om.show_options_table(\"openmdao.core.component.Component\")"
   ]
  },
  {
   "cell_type": "markdown",
   "metadata": {},
   "source": [
    "```{note}\n",
    "If a Component is distributed then all of its outputs are distributed.\n",
    "```\n",
    "\n",
    "## Distributed Component Example\n",
    "\n",
    "The following example shows how to create a distributed component, *DistribComp*, that distributes its computation evenly across the available processes. A second component, *Summer*, sums the values from the distributed component into a scalar output value.\n",
    "\n",
    "These components can found in the OpenMDAO test suite:"
   ]
  },
  {
   "cell_type": "code",
   "execution_count": 3,
   "metadata": {},
   "outputs": [],
   "source": [
    "%%px \n",
    "\n",
    "from openmdao.utils.array_utils import evenly_distrib_idxs\n",
    "import openmdao.api as om\n",
    "\n",
    "class DistribComp(om.ExplicitComponent):\n",
    "    \"\"\"Simple Distributed Component.\"\"\"\n",
    "\n",
    "    def initialize(self):\n",
    "        self.options.declare('size', types=int, default=1,\n",
    "                             desc=\"Size of input and output vectors.\")\n",
    "\n",
    "    def setup(self):\n",
    "        comm = self.comm\n",
    "        rank = comm.rank\n",
    "\n",
    "        size = self.options['size']\n",
    "\n",
    "        # if comm.size is 2 and size is 15, this results in\n",
    "        # 8 entries for proc 0 and 7 entries for proc 1\n",
    "        sizes, offsets = evenly_distrib_idxs(comm.size, size)\n",
    "        mysize = sizes[rank]\n",
    "        start = offsets[rank]\n",
    "        end = start + mysize\n",
    "\n",
    "        self.add_input('invec', np.ones(mysize, float), distributed=True)\n",
    "        self.add_output('outvec', np.ones(mysize, float), distributed=True)\n",
    "\n",
    "    def compute(self, inputs, outputs):\n",
    "        if self.comm.rank == 0:\n",
    "            outputs['outvec'] = inputs['invec'] * 2.0\n",
    "        else:\n",
    "            outputs['outvec'] = inputs['invec'] * -3.0"
   ]
  },
  {
   "cell_type": "markdown",
   "metadata": {},
   "source": [
    "```{note}\n",
    "In this example component, we have explicitly specified *src_indices* when adding the input. This is not really necessary in this case, because it replicates the default behavior. If no *src_indices* are specified, OpenMDAO will assume an offset that is the sum of the sizes in all ranks up to the current rank and a range equal to the specified size (the size is given per the usual arguments to `add_input`).\n",
    "```"
   ]
  },
  {
   "cell_type": "code",
   "execution_count": 4,
   "metadata": {},
   "outputs": [],
   "source": [
    "%%px\n",
    "\n",
    "class Summer(om.ExplicitComponent):\n",
    "    \"\"\"Sums an input array.\"\"\"\n",
    "\n",
    "    def initialize(self):\n",
    "        self.options.declare('size', types=int, default=1, desc=\"Size of input vector.\")\n",
    "\n",
    "    def setup(self):\n",
    "        self.add_input('invec', np.ones(self.options['size'], float))\n",
    "\n",
    "        self.add_output('sum', 0.0, shape=1)\n",
    "\n",
    "    def compute(self, inputs, outputs):\n",
    "        outputs['sum'] = np.sum(inputs['invec'])"
   ]
  },
  {
   "cell_type": "markdown",
   "metadata": {},
   "source": [
    "```{note}\n",
    "A component that takes a distributed output as input does not need to do anything special as OpenMDAO performs the required MPI operations to make the full value available.\n",
    "```\n",
    "This example is run with four processes and a size of 15:"
   ]
  },
  {
   "cell_type": "code",
   "execution_count": 5,
   "metadata": {},
   "outputs": [
    {
     "data": {
      "text/html": [
       "<p><em>My name is <strong>None</strong></em>!</p>"
      ],
      "text/plain": [
       "\u001b[0;31mOut[0:189]: \u001b[0m<openmdao.core.problem.Problem at 0x7fdc503aab50>"
      ]
     },
     "metadata": {
      "after": [],
      "completed": "2021-06-02T13:18:01.971219",
      "data": {},
      "engine_id": 0,
      "engine_uuid": "b08b36f1-d5fce5a0a713306b9ba29fff",
      "error": null,
      "execute_input": "\nimport numpy as np\nimport openmdao.api as om\n\nsize = 15\n\nmodel = om.Group()\nprob = om.Problem(model)\n\n# Distributed component \"C2\" requires an IndepVarComp to supply inputs.\nindep = model.add_subsystem(\"indep\", om.IndepVarComp())\nindep.add_output('x', np.zeros(size), distributed=True)\nmodel.add_subsystem(\"C2\", DistribComp(size=size))\n\nmodel.add_subsystem(\"C3\", Summer(size=size))\n\ncomm = prob.comm\nrank = comm.rank\nsizes, offsets = evenly_distrib_idxs(comm.size, size)\nmysize = sizes[rank]\nstart = offsets[rank]\nend = start + mysize\n\nmodel.connect('indep.x', 'C2.invec', src_indices=np.arange(start, end, dtype=int))\nmodel.connect('C2.outvec', 'C3.invec', src_indices=om.slicer[:])\n\nprob.setup()\n",
      "execute_result": {
       "data": {
        "text/html": "<p><em>My name is <strong>None</strong></em>!</p>",
        "text/plain": "<openmdao.core.problem.Problem at 0x7fdc503aab50>"
       },
       "execution_count": 189,
       "metadata": {}
      },
      "follow": [],
      "msg_id": "b02fd8ce-99cf9bd693056bba22653fe4_9",
      "outputs": [],
      "received": "2021-06-02T13:18:01.976362",
      "started": "2021-06-02T13:18:01.944432",
      "status": "ok",
      "stderr": "",
      "stdout": "",
      "submitted": "2021-06-02T13:18:01.940593"
     },
     "output_type": "display_data"
    },
    {
     "data": {
      "text/html": [
       "<p><em>My name is <strong>None</strong></em>!</p>"
      ],
      "text/plain": [
       "\u001b[0;31mOut[1:189]: \u001b[0m<openmdao.core.problem.Problem at 0x7fa0d82d1850>"
      ]
     },
     "metadata": {
      "after": [],
      "completed": "2021-06-02T13:18:01.970339",
      "data": {},
      "engine_id": 1,
      "engine_uuid": "837e0b94-e687643489dee0546ecac058",
      "error": null,
      "execute_input": "\nimport numpy as np\nimport openmdao.api as om\n\nsize = 15\n\nmodel = om.Group()\nprob = om.Problem(model)\n\n# Distributed component \"C2\" requires an IndepVarComp to supply inputs.\nindep = model.add_subsystem(\"indep\", om.IndepVarComp())\nindep.add_output('x', np.zeros(size), distributed=True)\nmodel.add_subsystem(\"C2\", DistribComp(size=size))\n\nmodel.add_subsystem(\"C3\", Summer(size=size))\n\ncomm = prob.comm\nrank = comm.rank\nsizes, offsets = evenly_distrib_idxs(comm.size, size)\nmysize = sizes[rank]\nstart = offsets[rank]\nend = start + mysize\n\nmodel.connect('indep.x', 'C2.invec', src_indices=np.arange(start, end, dtype=int))\nmodel.connect('C2.outvec', 'C3.invec', src_indices=om.slicer[:])\n\nprob.setup()\n",
      "execute_result": {
       "data": {
        "text/html": "<p><em>My name is <strong>None</strong></em>!</p>",
        "text/plain": "<openmdao.core.problem.Problem at 0x7fa0d82d1850>"
       },
       "execution_count": 189,
       "metadata": {}
      },
      "follow": [],
      "msg_id": "b02fd8ce-99cf9bd693056bba22653fe4_10",
      "outputs": [],
      "received": "2021-06-02T13:18:01.974478",
      "started": "2021-06-02T13:18:01.945097",
      "status": "ok",
      "stderr": "",
      "stdout": "",
      "submitted": "2021-06-02T13:18:01.941012"
     },
     "output_type": "display_data"
    },
    {
     "data": {
      "text/html": [
       "<p><em>My name is <strong>None</strong></em>!</p>"
      ],
      "text/plain": [
       "\u001b[0;31mOut[2:189]: \u001b[0m<openmdao.core.problem.Problem at 0x7fe9853f9a90>"
      ]
     },
     "metadata": {
      "after": [],
      "completed": "2021-06-02T13:18:01.970581",
      "data": {},
      "engine_id": 2,
      "engine_uuid": "90dac9aa-4ed103a8aefa6cbc3a17b626",
      "error": null,
      "execute_input": "\nimport numpy as np\nimport openmdao.api as om\n\nsize = 15\n\nmodel = om.Group()\nprob = om.Problem(model)\n\n# Distributed component \"C2\" requires an IndepVarComp to supply inputs.\nindep = model.add_subsystem(\"indep\", om.IndepVarComp())\nindep.add_output('x', np.zeros(size), distributed=True)\nmodel.add_subsystem(\"C2\", DistribComp(size=size))\n\nmodel.add_subsystem(\"C3\", Summer(size=size))\n\ncomm = prob.comm\nrank = comm.rank\nsizes, offsets = evenly_distrib_idxs(comm.size, size)\nmysize = sizes[rank]\nstart = offsets[rank]\nend = start + mysize\n\nmodel.connect('indep.x', 'C2.invec', src_indices=np.arange(start, end, dtype=int))\nmodel.connect('C2.outvec', 'C3.invec', src_indices=om.slicer[:])\n\nprob.setup()\n",
      "execute_result": {
       "data": {
        "text/html": "<p><em>My name is <strong>None</strong></em>!</p>",
        "text/plain": "<openmdao.core.problem.Problem at 0x7fe9853f9a90>"
       },
       "execution_count": 189,
       "metadata": {}
      },
      "follow": [],
      "msg_id": "b02fd8ce-99cf9bd693056bba22653fe4_11",
      "outputs": [],
      "received": "2021-06-02T13:18:01.977408",
      "started": "2021-06-02T13:18:01.945475",
      "status": "ok",
      "stderr": "",
      "stdout": "",
      "submitted": "2021-06-02T13:18:01.941310"
     },
     "output_type": "display_data"
    },
    {
     "data": {
      "text/html": [
       "<p><em>My name is <strong>None</strong></em>!</p>"
      ],
      "text/plain": [
       "\u001b[0;31mOut[3:189]: \u001b[0m<openmdao.core.problem.Problem at 0x7fa2febfddf0>"
      ]
     },
     "metadata": {
      "after": [],
      "completed": "2021-06-02T13:18:01.970567",
      "data": {},
      "engine_id": 3,
      "engine_uuid": "f07e866c-32e4f884086266e980c78109",
      "error": null,
      "execute_input": "\nimport numpy as np\nimport openmdao.api as om\n\nsize = 15\n\nmodel = om.Group()\nprob = om.Problem(model)\n\n# Distributed component \"C2\" requires an IndepVarComp to supply inputs.\nindep = model.add_subsystem(\"indep\", om.IndepVarComp())\nindep.add_output('x', np.zeros(size), distributed=True)\nmodel.add_subsystem(\"C2\", DistribComp(size=size))\n\nmodel.add_subsystem(\"C3\", Summer(size=size))\n\ncomm = prob.comm\nrank = comm.rank\nsizes, offsets = evenly_distrib_idxs(comm.size, size)\nmysize = sizes[rank]\nstart = offsets[rank]\nend = start + mysize\n\nmodel.connect('indep.x', 'C2.invec', src_indices=np.arange(start, end, dtype=int))\nmodel.connect('C2.outvec', 'C3.invec', src_indices=om.slicer[:])\n\nprob.setup()\n",
      "execute_result": {
       "data": {
        "text/html": "<p><em>My name is <strong>None</strong></em>!</p>",
        "text/plain": "<openmdao.core.problem.Problem at 0x7fa2febfddf0>"
       },
       "execution_count": 189,
       "metadata": {}
      },
      "follow": [],
      "msg_id": "b02fd8ce-99cf9bd693056bba22653fe4_12",
      "outputs": [],
      "received": "2021-06-02T13:18:01.975206",
      "started": "2021-06-02T13:18:01.945589",
      "status": "ok",
      "stderr": "",
      "stdout": "",
      "submitted": "2021-06-02T13:18:01.941472"
     },
     "output_type": "display_data"
    }
   ],
   "source": [
    "%%px \n",
    "\n",
    "import numpy as np\n",
    "import openmdao.api as om\n",
    "\n",
    "size = 15\n",
    "\n",
    "model = om.Group()\n",
    "prob = om.Problem(model)\n",
    "\n",
    "# Distributed component \"C2\" requires an IndepVarComp to supply inputs.\n",
    "indep = model.add_subsystem(\"indep\", om.IndepVarComp())\n",
    "indep.add_output('x', np.zeros(size), distributed=True)\n",
    "model.add_subsystem(\"C2\", DistribComp(size=size))\n",
    "\n",
    "model.add_subsystem(\"C3\", Summer(size=size))\n",
    "\n",
    "comm = prob.comm\n",
    "rank = comm.rank\n",
    "sizes, offsets = evenly_distrib_idxs(comm.size, size)\n",
    "mysize = sizes[rank]\n",
    "start = offsets[rank]\n",
    "end = start + mysize\n",
    "\n",
    "model.connect('indep.x', 'C2.invec', src_indices=np.arange(start, end, dtype=int))\n",
    "model.connect('C2.outvec', 'C3.invec', src_indices=om.slicer[:])\n",
    "\n",
    "prob.setup()"
   ]
  },
  {
   "cell_type": "code",
   "execution_count": 6,
   "metadata": {},
   "outputs": [
    {
     "name": "stdout",
     "output_type": "stream",
     "text": [
      "[stdout:0] [1. 1. 1. 1. 1. 1. 1. 1. 1. 1. 1. 1. 1. 1. 1.]\n",
      "[stdout:1] [1. 1. 1. 1. 1. 1. 1. 1. 1. 1. 1. 1. 1. 1. 1.]\n",
      "[stdout:2] [1. 1. 1. 1. 1. 1. 1. 1. 1. 1. 1. 1. 1. 1. 1.]\n",
      "[stdout:3] [1. 1. 1. 1. 1. 1. 1. 1. 1. 1. 1. 1. 1. 1. 1.]\n"
     ]
    }
   ],
   "source": [
    "%%px\n",
    "\n",
    "prob.set_val('indep.x', np.ones(size))\n",
    "prob.run_model()\n",
    "\n",
    "print(prob.get_val('C2.invec', get_remote=True))"
   ]
  },
  {
   "cell_type": "code",
   "execution_count": 7,
   "metadata": {},
   "outputs": [
    {
     "name": "stdout",
     "output_type": "stream",
     "text": [
      "[stdout:0] [2. 2. 2. 2.]\n",
      "[stdout:1] [-3. -3. -3. -3.]\n",
      "[stdout:2] [-3. -3. -3. -3.]\n",
      "[stdout:3] [-3. -3. -3.]\n"
     ]
    }
   ],
   "source": [
    "%%px\n",
    "\n",
    "print(prob.get_val('C2.outvec'))"
   ]
  },
  {
   "cell_type": "code",
   "execution_count": 8,
   "metadata": {},
   "outputs": [
    {
     "name": "stdout",
     "output_type": "stream",
     "text": [
      "[stdout:0] [-25.]\n",
      "[stdout:1] [-25.]\n",
      "[stdout:2] [-25.]\n",
      "[stdout:3] [-25.]\n"
     ]
    }
   ],
   "source": [
    "%%px\n",
    "\n",
    "print(prob.get_val('C3.sum'))"
   ]
  },
  {
   "cell_type": "code",
   "execution_count": 9,
   "metadata": {
    "tags": [
     "remove-output",
     "remove-input"
    ]
   },
   "outputs": [
    {
     "data": {
      "text/plain": [
       "\u001b[0;31mOut[0:193]: \u001b[0m0.0"
      ]
     },
     "metadata": {
      "after": [],
      "completed": "2021-06-02T13:18:02.123158",
      "data": {},
      "engine_id": 0,
      "engine_uuid": "b08b36f1-d5fce5a0a713306b9ba29fff",
      "error": null,
      "execute_input": "\nfrom openmdao.utils.assert_utils import assert_near_equal\n\nassert_near_equal(prob.get_val('C3.sum'), -25.)\n",
      "execute_result": {
       "data": {
        "text/plain": "0.0"
       },
       "execution_count": 193,
       "metadata": {}
      },
      "follow": [],
      "msg_id": "b02fd8ce-99cf9bd693056bba22653fe4_25",
      "outputs": [],
      "received": "2021-06-02T13:18:02.127385",
      "started": "2021-06-02T13:18:02.117470",
      "status": "ok",
      "stderr": "",
      "stdout": "",
      "submitted": "2021-06-02T13:18:02.114091"
     },
     "output_type": "display_data"
    },
    {
     "data": {
      "text/plain": [
       "\u001b[0;31mOut[1:193]: \u001b[0m0.0"
      ]
     },
     "metadata": {
      "after": [],
      "completed": "2021-06-02T13:18:02.124979",
      "data": {},
      "engine_id": 1,
      "engine_uuid": "837e0b94-e687643489dee0546ecac058",
      "error": null,
      "execute_input": "\nfrom openmdao.utils.assert_utils import assert_near_equal\n\nassert_near_equal(prob.get_val('C3.sum'), -25.)\n",
      "execute_result": {
       "data": {
        "text/plain": "0.0"
       },
       "execution_count": 193,
       "metadata": {}
      },
      "follow": [],
      "msg_id": "b02fd8ce-99cf9bd693056bba22653fe4_26",
      "outputs": [],
      "received": "2021-06-02T13:18:02.128916",
      "started": "2021-06-02T13:18:02.118038",
      "status": "ok",
      "stderr": "",
      "stdout": "",
      "submitted": "2021-06-02T13:18:02.114258"
     },
     "output_type": "display_data"
    },
    {
     "data": {
      "text/plain": [
       "\u001b[0;31mOut[2:193]: \u001b[0m0.0"
      ]
     },
     "metadata": {
      "after": [],
      "completed": "2021-06-02T13:18:02.125084",
      "data": {},
      "engine_id": 2,
      "engine_uuid": "90dac9aa-4ed103a8aefa6cbc3a17b626",
      "error": null,
      "execute_input": "\nfrom openmdao.utils.assert_utils import assert_near_equal\n\nassert_near_equal(prob.get_val('C3.sum'), -25.)\n",
      "execute_result": {
       "data": {
        "text/plain": "0.0"
       },
       "execution_count": 193,
       "metadata": {}
      },
      "follow": [],
      "msg_id": "b02fd8ce-99cf9bd693056bba22653fe4_27",
      "outputs": [],
      "received": "2021-06-02T13:18:02.130436",
      "started": "2021-06-02T13:18:02.118079",
      "status": "ok",
      "stderr": "",
      "stdout": "",
      "submitted": "2021-06-02T13:18:02.114369"
     },
     "output_type": "display_data"
    },
    {
     "data": {
      "text/plain": [
       "\u001b[0;31mOut[3:193]: \u001b[0m0.0"
      ]
     },
     "metadata": {
      "after": [],
      "completed": "2021-06-02T13:18:02.125034",
      "data": {},
      "engine_id": 3,
      "engine_uuid": "f07e866c-32e4f884086266e980c78109",
      "error": null,
      "execute_input": "\nfrom openmdao.utils.assert_utils import assert_near_equal\n\nassert_near_equal(prob.get_val('C3.sum'), -25.)\n",
      "execute_result": {
       "data": {
        "text/plain": "0.0"
       },
       "execution_count": 193,
       "metadata": {}
      },
      "follow": [],
      "msg_id": "b02fd8ce-99cf9bd693056bba22653fe4_28",
      "outputs": [],
      "received": "2021-06-02T13:18:02.131634",
      "started": "2021-06-02T13:18:02.118815",
      "status": "ok",
      "stderr": "",
      "stdout": "",
      "submitted": "2021-06-02T13:18:02.114487"
     },
     "output_type": "display_data"
    }
   ],
   "source": [
    "%%px\n",
    "\n",
    "from openmdao.utils.assert_utils import assert_near_equal\n",
    "\n",
    "assert_near_equal(prob.get_val('C3.sum'), -25.)"
   ]
  },
  {
   "cell_type": "markdown",
   "metadata": {},
   "source": [
    "```{note}\n",
    "In this example, we introduce a new component called an [IndepVarComp](indepvarcomp.ipynb). If you used OpenMDAO prior to version 3.2, then you are familiar with this component. It is used to define an independent variable.\n",
    "\n",
    "You usually do not have to define these because OpenMDAO defines and uses them automatically for all unconnected inputs in your model. However, when we define a distributed input, we often use the “src_indices” attribute to determine the allocation of that input to the processors that the component sees. For some sets of these indices, it isn’t possible to easily determine the full size of the corresponding independent variable, and the *IndepVarComp* cannot be created automatically. So, for unconnected inputs on a distributed component, you must manually create one, as we did in this example.\n",
    "```\n",
    "\n",
    "## Distributed Component with Derivatives\n",
    "\n",
    "Derivatives can be computed for distributed components as shown in the following variation on the example. Also, in this version, we have taken advantage of the automatic determination of *src_indices*."
   ]
  },
  {
   "cell_type": "code",
   "execution_count": 10,
   "metadata": {},
   "outputs": [],
   "source": [
    "%%px \n",
    "\n",
    "class DistribCompDerivs(om.ExplicitComponent):\n",
    "    \"\"\"Simple Distributed Component with Derivatives.\"\"\"\n",
    "\n",
    "    def initialize(self):\n",
    "        self.options.declare('size', types=int, default=1,\n",
    "                             desc=\"Size of input and output vectors.\")\n",
    "\n",
    "    def setup(self):\n",
    "        comm = self.comm\n",
    "        rank = comm.rank\n",
    "\n",
    "        size = self.options['size']\n",
    "\n",
    "        # if comm.size is 2 and size is 15, this results in\n",
    "        # 8 entries for proc 0 and 7 entries for proc 1\n",
    "        sizes, _ = evenly_distrib_idxs(comm.size, size)\n",
    "        self.mysize = mysize = sizes[rank]\n",
    "\n",
    "        # don't set src_indices on the input, just use default behavior\n",
    "        self.add_input('invec', np.ones(mysize, float),distributed=True)\n",
    "        self.add_output('outvec', np.ones(mysize, float),distributed=True)\n",
    "\n",
    "    def setup_partials(self):\n",
    "        # declare partial derivatives (diagonal of mysize)\n",
    "        self.declare_partials('outvec', 'invec',\n",
    "                              rows=np.arange(0, self.mysize),\n",
    "                              cols=np.arange(0, self.mysize))\n",
    "\n",
    "    def compute(self, inputs, outputs):\n",
    "        if self.comm.rank == 0:\n",
    "            outputs['outvec'] = inputs['invec'] * 2.0\n",
    "        else:\n",
    "            outputs['outvec'] = inputs['invec'] * -3.0\n",
    "\n",
    "    def compute_partials(self, inputs, J):\n",
    "        # get mysize from the input vector for this process\n",
    "        mysize = inputs['invec'].size\n",
    "\n",
    "        if self.comm.rank == 0:\n",
    "            J['outvec', 'invec'] = np.ones((mysize,)) * 2.0\n",
    "        else:\n",
    "            J['outvec', 'invec'] = np.ones((mysize,)) * -3.0"
   ]
  },
  {
   "cell_type": "code",
   "execution_count": 11,
   "metadata": {},
   "outputs": [],
   "source": [
    "%%px\n",
    "\n",
    "class SummerDerivs(om.ExplicitComponent):\n",
    "    \"\"\"Sums an input array.\"\"\"\n",
    "\n",
    "    def initialize(self):\n",
    "        self.options.declare('size', types=int, default=1,\n",
    "                             desc=\"Size of input and output vectors.\")\n",
    "\n",
    "    def setup(self):\n",
    "        self.add_input('invec', np.ones(self.options['size'], float))\n",
    "\n",
    "        self.add_output('sum', 0.0, shape=1)\n",
    "\n",
    "    def setup_partials(self):\n",
    "        # the derivative is constant\n",
    "        self.declare_partials('sum', 'invec', val=1.)\n",
    "\n",
    "    def compute(self, inputs, outputs):\n",
    "        outputs['sum'] = np.sum(inputs['invec'])"
   ]
  },
  {
   "cell_type": "markdown",
   "metadata": {},
   "source": [
    "This example is again run with four processes and a `size` of 15. We can use [assert_check_partials](../working_with_derivatives/unit_testing_partials) to verify that the partial derivatives are calculated correctly."
   ]
  },
  {
   "cell_type": "code",
   "execution_count": 12,
   "metadata": {
    "tags": [
     "allow-assert"
    ]
   },
   "outputs": [
    {
     "data": {
      "text/html": [
       "<p><em>My name is <strong>None</strong></em>!</p>"
      ],
      "text/plain": [
       "\u001b[0;31mOut[0:196]: \u001b[0m<openmdao.core.problem.Problem at 0x7fdc5041fe80>"
      ]
     },
     "metadata": {
      "after": [],
      "completed": "2021-06-02T13:18:02.256939",
      "data": {},
      "engine_id": 0,
      "engine_uuid": "b08b36f1-d5fce5a0a713306b9ba29fff",
      "error": null,
      "execute_input": "\nimport numpy as np\nimport openmdao.api as om\nfrom openmdao.utils.assert_utils import assert_check_partials, assert_near_equal\n\nsize = 15\n\nmodel = om.Group()\n\n# Distributed component \"C2\" requires an IndepVarComp to supply inputs.\nindep = model.add_subsystem(\"indep\", om.IndepVarComp())\nindep.add_output('x', np.zeros(size), distributed=True)\nmodel.add_subsystem(\"C2\", DistribCompDerivs(size=size))\nmodel.add_subsystem(\"C3\", SummerDerivs(size=size))\n\nmodel.connect('indep.x', 'C2.invec')\nmodel.connect('C2.outvec', 'C3.invec', src_indices=om.slicer[:])\n\nprob = om.Problem(model)\nprob.setup()\n\n# prob.set_val('indep.x', np.ones(size))\n# prob.run_model()\n\n# print(prob.get_val('C2.invec', get_remote=True))\n# print(prob.get_val('C2.outvec'))\n# print(prob.get_val('C3.sum'))\n\n# assert_check_partials(prob.check_partials())\n\n# J = prob.compute_totals(of=['C2.outvec'], wrt=['indep.x'])\n\n# actual = J[('C2.outvec', 'indep.x')]\n# expected = np.eye(15)*np.append(2*np.ones(4), -3*np.ones(11))\n# expected = np.append(expected, np.zeros((15,45)),axis=1)\n# assert_near_equal(actual, expected)\n",
      "execute_result": {
       "data": {
        "text/html": "<p><em>My name is <strong>None</strong></em>!</p>",
        "text/plain": "<openmdao.core.problem.Problem at 0x7fdc5041fe80>"
       },
       "execution_count": 196,
       "metadata": {}
      },
      "follow": [],
      "msg_id": "b02fd8ce-99cf9bd693056bba22653fe4_37",
      "outputs": [],
      "received": "2021-06-02T13:18:02.260955",
      "started": "2021-06-02T13:18:02.240587",
      "status": "ok",
      "stderr": "",
      "stdout": "",
      "submitted": "2021-06-02T13:18:02.233160"
     },
     "output_type": "display_data"
    },
    {
     "data": {
      "text/html": [
       "<p><em>My name is <strong>None</strong></em>!</p>"
      ],
      "text/plain": [
       "\u001b[0;31mOut[1:196]: \u001b[0m<openmdao.core.problem.Problem at 0x7fa0d805fb20>"
      ]
     },
     "metadata": {
      "after": [],
      "completed": "2021-06-02T13:18:02.257298",
      "data": {},
      "engine_id": 1,
      "engine_uuid": "837e0b94-e687643489dee0546ecac058",
      "error": null,
      "execute_input": "\nimport numpy as np\nimport openmdao.api as om\nfrom openmdao.utils.assert_utils import assert_check_partials, assert_near_equal\n\nsize = 15\n\nmodel = om.Group()\n\n# Distributed component \"C2\" requires an IndepVarComp to supply inputs.\nindep = model.add_subsystem(\"indep\", om.IndepVarComp())\nindep.add_output('x', np.zeros(size), distributed=True)\nmodel.add_subsystem(\"C2\", DistribCompDerivs(size=size))\nmodel.add_subsystem(\"C3\", SummerDerivs(size=size))\n\nmodel.connect('indep.x', 'C2.invec')\nmodel.connect('C2.outvec', 'C3.invec', src_indices=om.slicer[:])\n\nprob = om.Problem(model)\nprob.setup()\n\n# prob.set_val('indep.x', np.ones(size))\n# prob.run_model()\n\n# print(prob.get_val('C2.invec', get_remote=True))\n# print(prob.get_val('C2.outvec'))\n# print(prob.get_val('C3.sum'))\n\n# assert_check_partials(prob.check_partials())\n\n# J = prob.compute_totals(of=['C2.outvec'], wrt=['indep.x'])\n\n# actual = J[('C2.outvec', 'indep.x')]\n# expected = np.eye(15)*np.append(2*np.ones(4), -3*np.ones(11))\n# expected = np.append(expected, np.zeros((15,45)),axis=1)\n# assert_near_equal(actual, expected)\n",
      "execute_result": {
       "data": {
        "text/html": "<p><em>My name is <strong>None</strong></em>!</p>",
        "text/plain": "<openmdao.core.problem.Problem at 0x7fa0d805fb20>"
       },
       "execution_count": 196,
       "metadata": {}
      },
      "follow": [],
      "msg_id": "b02fd8ce-99cf9bd693056bba22653fe4_38",
      "outputs": [],
      "received": "2021-06-02T13:18:02.264292",
      "started": "2021-06-02T13:18:02.240757",
      "status": "ok",
      "stderr": "",
      "stdout": "",
      "submitted": "2021-06-02T13:18:02.233590"
     },
     "output_type": "display_data"
    },
    {
     "data": {
      "text/html": [
       "<p><em>My name is <strong>None</strong></em>!</p>"
      ],
      "text/plain": [
       "\u001b[0;31mOut[2:196]: \u001b[0m<openmdao.core.problem.Problem at 0x7fe984f1b610>"
      ]
     },
     "metadata": {
      "after": [],
      "completed": "2021-06-02T13:18:02.257188",
      "data": {},
      "engine_id": 2,
      "engine_uuid": "90dac9aa-4ed103a8aefa6cbc3a17b626",
      "error": null,
      "execute_input": "\nimport numpy as np\nimport openmdao.api as om\nfrom openmdao.utils.assert_utils import assert_check_partials, assert_near_equal\n\nsize = 15\n\nmodel = om.Group()\n\n# Distributed component \"C2\" requires an IndepVarComp to supply inputs.\nindep = model.add_subsystem(\"indep\", om.IndepVarComp())\nindep.add_output('x', np.zeros(size), distributed=True)\nmodel.add_subsystem(\"C2\", DistribCompDerivs(size=size))\nmodel.add_subsystem(\"C3\", SummerDerivs(size=size))\n\nmodel.connect('indep.x', 'C2.invec')\nmodel.connect('C2.outvec', 'C3.invec', src_indices=om.slicer[:])\n\nprob = om.Problem(model)\nprob.setup()\n\n# prob.set_val('indep.x', np.ones(size))\n# prob.run_model()\n\n# print(prob.get_val('C2.invec', get_remote=True))\n# print(prob.get_val('C2.outvec'))\n# print(prob.get_val('C3.sum'))\n\n# assert_check_partials(prob.check_partials())\n\n# J = prob.compute_totals(of=['C2.outvec'], wrt=['indep.x'])\n\n# actual = J[('C2.outvec', 'indep.x')]\n# expected = np.eye(15)*np.append(2*np.ones(4), -3*np.ones(11))\n# expected = np.append(expected, np.zeros((15,45)),axis=1)\n# assert_near_equal(actual, expected)\n",
      "execute_result": {
       "data": {
        "text/html": "<p><em>My name is <strong>None</strong></em>!</p>",
        "text/plain": "<openmdao.core.problem.Problem at 0x7fe984f1b610>"
       },
       "execution_count": 196,
       "metadata": {}
      },
      "follow": [],
      "msg_id": "b02fd8ce-99cf9bd693056bba22653fe4_39",
      "outputs": [],
      "received": "2021-06-02T13:18:02.263190",
      "started": "2021-06-02T13:18:02.240700",
      "status": "ok",
      "stderr": "",
      "stdout": "",
      "submitted": "2021-06-02T13:18:02.234552"
     },
     "output_type": "display_data"
    },
    {
     "data": {
      "text/html": [
       "<p><em>My name is <strong>None</strong></em>!</p>"
      ],
      "text/plain": [
       "\u001b[0;31mOut[3:196]: \u001b[0m<openmdao.core.problem.Problem at 0x7fa2fea3afd0>"
      ]
     },
     "metadata": {
      "after": [],
      "completed": "2021-06-02T13:18:02.257242",
      "data": {},
      "engine_id": 3,
      "engine_uuid": "f07e866c-32e4f884086266e980c78109",
      "error": null,
      "execute_input": "\nimport numpy as np\nimport openmdao.api as om\nfrom openmdao.utils.assert_utils import assert_check_partials, assert_near_equal\n\nsize = 15\n\nmodel = om.Group()\n\n# Distributed component \"C2\" requires an IndepVarComp to supply inputs.\nindep = model.add_subsystem(\"indep\", om.IndepVarComp())\nindep.add_output('x', np.zeros(size), distributed=True)\nmodel.add_subsystem(\"C2\", DistribCompDerivs(size=size))\nmodel.add_subsystem(\"C3\", SummerDerivs(size=size))\n\nmodel.connect('indep.x', 'C2.invec')\nmodel.connect('C2.outvec', 'C3.invec', src_indices=om.slicer[:])\n\nprob = om.Problem(model)\nprob.setup()\n\n# prob.set_val('indep.x', np.ones(size))\n# prob.run_model()\n\n# print(prob.get_val('C2.invec', get_remote=True))\n# print(prob.get_val('C2.outvec'))\n# print(prob.get_val('C3.sum'))\n\n# assert_check_partials(prob.check_partials())\n\n# J = prob.compute_totals(of=['C2.outvec'], wrt=['indep.x'])\n\n# actual = J[('C2.outvec', 'indep.x')]\n# expected = np.eye(15)*np.append(2*np.ones(4), -3*np.ones(11))\n# expected = np.append(expected, np.zeros((15,45)),axis=1)\n# assert_near_equal(actual, expected)\n",
      "execute_result": {
       "data": {
        "text/html": "<p><em>My name is <strong>None</strong></em>!</p>",
        "text/plain": "<openmdao.core.problem.Problem at 0x7fa2fea3afd0>"
       },
       "execution_count": 196,
       "metadata": {}
      },
      "follow": [],
      "msg_id": "b02fd8ce-99cf9bd693056bba22653fe4_40",
      "outputs": [],
      "received": "2021-06-02T13:18:02.262046",
      "started": "2021-06-02T13:18:02.240704",
      "status": "ok",
      "stderr": "",
      "stdout": "",
      "submitted": "2021-06-02T13:18:02.234983"
     },
     "output_type": "display_data"
    }
   ],
   "source": [
    "%%px\n",
    "\n",
    "import numpy as np\n",
    "import openmdao.api as om\n",
    "from openmdao.utils.assert_utils import assert_check_partials, assert_near_equal\n",
    "\n",
    "size = 15\n",
    "\n",
    "model = om.Group()\n",
    "\n",
    "# Distributed component \"C2\" requires an IndepVarComp to supply inputs.\n",
    "indep = model.add_subsystem(\"indep\", om.IndepVarComp())\n",
    "indep.add_output('x', np.zeros(size), distributed=True)\n",
    "model.add_subsystem(\"C2\", DistribCompDerivs(size=size))\n",
    "model.add_subsystem(\"C3\", SummerDerivs(size=size))\n",
    "\n",
    "model.connect('indep.x', 'C2.invec')\n",
    "model.connect('C2.outvec', 'C3.invec', src_indices=om.slicer[:])\n",
    "\n",
    "prob = om.Problem(model)\n",
    "prob.setup()"
   ]
  },
  {
   "cell_type": "code",
   "execution_count": 13,
   "metadata": {},
   "outputs": [
    {
     "name": "stdout",
     "output_type": "stream",
     "text": [
      "[stdout:0] [1. 1. 1. 1. 1. 1. 1. 1. 1. 1. 1. 1. 1. 1. 1.]\n",
      "[stdout:1] [1. 1. 1. 1. 1. 1. 1. 1. 1. 1. 1. 1. 1. 1. 1.]\n",
      "[stdout:2] [1. 1. 1. 1. 1. 1. 1. 1. 1. 1. 1. 1. 1. 1. 1.]\n",
      "[stdout:3] [1. 1. 1. 1. 1. 1. 1. 1. 1. 1. 1. 1. 1. 1. 1.]\n"
     ]
    }
   ],
   "source": [
    "%%px\n",
    "\n",
    "prob.set_val('indep.x', np.ones(size))\n",
    "prob.run_model()\n",
    "\n",
    "print(prob.get_val('C2.invec', get_remote=True))"
   ]
  },
  {
   "cell_type": "code",
   "execution_count": 14,
   "metadata": {},
   "outputs": [
    {
     "name": "stdout",
     "output_type": "stream",
     "text": [
      "[stdout:0] [2. 2. 2. 2.]\n",
      "[stdout:1] [-3. -3. -3. -3.]\n",
      "[stdout:2] [-3. -3. -3. -3.]\n",
      "[stdout:3] [-3. -3. -3.]\n"
     ]
    }
   ],
   "source": [
    "%%px\n",
    "\n",
    "print(prob.get_val('C2.outvec'))"
   ]
  },
  {
   "cell_type": "code",
   "execution_count": 15,
   "metadata": {},
   "outputs": [
    {
     "name": "stdout",
     "output_type": "stream",
     "text": [
      "[stdout:0] [-25.]\n",
      "[stdout:1] [-25.]\n",
      "[stdout:2] [-25.]\n",
      "[stdout:3] [-25.]\n"
     ]
    }
   ],
   "source": [
    "%%px\n",
    "\n",
    "print(prob.get_val('C3.sum'))"
   ]
  },
  {
   "cell_type": "code",
   "execution_count": 16,
   "metadata": {
    "tags": [
     "allow-assert"
    ]
   },
   "outputs": [
    {
     "name": "stdout",
     "output_type": "stream",
     "text": [
      "[stdout:0] \n",
      "---------------------------------\n",
      "Component: DistribCompDerivs 'C2'\n",
      "---------------------------------\n",
      "  C2: 'outvec' wrt 'invec'\n",
      "    Analytic Magnitude: 4.000000e+00\n",
      "          Fd Magnitude: 4.000000e+00 (fd:forward)\n",
      "    Absolute Error (Jan - Jfd) : 3.290666e-10\n",
      "\n",
      "    Relative Error (Jan - Jfd) / Jfd : 8.226664e-11\n",
      "    MPI Rank 0\n",
      "\n",
      "    Raw Analytic Derivative (Jfor)\n",
      "[[2. 0. 0. 0.]\n",
      " [0. 2. 0. 0.]\n",
      " [0. 0. 2. 0.]\n",
      " [0. 0. 0. 2.]]\n",
      "\n",
      "    Raw FD Derivative (Jfd)\n",
      "[[2. 0. 0. 0.]\n",
      " [0. 2. 0. 0.]\n",
      " [0. 0. 2. 0.]\n",
      " [0. 0. 0. 2.]]\n",
      "\n",
      " - - - - - - - - - - - - - - - - - - - - - - - - - - - - - -\n",
      "----------------------------\n",
      "Component: SummerDerivs 'C3'\n",
      "----------------------------\n",
      "  C3: 'sum' wrt 'invec'\n",
      "    Analytic Magnitude: 3.872983e+00\n",
      "          Fd Magnitude: 3.872983e+00 (fd:forward)\n",
      "    Absolute Error (Jan - Jfd) : 3.981258e-09\n",
      "\n",
      "    Relative Error (Jan - Jfd) / Jfd : 1.027956e-09\n",
      "    MPI Rank 0\n",
      "\n",
      "    Raw Analytic Derivative (Jfor)\n",
      "[[1. 1. 1. 1. 1. 1. 1. 1. 1. 1. 1. 1. 1. 1. 1.]]\n",
      "\n",
      "    Raw FD Derivative (Jfd)\n",
      "[[1. 1. 1. 1. 1. 1. 1. 1. 1. 1. 1. 1. 1. 1. 1.]]\n",
      "\n",
      " - - - - - - - - - - - - - - - - - - - - - - - - - - - - - -\n",
      "[stdout:1] \n",
      "---------------------------------\n",
      "Component: DistribCompDerivs 'C2'\n",
      "---------------------------------\n",
      "  C2: 'outvec' wrt 'invec'\n",
      "    Analytic Magnitude: 6.000000e+00\n",
      "          Fd Magnitude: 6.000000e+00 (fd:forward)\n",
      "    Absolute Error (Jan - Jfd) : 9.376890e-10\n",
      "\n",
      "    Relative Error (Jan - Jfd) / Jfd : 1.562815e-10\n",
      "    MPI Rank 1\n",
      "\n",
      "    Raw Analytic Derivative (Jfor)\n",
      "[[-3.  0.  0.  0.]\n",
      " [ 0. -3.  0.  0.]\n",
      " [ 0.  0. -3.  0.]\n",
      " [ 0.  0.  0. -3.]]\n",
      "\n",
      "    Raw FD Derivative (Jfd)\n",
      "[[-3.  0.  0.  0.]\n",
      " [ 0. -3.  0.  0.]\n",
      " [ 0.  0. -3.  0.]\n",
      " [ 0.  0.  0. -3.]]\n",
      "\n",
      " - - - - - - - - - - - - - - - - - - - - - - - - - - - - - -\n",
      "----------------------------\n",
      "Component: SummerDerivs 'C3'\n",
      "----------------------------\n",
      "  C3: 'sum' wrt 'invec'\n",
      "    Analytic Magnitude: 3.872983e+00\n",
      "          Fd Magnitude: 3.872983e+00 (fd:forward)\n",
      "    Absolute Error (Jan - Jfd) : 3.981258e-09\n",
      "\n",
      "    Relative Error (Jan - Jfd) / Jfd : 1.027956e-09\n",
      "    MPI Rank 1\n",
      "\n",
      "    Raw Analytic Derivative (Jfor)\n",
      "[[1. 1. 1. 1. 1. 1. 1. 1. 1. 1. 1. 1. 1. 1. 1.]]\n",
      "\n",
      "    Raw FD Derivative (Jfd)\n",
      "[[1. 1. 1. 1. 1. 1. 1. 1. 1. 1. 1. 1. 1. 1. 1.]]\n",
      "\n",
      " - - - - - - - - - - - - - - - - - - - - - - - - - - - - - -\n",
      "[stdout:2] \n",
      "---------------------------------\n",
      "Component: DistribCompDerivs 'C2'\n",
      "---------------------------------\n",
      "  C2: 'outvec' wrt 'invec'\n",
      "    Analytic Magnitude: 6.000000e+00\n",
      "          Fd Magnitude: 6.000000e+00 (fd:forward)\n",
      "    Absolute Error (Jan - Jfd) : 9.376890e-10\n",
      "\n",
      "    Relative Error (Jan - Jfd) / Jfd : 1.562815e-10\n",
      "    MPI Rank 2\n",
      "\n",
      "    Raw Analytic Derivative (Jfor)\n",
      "[[-3.  0.  0.  0.]\n",
      " [ 0. -3.  0.  0.]\n",
      " [ 0.  0. -3.  0.]\n",
      " [ 0.  0.  0. -3.]]\n",
      "\n",
      "    Raw FD Derivative (Jfd)\n",
      "[[-3.  0.  0.  0.]\n",
      " [ 0. -3.  0.  0.]\n",
      " [ 0.  0. -3.  0.]\n",
      " [ 0.  0.  0. -3.]]\n",
      "\n",
      " - - - - - - - - - - - - - - - - - - - - - - - - - - - - - -\n",
      "----------------------------\n",
      "Component: SummerDerivs 'C3'\n",
      "----------------------------\n",
      "  C3: 'sum' wrt 'invec'\n",
      "    Analytic Magnitude: 3.872983e+00\n",
      "          Fd Magnitude: 3.872983e+00 (fd:forward)\n",
      "    Absolute Error (Jan - Jfd) : 3.981258e-09\n",
      "\n",
      "    Relative Error (Jan - Jfd) / Jfd : 1.027956e-09\n",
      "    MPI Rank 2\n",
      "\n",
      "    Raw Analytic Derivative (Jfor)\n",
      "[[1. 1. 1. 1. 1. 1. 1. 1. 1. 1. 1. 1. 1. 1. 1.]]\n",
      "\n",
      "    Raw FD Derivative (Jfd)\n",
      "[[1. 1. 1. 1. 1. 1. 1. 1. 1. 1. 1. 1. 1. 1. 1.]]\n",
      "\n",
      " - - - - - - - - - - - - - - - - - - - - - - - - - - - - - -\n",
      "[stdout:3] \n",
      "---------------------------------\n",
      "Component: DistribCompDerivs 'C2'\n",
      "---------------------------------\n",
      "  C2: 'outvec' wrt 'invec'\n",
      "    Analytic Magnitude: 5.196152e+00\n",
      "          Fd Magnitude: 5.196152e+00 (fd:forward)\n",
      "    Absolute Error (Jan - Jfd) : 8.120625e-10\n",
      "\n",
      "    Relative Error (Jan - Jfd) / Jfd : 1.562815e-10\n",
      "    MPI Rank 3\n",
      "\n",
      "    Raw Analytic Derivative (Jfor)\n",
      "[[-3.  0.  0.]\n",
      " [ 0. -3.  0.]\n",
      " [ 0.  0. -3.]]\n",
      "\n",
      "    Raw FD Derivative (Jfd)\n",
      "[[-3.  0.  0.]\n",
      " [ 0. -3.  0.]\n",
      " [ 0.  0. -3.]]\n",
      "\n",
      " - - - - - - - - - - - - - - - - - - - - - - - - - - - - - -\n",
      "----------------------------\n",
      "Component: SummerDerivs 'C3'\n",
      "----------------------------\n",
      "  C3: 'sum' wrt 'invec'\n",
      "    Analytic Magnitude: 3.872983e+00\n",
      "          Fd Magnitude: 3.872983e+00 (fd:forward)\n",
      "    Absolute Error (Jan - Jfd) : 3.981258e-09\n",
      "\n",
      "    Relative Error (Jan - Jfd) / Jfd : 1.027956e-09\n",
      "    MPI Rank 3\n",
      "\n",
      "    Raw Analytic Derivative (Jfor)\n",
      "[[1. 1. 1. 1. 1. 1. 1. 1. 1. 1. 1. 1. 1. 1. 1.]]\n",
      "\n",
      "    Raw FD Derivative (Jfd)\n",
      "[[1. 1. 1. 1. 1. 1. 1. 1. 1. 1. 1. 1. 1. 1. 1.]]\n",
      "\n",
      " - - - - - - - - - - - - - - - - - - - - - - - - - - - - - -\n"
     ]
    }
   ],
   "source": [
    "%%px\n",
    "\n",
    "assert_check_partials(prob.check_partials())"
   ]
  },
  {
   "cell_type": "code",
   "execution_count": 17,
   "metadata": {},
   "outputs": [
    {
     "name": "stdout",
     "output_type": "stream",
     "text": [
      "[stdout:0] \n",
      "[[ 2. -0. -0. -0. -0. -0. -0. -0. -0. -0. -0. -0. -0. -0. -0. -0. -0. -0.\n",
      "  -0. -0. -0. -0. -0. -0. -0. -0. -0. -0. -0. -0. -0. -0. -0. -0. -0. -0.\n",
      "  -0. -0. -0. -0. -0. -0. -0. -0. -0. -0. -0. -0. -0. -0. -0. -0. -0. -0.\n",
      "  -0. -0. -0. -0. -0. -0.]\n",
      " [-0.  2. -0. -0. -0. -0. -0. -0. -0. -0. -0. -0. -0. -0. -0. -0. -0. -0.\n",
      "  -0. -0. -0. -0. -0. -0. -0. -0. -0. -0. -0. -0. -0. -0. -0. -0. -0. -0.\n",
      "  -0. -0. -0. -0. -0. -0. -0. -0. -0. -0. -0. -0. -0. -0. -0. -0. -0. -0.\n",
      "  -0. -0. -0. -0. -0. -0.]\n",
      " [-0. -0.  2. -0. -0. -0. -0. -0. -0. -0. -0. -0. -0. -0. -0. -0. -0. -0.\n",
      "  -0. -0. -0. -0. -0. -0. -0. -0. -0. -0. -0. -0. -0. -0. -0. -0. -0. -0.\n",
      "  -0. -0. -0. -0. -0. -0. -0. -0. -0. -0. -0. -0. -0. -0. -0. -0. -0. -0.\n",
      "  -0. -0. -0. -0. -0. -0.]\n",
      " [-0. -0. -0.  2. -0. -0. -0. -0. -0. -0. -0. -0. -0. -0. -0. -0. -0. -0.\n",
      "  -0. -0. -0. -0. -0. -0. -0. -0. -0. -0. -0. -0. -0. -0. -0. -0. -0. -0.\n",
      "  -0. -0. -0. -0. -0. -0. -0. -0. -0. -0. -0. -0. -0. -0. -0. -0. -0. -0.\n",
      "  -0. -0. -0. -0. -0. -0.]\n",
      " [-0. -0. -0. -0. -3. -0. -0. -0. -0. -0. -0. -0. -0. -0. -0. -0. -0. -0.\n",
      "  -0. -0. -0. -0. -0. -0. -0. -0. -0. -0. -0. -0. -0. -0. -0. -0. -0. -0.\n",
      "  -0. -0. -0. -0. -0. -0. -0. -0. -0. -0. -0. -0. -0. -0. -0. -0. -0. -0.\n",
      "  -0. -0. -0. -0. -0. -0.]\n",
      " [-0. -0. -0. -0. -0. -3. -0. -0. -0. -0. -0. -0. -0. -0. -0. -0. -0. -0.\n",
      "  -0. -0. -0. -0. -0. -0. -0. -0. -0. -0. -0. -0. -0. -0. -0. -0. -0. -0.\n",
      "  -0. -0. -0. -0. -0. -0. -0. -0. -0. -0. -0. -0. -0. -0. -0. -0. -0. -0.\n",
      "  -0. -0. -0. -0. -0. -0.]\n",
      " [-0. -0. -0. -0. -0. -0. -3. -0. -0. -0. -0. -0. -0. -0. -0. -0. -0. -0.\n",
      "  -0. -0. -0. -0. -0. -0. -0. -0. -0. -0. -0. -0. -0. -0. -0. -0. -0. -0.\n",
      "  -0. -0. -0. -0. -0. -0. -0. -0. -0. -0. -0. -0. -0. -0. -0. -0. -0. -0.\n",
      "  -0. -0. -0. -0. -0. -0.]\n",
      " [-0. -0. -0. -0. -0. -0. -0. -3. -0. -0. -0. -0. -0. -0. -0. -0. -0. -0.\n",
      "  -0. -0. -0. -0. -0. -0. -0. -0. -0. -0. -0. -0. -0. -0. -0. -0. -0. -0.\n",
      "  -0. -0. -0. -0. -0. -0. -0. -0. -0. -0. -0. -0. -0. -0. -0. -0. -0. -0.\n",
      "  -0. -0. -0. -0. -0. -0.]\n",
      " [-0. -0. -0. -0. -0. -0. -0. -0. -3. -0. -0. -0. -0. -0. -0. -0. -0. -0.\n",
      "  -0. -0. -0. -0. -0. -0. -0. -0. -0. -0. -0. -0. -0. -0. -0. -0. -0. -0.\n",
      "  -0. -0. -0. -0. -0. -0. -0. -0. -0. -0. -0. -0. -0. -0. -0. -0. -0. -0.\n",
      "  -0. -0. -0. -0. -0. -0.]\n",
      " [-0. -0. -0. -0. -0. -0. -0. -0. -0. -3. -0. -0. -0. -0. -0. -0. -0. -0.\n",
      "  -0. -0. -0. -0. -0. -0. -0. -0. -0. -0. -0. -0. -0. -0. -0. -0. -0. -0.\n",
      "  -0. -0. -0. -0. -0. -0. -0. -0. -0. -0. -0. -0. -0. -0. -0. -0. -0. -0.\n",
      "  -0. -0. -0. -0. -0. -0.]\n",
      " [-0. -0. -0. -0. -0. -0. -0. -0. -0. -0. -3. -0. -0. -0. -0. -0. -0. -0.\n",
      "  -0. -0. -0. -0. -0. -0. -0. -0. -0. -0. -0. -0. -0. -0. -0. -0. -0. -0.\n",
      "  -0. -0. -0. -0. -0. -0. -0. -0. -0. -0. -0. -0. -0. -0. -0. -0. -0. -0.\n",
      "  -0. -0. -0. -0. -0. -0.]\n",
      " [-0. -0. -0. -0. -0. -0. -0. -0. -0. -0. -0. -3. -0. -0. -0. -0. -0. -0.\n",
      "  -0. -0. -0. -0. -0. -0. -0. -0. -0. -0. -0. -0. -0. -0. -0. -0. -0. -0.\n",
      "  -0. -0. -0. -0. -0. -0. -0. -0. -0. -0. -0. -0. -0. -0. -0. -0. -0. -0.\n",
      "  -0. -0. -0. -0. -0. -0.]\n",
      " [-0. -0. -0. -0. -0. -0. -0. -0. -0. -0. -0. -0. -3. -0. -0. -0. -0. -0.\n",
      "  -0. -0. -0. -0. -0. -0. -0. -0. -0. -0. -0. -0. -0. -0. -0. -0. -0. -0.\n",
      "  -0. -0. -0. -0. -0. -0. -0. -0. -0. -0. -0. -0. -0. -0. -0. -0. -0. -0.\n",
      "  -0. -0. -0. -0. -0. -0.]\n",
      " [-0. -0. -0. -0. -0. -0. -0. -0. -0. -0. -0. -0. -0. -3. -0. -0. -0. -0.\n",
      "  -0. -0. -0. -0. -0. -0. -0. -0. -0. -0. -0. -0. -0. -0. -0. -0. -0. -0.\n",
      "  -0. -0. -0. -0. -0. -0. -0. -0. -0. -0. -0. -0. -0. -0. -0. -0. -0. -0.\n",
      "  -0. -0. -0. -0. -0. -0.]\n",
      " [-0. -0. -0. -0. -0. -0. -0. -0. -0. -0. -0. -0. -0. -0. -3. -0. -0. -0.\n",
      "  -0. -0. -0. -0. -0. -0. -0. -0. -0. -0. -0. -0. -0. -0. -0. -0. -0. -0.\n",
      "  -0. -0. -0. -0. -0. -0. -0. -0. -0. -0. -0. -0. -0. -0. -0. -0. -0. -0.\n",
      "  -0. -0. -0. -0. -0. -0.]]\n",
      "[stdout:1] \n",
      "[[ 2. -0. -0. -0. -0. -0. -0. -0. -0. -0. -0. -0. -0. -0. -0. -0. -0. -0.\n",
      "  -0. -0. -0. -0. -0. -0. -0. -0. -0. -0. -0. -0. -0. -0. -0. -0. -0. -0.\n",
      "  -0. -0. -0. -0. -0. -0. -0. -0. -0. -0. -0. -0. -0. -0. -0. -0. -0. -0.\n",
      "  -0. -0. -0. -0. -0. -0.]\n",
      " [-0.  2. -0. -0. -0. -0. -0. -0. -0. -0. -0. -0. -0. -0. -0. -0. -0. -0.\n",
      "  -0. -0. -0. -0. -0. -0. -0. -0. -0. -0. -0. -0. -0. -0. -0. -0. -0. -0.\n",
      "  -0. -0. -0. -0. -0. -0. -0. -0. -0. -0. -0. -0. -0. -0. -0. -0. -0. -0.\n",
      "  -0. -0. -0. -0. -0. -0.]\n",
      " [-0. -0.  2. -0. -0. -0. -0. -0. -0. -0. -0. -0. -0. -0. -0. -0. -0. -0.\n",
      "  -0. -0. -0. -0. -0. -0. -0. -0. -0. -0. -0. -0. -0. -0. -0. -0. -0. -0.\n",
      "  -0. -0. -0. -0. -0. -0. -0. -0. -0. -0. -0. -0. -0. -0. -0. -0. -0. -0.\n",
      "  -0. -0. -0. -0. -0. -0.]\n",
      " [-0. -0. -0.  2. -0. -0. -0. -0. -0. -0. -0. -0. -0. -0. -0. -0. -0. -0.\n",
      "  -0. -0. -0. -0. -0. -0. -0. -0. -0. -0. -0. -0. -0. -0. -0. -0. -0. -0.\n",
      "  -0. -0. -0. -0. -0. -0. -0. -0. -0. -0. -0. -0. -0. -0. -0. -0. -0. -0.\n",
      "  -0. -0. -0. -0. -0. -0.]\n",
      " [-0. -0. -0. -0. -3. -0. -0. -0. -0. -0. -0. -0. -0. -0. -0. -0. -0. -0.\n",
      "  -0. -0. -0. -0. -0. -0. -0. -0. -0. -0. -0. -0. -0. -0. -0. -0. -0. -0.\n",
      "  -0. -0. -0. -0. -0. -0. -0. -0. -0. -0. -0. -0. -0. -0. -0. -0. -0. -0.\n",
      "  -0. -0. -0. -0. -0. -0.]\n",
      " [-0. -0. -0. -0. -0. -3. -0. -0. -0. -0. -0. -0. -0. -0. -0. -0. -0. -0.\n",
      "  -0. -0. -0. -0. -0. -0. -0. -0. -0. -0. -0. -0. -0. -0. -0. -0. -0. -0.\n",
      "  -0. -0. -0. -0. -0. -0. -0. -0. -0. -0. -0. -0. -0. -0. -0. -0. -0. -0.\n",
      "  -0. -0. -0. -0. -0. -0.]\n",
      " [-0. -0. -0. -0. -0. -0. -3. -0. -0. -0. -0. -0. -0. -0. -0. -0. -0. -0.\n",
      "  -0. -0. -0. -0. -0. -0. -0. -0. -0. -0. -0. -0. -0. -0. -0. -0. -0. -0.\n",
      "  -0. -0. -0. -0. -0. -0. -0. -0. -0. -0. -0. -0. -0. -0. -0. -0. -0. -0.\n",
      "  -0. -0. -0. -0. -0. -0.]\n",
      " [-0. -0. -0. -0. -0. -0. -0. -3. -0. -0. -0. -0. -0. -0. -0. -0. -0. -0.\n",
      "  -0. -0. -0. -0. -0. -0. -0. -0. -0. -0. -0. -0. -0. -0. -0. -0. -0. -0.\n",
      "  -0. -0. -0. -0. -0. -0. -0. -0. -0. -0. -0. -0. -0. -0. -0. -0. -0. -0.\n",
      "  -0. -0. -0. -0. -0. -0.]\n",
      " [-0. -0. -0. -0. -0. -0. -0. -0. -3. -0. -0. -0. -0. -0. -0. -0. -0. -0.\n",
      "  -0. -0. -0. -0. -0. -0. -0. -0. -0. -0. -0. -0. -0. -0. -0. -0. -0. -0.\n",
      "  -0. -0. -0. -0. -0. -0. -0. -0. -0. -0. -0. -0. -0. -0. -0. -0. -0. -0.\n",
      "  -0. -0. -0. -0. -0. -0.]\n",
      " [-0. -0. -0. -0. -0. -0. -0. -0. -0. -3. -0. -0. -0. -0. -0. -0. -0. -0.\n",
      "  -0. -0. -0. -0. -0. -0. -0. -0. -0. -0. -0. -0. -0. -0. -0. -0. -0. -0.\n",
      "  -0. -0. -0. -0. -0. -0. -0. -0. -0. -0. -0. -0. -0. -0. -0. -0. -0. -0.\n",
      "  -0. -0. -0. -0. -0. -0.]\n",
      " [-0. -0. -0. -0. -0. -0. -0. -0. -0. -0. -3. -0. -0. -0. -0. -0. -0. -0.\n",
      "  -0. -0. -0. -0. -0. -0. -0. -0. -0. -0. -0. -0. -0. -0. -0. -0. -0. -0.\n",
      "  -0. -0. -0. -0. -0. -0. -0. -0. -0. -0. -0. -0. -0. -0. -0. -0. -0. -0.\n",
      "  -0. -0. -0. -0. -0. -0.]\n",
      " [-0. -0. -0. -0. -0. -0. -0. -0. -0. -0. -0. -3. -0. -0. -0. -0. -0. -0.\n",
      "  -0. -0. -0. -0. -0. -0. -0. -0. -0. -0. -0. -0. -0. -0. -0. -0. -0. -0.\n",
      "  -0. -0. -0. -0. -0. -0. -0. -0. -0. -0. -0. -0. -0. -0. -0. -0. -0. -0.\n",
      "  -0. -0. -0. -0. -0. -0.]\n",
      " [-0. -0. -0. -0. -0. -0. -0. -0. -0. -0. -0. -0. -3. -0. -0. -0. -0. -0.\n",
      "  -0. -0. -0. -0. -0. -0. -0. -0. -0. -0. -0. -0. -0. -0. -0. -0. -0. -0.\n",
      "  -0. -0. -0. -0. -0. -0. -0. -0. -0. -0. -0. -0. -0. -0. -0. -0. -0. -0.\n",
      "  -0. -0. -0. -0. -0. -0.]\n",
      " [-0. -0. -0. -0. -0. -0. -0. -0. -0. -0. -0. -0. -0. -3. -0. -0. -0. -0.\n",
      "  -0. -0. -0. -0. -0. -0. -0. -0. -0. -0. -0. -0. -0. -0. -0. -0. -0. -0.\n",
      "  -0. -0. -0. -0. -0. -0. -0. -0. -0. -0. -0. -0. -0. -0. -0. -0. -0. -0.\n",
      "  -0. -0. -0. -0. -0. -0.]\n",
      " [-0. -0. -0. -0. -0. -0. -0. -0. -0. -0. -0. -0. -0. -0. -3. -0. -0. -0.\n",
      "  -0. -0. -0. -0. -0. -0. -0. -0. -0. -0. -0. -0. -0. -0. -0. -0. -0. -0.\n",
      "  -0. -0. -0. -0. -0. -0. -0. -0. -0. -0. -0. -0. -0. -0. -0. -0. -0. -0.\n",
      "  -0. -0. -0. -0. -0. -0.]]\n",
      "[stdout:2] \n",
      "[[ 2. -0. -0. -0. -0. -0. -0. -0. -0. -0. -0. -0. -0. -0. -0. -0. -0. -0.\n",
      "  -0. -0. -0. -0. -0. -0. -0. -0. -0. -0. -0. -0. -0. -0. -0. -0. -0. -0.\n",
      "  -0. -0. -0. -0. -0. -0. -0. -0. -0. -0. -0. -0. -0. -0. -0. -0. -0. -0.\n",
      "  -0. -0. -0. -0. -0. -0.]\n",
      " [-0.  2. -0. -0. -0. -0. -0. -0. -0. -0. -0. -0. -0. -0. -0. -0. -0. -0.\n",
      "  -0. -0. -0. -0. -0. -0. -0. -0. -0. -0. -0. -0. -0. -0. -0. -0. -0. -0.\n",
      "  -0. -0. -0. -0. -0. -0. -0. -0. -0. -0. -0. -0. -0. -0. -0. -0. -0. -0.\n",
      "  -0. -0. -0. -0. -0. -0.]\n",
      " [-0. -0.  2. -0. -0. -0. -0. -0. -0. -0. -0. -0. -0. -0. -0. -0. -0. -0.\n",
      "  -0. -0. -0. -0. -0. -0. -0. -0. -0. -0. -0. -0. -0. -0. -0. -0. -0. -0.\n",
      "  -0. -0. -0. -0. -0. -0. -0. -0. -0. -0. -0. -0. -0. -0. -0. -0. -0. -0.\n",
      "  -0. -0. -0. -0. -0. -0.]\n",
      " [-0. -0. -0.  2. -0. -0. -0. -0. -0. -0. -0. -0. -0. -0. -0. -0. -0. -0.\n",
      "  -0. -0. -0. -0. -0. -0. -0. -0. -0. -0. -0. -0. -0. -0. -0. -0. -0. -0.\n",
      "  -0. -0. -0. -0. -0. -0. -0. -0. -0. -0. -0. -0. -0. -0. -0. -0. -0. -0.\n",
      "  -0. -0. -0. -0. -0. -0.]\n",
      " [-0. -0. -0. -0. -3. -0. -0. -0. -0. -0. -0. -0. -0. -0. -0. -0. -0. -0.\n",
      "  -0. -0. -0. -0. -0. -0. -0. -0. -0. -0. -0. -0. -0. -0. -0. -0. -0. -0.\n",
      "  -0. -0. -0. -0. -0. -0. -0. -0. -0. -0. -0. -0. -0. -0. -0. -0. -0. -0.\n",
      "  -0. -0. -0. -0. -0. -0.]\n",
      " [-0. -0. -0. -0. -0. -3. -0. -0. -0. -0. -0. -0. -0. -0. -0. -0. -0. -0.\n",
      "  -0. -0. -0. -0. -0. -0. -0. -0. -0. -0. -0. -0. -0. -0. -0. -0. -0. -0.\n",
      "  -0. -0. -0. -0. -0. -0. -0. -0. -0. -0. -0. -0. -0. -0. -0. -0. -0. -0.\n",
      "  -0. -0. -0. -0. -0. -0.]\n",
      " [-0. -0. -0. -0. -0. -0. -3. -0. -0. -0. -0. -0. -0. -0. -0. -0. -0. -0.\n",
      "  -0. -0. -0. -0. -0. -0. -0. -0. -0. -0. -0. -0. -0. -0. -0. -0. -0. -0.\n",
      "  -0. -0. -0. -0. -0. -0. -0. -0. -0. -0. -0. -0. -0. -0. -0. -0. -0. -0.\n",
      "  -0. -0. -0. -0. -0. -0.]\n",
      " [-0. -0. -0. -0. -0. -0. -0. -3. -0. -0. -0. -0. -0. -0. -0. -0. -0. -0.\n",
      "  -0. -0. -0. -0. -0. -0. -0. -0. -0. -0. -0. -0. -0. -0. -0. -0. -0. -0.\n",
      "  -0. -0. -0. -0. -0. -0. -0. -0. -0. -0. -0. -0. -0. -0. -0. -0. -0. -0.\n",
      "  -0. -0. -0. -0. -0. -0.]\n",
      " [-0. -0. -0. -0. -0. -0. -0. -0. -3. -0. -0. -0. -0. -0. -0. -0. -0. -0.\n",
      "  -0. -0. -0. -0. -0. -0. -0. -0. -0. -0. -0. -0. -0. -0. -0. -0. -0. -0.\n",
      "  -0. -0. -0. -0. -0. -0. -0. -0. -0. -0. -0. -0. -0. -0. -0. -0. -0. -0.\n",
      "  -0. -0. -0. -0. -0. -0.]\n",
      " [-0. -0. -0. -0. -0. -0. -0. -0. -0. -3. -0. -0. -0. -0. -0. -0. -0. -0.\n",
      "  -0. -0. -0. -0. -0. -0. -0. -0. -0. -0. -0. -0. -0. -0. -0. -0. -0. -0.\n",
      "  -0. -0. -0. -0. -0. -0. -0. -0. -0. -0. -0. -0. -0. -0. -0. -0. -0. -0.\n",
      "  -0. -0. -0. -0. -0. -0.]\n",
      " [-0. -0. -0. -0. -0. -0. -0. -0. -0. -0. -3. -0. -0. -0. -0. -0. -0. -0.\n",
      "  -0. -0. -0. -0. -0. -0. -0. -0. -0. -0. -0. -0. -0. -0. -0. -0. -0. -0.\n",
      "  -0. -0. -0. -0. -0. -0. -0. -0. -0. -0. -0. -0. -0. -0. -0. -0. -0. -0.\n",
      "  -0. -0. -0. -0. -0. -0.]\n",
      " [-0. -0. -0. -0. -0. -0. -0. -0. -0. -0. -0. -3. -0. -0. -0. -0. -0. -0.\n",
      "  -0. -0. -0. -0. -0. -0. -0. -0. -0. -0. -0. -0. -0. -0. -0. -0. -0. -0.\n",
      "  -0. -0. -0. -0. -0. -0. -0. -0. -0. -0. -0. -0. -0. -0. -0. -0. -0. -0.\n",
      "  -0. -0. -0. -0. -0. -0.]\n",
      " [-0. -0. -0. -0. -0. -0. -0. -0. -0. -0. -0. -0. -3. -0. -0. -0. -0. -0.\n",
      "  -0. -0. -0. -0. -0. -0. -0. -0. -0. -0. -0. -0. -0. -0. -0. -0. -0. -0.\n",
      "  -0. -0. -0. -0. -0. -0. -0. -0. -0. -0. -0. -0. -0. -0. -0. -0. -0. -0.\n",
      "  -0. -0. -0. -0. -0. -0.]\n",
      " [-0. -0. -0. -0. -0. -0. -0. -0. -0. -0. -0. -0. -0. -3. -0. -0. -0. -0.\n",
      "  -0. -0. -0. -0. -0. -0. -0. -0. -0. -0. -0. -0. -0. -0. -0. -0. -0. -0.\n",
      "  -0. -0. -0. -0. -0. -0. -0. -0. -0. -0. -0. -0. -0. -0. -0. -0. -0. -0.\n",
      "  -0. -0. -0. -0. -0. -0.]\n",
      " [-0. -0. -0. -0. -0. -0. -0. -0. -0. -0. -0. -0. -0. -0. -3. -0. -0. -0.\n",
      "  -0. -0. -0. -0. -0. -0. -0. -0. -0. -0. -0. -0. -0. -0. -0. -0. -0. -0.\n",
      "  -0. -0. -0. -0. -0. -0. -0. -0. -0. -0. -0. -0. -0. -0. -0. -0. -0. -0.\n",
      "  -0. -0. -0. -0. -0. -0.]]\n",
      "[stdout:3] \n",
      "[[ 2. -0. -0. -0. -0. -0. -0. -0. -0. -0. -0. -0. -0. -0. -0. -0. -0. -0.\n",
      "  -0. -0. -0. -0. -0. -0. -0. -0. -0. -0. -0. -0. -0. -0. -0. -0. -0. -0.\n",
      "  -0. -0. -0. -0. -0. -0. -0. -0. -0. -0. -0. -0. -0. -0. -0. -0. -0. -0.\n",
      "  -0. -0. -0. -0. -0. -0.]\n",
      " [-0.  2. -0. -0. -0. -0. -0. -0. -0. -0. -0. -0. -0. -0. -0. -0. -0. -0.\n",
      "  -0. -0. -0. -0. -0. -0. -0. -0. -0. -0. -0. -0. -0. -0. -0. -0. -0. -0.\n",
      "  -0. -0. -0. -0. -0. -0. -0. -0. -0. -0. -0. -0. -0. -0. -0. -0. -0. -0.\n",
      "  -0. -0. -0. -0. -0. -0.]\n",
      " [-0. -0.  2. -0. -0. -0. -0. -0. -0. -0. -0. -0. -0. -0. -0. -0. -0. -0.\n",
      "  -0. -0. -0. -0. -0. -0. -0. -0. -0. -0. -0. -0. -0. -0. -0. -0. -0. -0.\n",
      "  -0. -0. -0. -0. -0. -0. -0. -0. -0. -0. -0. -0. -0. -0. -0. -0. -0. -0.\n",
      "  -0. -0. -0. -0. -0. -0.]\n",
      " [-0. -0. -0.  2. -0. -0. -0. -0. -0. -0. -0. -0. -0. -0. -0. -0. -0. -0.\n",
      "  -0. -0. -0. -0. -0. -0. -0. -0. -0. -0. -0. -0. -0. -0. -0. -0. -0. -0.\n",
      "  -0. -0. -0. -0. -0. -0. -0. -0. -0. -0. -0. -0. -0. -0. -0. -0. -0. -0.\n",
      "  -0. -0. -0. -0. -0. -0.]\n",
      " [-0. -0. -0. -0. -3. -0. -0. -0. -0. -0. -0. -0. -0. -0. -0. -0. -0. -0.\n",
      "  -0. -0. -0. -0. -0. -0. -0. -0. -0. -0. -0. -0. -0. -0. -0. -0. -0. -0.\n",
      "  -0. -0. -0. -0. -0. -0. -0. -0. -0. -0. -0. -0. -0. -0. -0. -0. -0. -0.\n",
      "  -0. -0. -0. -0. -0. -0.]\n",
      " [-0. -0. -0. -0. -0. -3. -0. -0. -0. -0. -0. -0. -0. -0. -0. -0. -0. -0.\n",
      "  -0. -0. -0. -0. -0. -0. -0. -0. -0. -0. -0. -0. -0. -0. -0. -0. -0. -0.\n",
      "  -0. -0. -0. -0. -0. -0. -0. -0. -0. -0. -0. -0. -0. -0. -0. -0. -0. -0.\n",
      "  -0. -0. -0. -0. -0. -0.]\n",
      " [-0. -0. -0. -0. -0. -0. -3. -0. -0. -0. -0. -0. -0. -0. -0. -0. -0. -0.\n",
      "  -0. -0. -0. -0. -0. -0. -0. -0. -0. -0. -0. -0. -0. -0. -0. -0. -0. -0.\n",
      "  -0. -0. -0. -0. -0. -0. -0. -0. -0. -0. -0. -0. -0. -0. -0. -0. -0. -0.\n",
      "  -0. -0. -0. -0. -0. -0.]\n",
      " [-0. -0. -0. -0. -0. -0. -0. -3. -0. -0. -0. -0. -0. -0. -0. -0. -0. -0.\n",
      "  -0. -0. -0. -0. -0. -0. -0. -0. -0. -0. -0. -0. -0. -0. -0. -0. -0. -0.\n",
      "  -0. -0. -0. -0. -0. -0. -0. -0. -0. -0. -0. -0. -0. -0. -0. -0. -0. -0.\n",
      "  -0. -0. -0. -0. -0. -0.]\n",
      " [-0. -0. -0. -0. -0. -0. -0. -0. -3. -0. -0. -0. -0. -0. -0. -0. -0. -0.\n",
      "  -0. -0. -0. -0. -0. -0. -0. -0. -0. -0. -0. -0. -0. -0. -0. -0. -0. -0.\n",
      "  -0. -0. -0. -0. -0. -0. -0. -0. -0. -0. -0. -0. -0. -0. -0. -0. -0. -0.\n",
      "  -0. -0. -0. -0. -0. -0.]\n",
      " [-0. -0. -0. -0. -0. -0. -0. -0. -0. -3. -0. -0. -0. -0. -0. -0. -0. -0.\n",
      "  -0. -0. -0. -0. -0. -0. -0. -0. -0. -0. -0. -0. -0. -0. -0. -0. -0. -0.\n",
      "  -0. -0. -0. -0. -0. -0. -0. -0. -0. -0. -0. -0. -0. -0. -0. -0. -0. -0.\n",
      "  -0. -0. -0. -0. -0. -0.]\n",
      " [-0. -0. -0. -0. -0. -0. -0. -0. -0. -0. -3. -0. -0. -0. -0. -0. -0. -0.\n",
      "  -0. -0. -0. -0. -0. -0. -0. -0. -0. -0. -0. -0. -0. -0. -0. -0. -0. -0.\n",
      "  -0. -0. -0. -0. -0. -0. -0. -0. -0. -0. -0. -0. -0. -0. -0. -0. -0. -0.\n",
      "  -0. -0. -0. -0. -0. -0.]\n",
      " [-0. -0. -0. -0. -0. -0. -0. -0. -0. -0. -0. -3. -0. -0. -0. -0. -0. -0.\n",
      "  -0. -0. -0. -0. -0. -0. -0. -0. -0. -0. -0. -0. -0. -0. -0. -0. -0. -0.\n",
      "  -0. -0. -0. -0. -0. -0. -0. -0. -0. -0. -0. -0. -0. -0. -0. -0. -0. -0.\n",
      "  -0. -0. -0. -0. -0. -0.]\n",
      " [-0. -0. -0. -0. -0. -0. -0. -0. -0. -0. -0. -0. -3. -0. -0. -0. -0. -0.\n",
      "  -0. -0. -0. -0. -0. -0. -0. -0. -0. -0. -0. -0. -0. -0. -0. -0. -0. -0.\n",
      "  -0. -0. -0. -0. -0. -0. -0. -0. -0. -0. -0. -0. -0. -0. -0. -0. -0. -0.\n",
      "  -0. -0. -0. -0. -0. -0.]\n",
      " [-0. -0. -0. -0. -0. -0. -0. -0. -0. -0. -0. -0. -0. -3. -0. -0. -0. -0.\n",
      "  -0. -0. -0. -0. -0. -0. -0. -0. -0. -0. -0. -0. -0. -0. -0. -0. -0. -0.\n",
      "  -0. -0. -0. -0. -0. -0. -0. -0. -0. -0. -0. -0. -0. -0. -0. -0. -0. -0.\n",
      "  -0. -0. -0. -0. -0. -0.]\n",
      " [-0. -0. -0. -0. -0. -0. -0. -0. -0. -0. -0. -0. -0. -0. -3. -0. -0. -0.\n",
      "  -0. -0. -0. -0. -0. -0. -0. -0. -0. -0. -0. -0. -0. -0. -0. -0. -0. -0.\n",
      "  -0. -0. -0. -0. -0. -0. -0. -0. -0. -0. -0. -0. -0. -0. -0. -0. -0. -0.\n",
      "  -0. -0. -0. -0. -0. -0.]]\n"
     ]
    }
   ],
   "source": [
    "%%px\n",
    "\n",
    "J = prob.compute_totals(of=['C2.outvec'], wrt=['indep.x'])\n",
    "print(J[('C2.outvec', 'indep.x')])"
   ]
  },
  {
   "cell_type": "code",
   "execution_count": 18,
   "metadata": {
    "tags": [
     "remove-output",
     "remove-input"
    ]
   },
   "outputs": [
    {
     "data": {
      "text/plain": [
       "\u001b[0;31mOut[0:202]: \u001b[0m0.0"
      ]
     },
     "metadata": {
      "after": [],
      "completed": "2021-06-02T13:18:02.525788",
      "data": {},
      "engine_id": 0,
      "engine_uuid": "b08b36f1-d5fce5a0a713306b9ba29fff",
      "error": null,
      "execute_input": "\nactual = J[('C2.outvec', 'indep.x')]\nexpected = np.eye(15)*np.append(2*np.ones(4), -3*np.ones(11))\nexpected = np.append(expected, np.zeros((15,45)),axis=1)\nassert_near_equal(actual, expected)\n",
      "execute_result": {
       "data": {
        "text/plain": "0.0"
       },
       "execution_count": 202,
       "metadata": {}
      },
      "follow": [],
      "msg_id": "b02fd8ce-99cf9bd693056bba22653fe4_61",
      "outputs": [],
      "received": "2021-06-02T13:18:02.529319",
      "started": "2021-06-02T13:18:02.515888",
      "status": "ok",
      "stderr": "",
      "stdout": "",
      "submitted": "2021-06-02T13:18:02.512916"
     },
     "output_type": "display_data"
    },
    {
     "data": {
      "text/plain": [
       "\u001b[0;31mOut[1:202]: \u001b[0m0.0"
      ]
     },
     "metadata": {
      "after": [],
      "completed": "2021-06-02T13:18:02.526183",
      "data": {},
      "engine_id": 1,
      "engine_uuid": "837e0b94-e687643489dee0546ecac058",
      "error": null,
      "execute_input": "\nactual = J[('C2.outvec', 'indep.x')]\nexpected = np.eye(15)*np.append(2*np.ones(4), -3*np.ones(11))\nexpected = np.append(expected, np.zeros((15,45)),axis=1)\nassert_near_equal(actual, expected)\n",
      "execute_result": {
       "data": {
        "text/plain": "0.0"
       },
       "execution_count": 202,
       "metadata": {}
      },
      "follow": [],
      "msg_id": "b02fd8ce-99cf9bd693056bba22653fe4_62",
      "outputs": [],
      "received": "2021-06-02T13:18:02.530786",
      "started": "2021-06-02T13:18:02.516999",
      "status": "ok",
      "stderr": "",
      "stdout": "",
      "submitted": "2021-06-02T13:18:02.513497"
     },
     "output_type": "display_data"
    },
    {
     "data": {
      "text/plain": [
       "\u001b[0;31mOut[2:202]: \u001b[0m0.0"
      ]
     },
     "metadata": {
      "after": [],
      "completed": "2021-06-02T13:18:02.527796",
      "data": {},
      "engine_id": 2,
      "engine_uuid": "90dac9aa-4ed103a8aefa6cbc3a17b626",
      "error": null,
      "execute_input": "\nactual = J[('C2.outvec', 'indep.x')]\nexpected = np.eye(15)*np.append(2*np.ones(4), -3*np.ones(11))\nexpected = np.append(expected, np.zeros((15,45)),axis=1)\nassert_near_equal(actual, expected)\n",
      "execute_result": {
       "data": {
        "text/plain": "0.0"
       },
       "execution_count": 202,
       "metadata": {}
      },
      "follow": [],
      "msg_id": "b02fd8ce-99cf9bd693056bba22653fe4_63",
      "outputs": [],
      "received": "2021-06-02T13:18:02.532907",
      "started": "2021-06-02T13:18:02.517927",
      "status": "ok",
      "stderr": "",
      "stdout": "",
      "submitted": "2021-06-02T13:18:02.513757"
     },
     "output_type": "display_data"
    },
    {
     "data": {
      "text/plain": [
       "\u001b[0;31mOut[3:202]: \u001b[0m0.0"
      ]
     },
     "metadata": {
      "after": [],
      "completed": "2021-06-02T13:18:02.527286",
      "data": {},
      "engine_id": 3,
      "engine_uuid": "f07e866c-32e4f884086266e980c78109",
      "error": null,
      "execute_input": "\nactual = J[('C2.outvec', 'indep.x')]\nexpected = np.eye(15)*np.append(2*np.ones(4), -3*np.ones(11))\nexpected = np.append(expected, np.zeros((15,45)),axis=1)\nassert_near_equal(actual, expected)\n",
      "execute_result": {
       "data": {
        "text/plain": "0.0"
       },
       "execution_count": 202,
       "metadata": {}
      },
      "follow": [],
      "msg_id": "b02fd8ce-99cf9bd693056bba22653fe4_64",
      "outputs": [],
      "received": "2021-06-02T13:18:02.531811",
      "started": "2021-06-02T13:18:02.518570",
      "status": "ok",
      "stderr": "",
      "stdout": "",
      "submitted": "2021-06-02T13:18:02.513942"
     },
     "output_type": "display_data"
    }
   ],
   "source": [
    "%%px\n",
    "\n",
    "actual = J[('C2.outvec', 'indep.x')]\n",
    "expected = np.eye(15)*np.append(2*np.ones(4), -3*np.ones(11))\n",
    "expected = np.append(expected, np.zeros((15,45)),axis=1)\n",
    "assert_near_equal(actual, expected)"
   ]
  },
  {
   "cell_type": "code",
   "execution_count": null,
   "metadata": {},
   "outputs": [],
   "source": []
  },
  {
   "cell_type": "code",
   "execution_count": null,
   "metadata": {},
   "outputs": [],
   "source": []
  }
 ],
 "metadata": {
  "celltoolbar": "Tags",
  "kernelspec": {
   "display_name": "Python 3",
   "language": "python",
   "name": "python3"
  },
  "language_info": {
   "codemirror_mode": {
    "name": "ipython",
    "version": 3
   },
   "file_extension": ".py",
   "mimetype": "text/x-python",
   "name": "python",
   "nbconvert_exporter": "python",
   "pygments_lexer": "ipython3",
   "version": "3.8.5"
  },
  "orphan": true
 },
 "nbformat": 4,
 "nbformat_minor": 4
}
