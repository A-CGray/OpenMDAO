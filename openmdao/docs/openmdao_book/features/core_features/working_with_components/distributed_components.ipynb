{
 "cells": [
  {
   "cell_type": "code",
   "execution_count": 1,
   "metadata": {
    "tags": [
     "remove-input",
     "active-ipynb",
     "remove-output"
    ]
   },
   "outputs": [
    {
     "name": "stdout",
     "output_type": "stream",
     "text": [
      "Populating the interactive namespace from numpy and matplotlib\n"
     ]
    }
   ],
   "source": [
    "%pylab inline\n",
    "from ipyparallel import Client, error\n",
    "cluster=Client(profile=\"mpi\")\n",
    "view=cluster[:]\n",
    "view.block=True\n",
    "\n",
    "try:\n",
    "    from openmdao.utils.notebook_utils import notebook_mode\n",
    "except ImportError:\n",
    "    !python -m pip install openmdao[notebooks]"
   ]
  },
  {
   "cell_type": "markdown",
   "metadata": {},
   "source": [
    "```{note}\n",
    "This feature requires MPI, and may not be able to be run on Colab.\n",
    "```"
   ]
  },
  {
   "cell_type": "markdown",
   "metadata": {},
   "source": [
    "# Distributed Variables\n",
    "\n",
    "At times when you need to perform a computation using large input arrays, you may want to perform that computation in multiple processes, where each process operates on some subset of the input values. This may be done purely for performance reasons, or it may be necessary because the entire input will not fit in the memory of a single machine. In any case, this can be accomplished in OpenMDAO by declaring those inputs and outputs as distributed. By definition, a variable is distributed if each process contains only a part of the whole variable. Conversely, when a variable is not distributed (i.e., serial), each process contains the entire variable in full.  A component that has at least one distributed output variable can also be called a distributed component.\n",
    "\n",
    "We’ve already seen that by using [src_indices](connect-with-src-indices), we can connect an input to only a subset of an output variable. By giving different values for src_indices in each MPI process, we can distribute computations on a distributed output across the processes. All of the scenarios that involve connecting distributed and serial variables are detailed in TODO: INSERT HERE."
   ]
  },
  {
   "cell_type": "markdown",
   "metadata": {},
   "source": [
    "\n",
    "## Example: Simple Component with Distributed Input and Output\n",
    "\n",
    "The following example shows how to create a simple component, *SimpleDistrib*, that takes a distributed variable as an input and computes a distributed output. The calculation is divided across the available processes, but the details of that division are not contained in the component.  In fact, the input is sized based on it's connected source using the \"shape_by_conn\" argument."
   ]
  },
  {
   "cell_type": "code",
   "execution_count": 2,
   "metadata": {},
   "outputs": [],
   "source": [
    "%%px \n",
    "\n",
    "import numpy as np\n",
    "\n",
    "import openmdao.api as om\n",
    "\n",
    "\n",
    "class SimpleDistrib(om.ExplicitComponent):\n",
    "\n",
    "    def setup(self):\n",
    "\n",
    "        # Distributed Input\n",
    "        self.add_input('in_dist', shape_by_conn=True, distributed=True)\n",
    "\n",
    "        # Distributed Output\n",
    "        self.add_output('out_dist', copy_shape='in_dist', distributed=True)\n",
    "\n",
    "    def compute(self, inputs, outputs):\n",
    "        x = inputs['in_dist']\n",
    "\n",
    "        # \"Computationally Intensive\" operation that we wish to parallelize.\n",
    "        f_x = x**2 - 2.0*x + 4.0\n",
    "\n",
    "        outputs['out_dist'] = f_x"
   ]
  },
  {
   "cell_type": "markdown",
   "metadata": {},
   "source": [
    "In the next part of the example, we take the `SimpleDistrib` component, place it into a model, and run it. Suppose the vector of data we want to process has 7 elements. We have 4 processors available for computation, so if we distribute them as evenly as we can, 3 procs can handle 2 elements each, and the 4th processor can pick up the last one.  OpenMDAO's utilities includes the `evenly_distrib_idxs` function which computes the sizes and offsets for all ranks. The sizes are used to determine how much of the array to allocate on any specific rank. The offsets are used to figure out where the local portion of the array starts, and in this example, is used to set the initial value properly.  In this case, the initial value for the full distributed input \"in_dist\" is a vector of 7 values between 3.0 and 9.0, and each processor has a 1 or 2 element piece of it."
   ]
  },
  {
   "cell_type": "code",
   "execution_count": 10,
   "metadata": {},
   "outputs": [
    {
     "name": "stdout",
     "output_type": "stream",
     "text": [
      "[stdout:0] \n",
      "indep.x_dist [3. 4.]\n",
      "D1.out_dist [ 7. 12.]\n",
      "indep.x_dist [3. 4. 5. 6. 7. 8. 9.]\n",
      "D1.out_dist [ 7. 12. 19. 28. 39. 52. 67.]\n",
      "\n",
      "[stdout:1] \n",
      "indep.x_dist [5. 6.]\n",
      "D1.out_dist [19. 28.]\n",
      "indep.x_dist [3. 4. 5. 6. 7. 8. 9.]\n",
      "D1.out_dist [ 7. 12. 19. 28. 39. 52. 67.]\n",
      "\n",
      "[stdout:2] \n",
      "indep.x_dist [7. 8.]\n",
      "D1.out_dist [39. 52.]\n",
      "indep.x_dist [3. 4. 5. 6. 7. 8. 9.]\n",
      "D1.out_dist [ 7. 12. 19. 28. 39. 52. 67.]\n",
      "\n",
      "[stdout:3] \n",
      "indep.x_dist [9.]\n",
      "D1.out_dist [67.]\n",
      "indep.x_dist [3. 4. 5. 6. 7. 8. 9.]\n",
      "D1.out_dist [ 7. 12. 19. 28. 39. 52. 67.]\n",
      "\n"
     ]
    }
   ],
   "source": [
    "%%px\n",
    "\n",
    "from openmdao.utils.array_utils import evenly_distrib_idxs\n",
    "from openmdao.utils.mpi import MPI\n",
    "\n",
    "size = 7\n",
    "\n",
    "if MPI:\n",
    "    comm = MPI.COMM_WORLD\n",
    "    rank = comm.rank\n",
    "    sizes, offsets = evenly_distrib_idxs(comm.size, size)\n",
    "else:\n",
    "    # When running in serial, the entire variable is on rank 0.\n",
    "    rank = 0\n",
    "    sizes = {rank : size}\n",
    "    offsets = {rank : 0}\n",
    "\n",
    "prob = om.Problem()\n",
    "model = prob.model\n",
    "\n",
    "# Create a distributed source for the distributed input.\n",
    "ivc = om.IndepVarComp()\n",
    "ivc.add_output('x_dist', np.zeros(sizes[rank]), distributed=True)\n",
    "\n",
    "model.add_subsystem(\"indep\", ivc)\n",
    "model.add_subsystem(\"D1\", SimpleDistrib())\n",
    "\n",
    "model.connect('indep.x_dist', 'D1.in_dist')\n",
    "\n",
    "prob.setup()\n",
    "\n",
    "# Set initial values of distributed variable.\n",
    "x_dist_init = 3.0 + np.arange(size)[offsets[rank]:offsets[rank] + sizes[rank]]\n",
    "prob.set_val('indep.x_dist', x_dist_init)\n",
    "\n",
    "prob.run_model()\n",
    "\n",
    "# Values on each rank.\n",
    "for var in ['indep.x_dist', 'D1.out_dist']:\n",
    "    print(var, prob.get_val(var))\n",
    "    \n",
    "# Full gathered values.\n",
    "for var in ['indep.x_dist', 'D1.out_dist']:\n",
    "    print(var, prob.get_val(var, get_remote=True))\n",
    "print('')"
   ]
  },
  {
   "cell_type": "code",
   "execution_count": 13,
   "metadata": {
    "tags": [
     "remove-input",
     "remove-output"
    ]
   },
   "outputs": [
    {
     "data": {
      "text/plain": [
       "\u001b[0;31mOut[0:12]: \u001b[0m0.0"
      ]
     },
     "metadata": {
      "after": [],
      "completed": "2021-08-10T19:06:11.836171",
      "data": {},
      "engine_id": 0,
      "engine_uuid": "4c67fa41-d3ffc3f0b83b40f53b99b60b",
      "error": null,
      "execute_input": "from openmdao.utils.assert_utils import assert_near_equal\n\nassert_near_equal(prob.get_val(var, get_remote=True), np.array([7., 12., 19., 28., 39., 52., 67.]))\n",
      "execute_result": {
       "data": {
        "text/plain": "0.0"
       },
       "execution_count": 12,
       "metadata": {}
      },
      "follow": [],
      "msg_id": "4d268208-42e386809ea8a5c112da5678_45",
      "outputs": [],
      "received": "2021-08-10T19:06:11.838030",
      "started": "2021-08-10T19:06:11.818150",
      "status": "ok",
      "stderr": "",
      "stdout": "",
      "submitted": "2021-08-10T19:06:11.816422"
     },
     "output_type": "display_data"
    },
    {
     "data": {
      "text/plain": [
       "\u001b[0;31mOut[1:12]: \u001b[0m0.0"
      ]
     },
     "metadata": {
      "after": [],
      "completed": "2021-08-10T19:06:11.835913",
      "data": {},
      "engine_id": 1,
      "engine_uuid": "b297604b-273b618bc8bbda6211570159",
      "error": null,
      "execute_input": "from openmdao.utils.assert_utils import assert_near_equal\n\nassert_near_equal(prob.get_val(var, get_remote=True), np.array([7., 12., 19., 28., 39., 52., 67.]))\n",
      "execute_result": {
       "data": {
        "text/plain": "0.0"
       },
       "execution_count": 12,
       "metadata": {}
      },
      "follow": [],
      "msg_id": "4d268208-42e386809ea8a5c112da5678_46",
      "outputs": [],
      "received": "2021-08-10T19:06:11.837484",
      "started": "2021-08-10T19:06:11.818189",
      "status": "ok",
      "stderr": "",
      "stdout": "",
      "submitted": "2021-08-10T19:06:11.816519"
     },
     "output_type": "display_data"
    },
    {
     "data": {
      "text/plain": [
       "\u001b[0;31mOut[2:12]: \u001b[0m0.0"
      ]
     },
     "metadata": {
      "after": [],
      "completed": "2021-08-10T19:06:11.835265",
      "data": {},
      "engine_id": 2,
      "engine_uuid": "bee2496b-efb0d1621c8a295a2bd1414d",
      "error": null,
      "execute_input": "from openmdao.utils.assert_utils import assert_near_equal\n\nassert_near_equal(prob.get_val(var, get_remote=True), np.array([7., 12., 19., 28., 39., 52., 67.]))\n",
      "execute_result": {
       "data": {
        "text/plain": "0.0"
       },
       "execution_count": 12,
       "metadata": {}
      },
      "follow": [],
      "msg_id": "4d268208-42e386809ea8a5c112da5678_47",
      "outputs": [],
      "received": "2021-08-10T19:06:11.836218",
      "started": "2021-08-10T19:06:11.818242",
      "status": "ok",
      "stderr": "",
      "stdout": "",
      "submitted": "2021-08-10T19:06:11.816583"
     },
     "output_type": "display_data"
    },
    {
     "data": {
      "text/plain": [
       "\u001b[0;31mOut[3:12]: \u001b[0m0.0"
      ]
     },
     "metadata": {
      "after": [],
      "completed": "2021-08-10T19:06:11.834915",
      "data": {},
      "engine_id": 3,
      "engine_uuid": "bb8be045-8485c1178baba84c49f27292",
      "error": null,
      "execute_input": "from openmdao.utils.assert_utils import assert_near_equal\n\nassert_near_equal(prob.get_val(var, get_remote=True), np.array([7., 12., 19., 28., 39., 52., 67.]))\n",
      "execute_result": {
       "data": {
        "text/plain": "0.0"
       },
       "execution_count": 12,
       "metadata": {}
      },
      "follow": [],
      "msg_id": "4d268208-42e386809ea8a5c112da5678_48",
      "outputs": [],
      "received": "2021-08-10T19:06:11.835839",
      "started": "2021-08-10T19:06:11.820136",
      "status": "ok",
      "stderr": "",
      "stdout": "",
      "submitted": "2021-08-10T19:06:11.816641"
     },
     "output_type": "display_data"
    }
   ],
   "source": [
    "%%px\n",
    "from openmdao.utils.assert_utils import assert_near_equal\n",
    "\n",
    "assert_near_equal(prob.get_val(var, get_remote=True), np.array([7., 12., 19., 28., 39., 52., 67.]))"
   ]
  },
  {
   "cell_type": "markdown",
   "metadata": {},
   "source": [
    "Note that we created a connection source 'x_dist' that passes its value to 'D1.in_dist'.  OpenMDAO requires a source for non-constant inputs, and usually creates one automatically on a component refered to as an 'Auto-IVC'. However, the automatic creation is not supported for distributed variables.  We must manually create an `IndepVarComp` and connect it to our input. \n",
    "\n",
    "When using distributed variables, OpenMDAO can't always size the component inputs based on the shape of the connected source. In this example, the component determines its own split using `evenly_distrib_idxs`. This requires that the component know the full vector size, which is passed in via the option 'vec_size'."
   ]
  },
  {
   "cell_type": "code",
   "execution_count": 20,
   "metadata": {},
   "outputs": [
    {
     "name": "stdout",
     "output_type": "stream",
     "text": [
      "[stdout:0] \n",
      "indep.x_dist [3. 4.]\n",
      "D1.out_dist [ 7. 12.]\n",
      "indep.x_dist [3. 4. 5. 6. 7. 8. 9.]\n",
      "D1.out_dist [ 7. 12. 19. 28. 39. 52. 67.]\n",
      "\n",
      "[stdout:1] \n",
      "indep.x_dist [5. 6.]\n",
      "D1.out_dist [19. 28.]\n",
      "indep.x_dist [3. 4. 5. 6. 7. 8. 9.]\n",
      "D1.out_dist [ 7. 12. 19. 28. 39. 52. 67.]\n",
      "\n",
      "[stdout:2] \n",
      "indep.x_dist [7. 8.]\n",
      "D1.out_dist [39. 52.]\n",
      "indep.x_dist [3. 4. 5. 6. 7. 8. 9.]\n",
      "D1.out_dist [ 7. 12. 19. 28. 39. 52. 67.]\n",
      "\n",
      "[stdout:3] \n",
      "indep.x_dist [9.]\n",
      "D1.out_dist [67.]\n",
      "indep.x_dist [3. 4. 5. 6. 7. 8. 9.]\n",
      "D1.out_dist [ 7. 12. 19. 28. 39. 52. 67.]\n",
      "\n"
     ]
    }
   ],
   "source": [
    "%%px\n",
    "\n",
    "import numpy as np\n",
    "\n",
    "import openmdao.api as om\n",
    "from openmdao.utils.array_utils import evenly_distrib_idxs\n",
    "from openmdao.utils.mpi import MPI\n",
    "\n",
    "class SimpleDistrib(om.ExplicitComponent):\n",
    "\n",
    "    def initialize(self):\n",
    "        self.options.declare('vec_size', types=int, default=1,\n",
    "                             desc=\"Total size of vector.\")\n",
    "\n",
    "    def setup(self):\n",
    "        comm = self.comm\n",
    "        rank = comm.rank\n",
    "\n",
    "        size = self.options['vec_size']\n",
    "        sizes, _ = evenly_distrib_idxs(comm.size, size)\n",
    "        mysize = sizes[rank]\n",
    "\n",
    "        # Distributed Input\n",
    "        self.add_input('in_dist', np.ones(mysize, float), distributed=True)\n",
    "\n",
    "        # Distributed Output\n",
    "        self.add_output('out_dist', np.ones(mysize, float), distributed=True)\n",
    "\n",
    "    def compute(self, inputs, outputs):\n",
    "        x = inputs['in_dist']\n",
    "\n",
    "        # \"Computationally Intensive\" operation that we wish to parallelize.\n",
    "        f_x = x**2 - 2.0*x + 4.0\n",
    "\n",
    "        outputs['out_dist'] = f_x\n",
    "\n",
    "\n",
    "size = 7\n",
    "\n",
    "if MPI:\n",
    "    comm = MPI.COMM_WORLD\n",
    "    rank = comm.rank\n",
    "    sizes, offsets = evenly_distrib_idxs(comm.size, size)\n",
    "else:\n",
    "    # When running in serial, the entire variable is on rank 0.\n",
    "    rank = 0\n",
    "    sizes = {rank : size}\n",
    "    offsets = {rank : 0}\n",
    "\n",
    "prob = om.Problem()\n",
    "model = prob.model\n",
    "\n",
    "# Create a distributed source for the distributed input.\n",
    "ivc = om.IndepVarComp()\n",
    "ivc.add_output('x_dist', np.zeros(sizes[rank]), distributed=True)\n",
    "\n",
    "model.add_subsystem(\"indep\", ivc)\n",
    "model.add_subsystem(\"D1\", SimpleDistrib(vec_size=size))\n",
    "\n",
    "model.connect('indep.x_dist', 'D1.in_dist')\n",
    "\n",
    "prob.setup()\n",
    "\n",
    "# Set initial values of distributed variable.\n",
    "x_dist_init = 3.0 + np.arange(size)[offsets[rank]:offsets[rank] + sizes[rank]]\n",
    "prob.set_val('indep.x_dist', x_dist_init)\n",
    "\n",
    "prob.run_model()\n",
    "\n",
    "# Values on each rank.\n",
    "for var in ['indep.x_dist', 'D1.out_dist']:\n",
    "    print(var, prob.get_val(var))\n",
    "\n",
    "# Full gathered values.\n",
    "for var in ['indep.x_dist', 'D1.out_dist']:\n",
    "    print(var, prob.get_val(var, get_remote=True))\n",
    "print('')"
   ]
  },
  {
   "cell_type": "code",
   "execution_count": 21,
   "metadata": {
    "tags": [
     "remove-input",
     "remove-output"
    ]
   },
   "outputs": [
    {
     "data": {
      "text/plain": [
       "\u001b[0;31mOut[0:20]: \u001b[0m0.0"
      ]
     },
     "metadata": {
      "after": [],
      "completed": "2021-08-10T20:49:50.870604",
      "data": {},
      "engine_id": 0,
      "engine_uuid": "4c67fa41-d3ffc3f0b83b40f53b99b60b",
      "error": null,
      "execute_input": "from openmdao.utils.assert_utils import assert_near_equal\n\nassert_near_equal(prob.get_val(var, get_remote=True), np.array([7., 12., 19., 28., 39., 52., 67.]))\n",
      "execute_result": {
       "data": {
        "text/plain": "0.0"
       },
       "execution_count": 20,
       "metadata": {}
      },
      "follow": [],
      "msg_id": "4d268208-42e386809ea8a5c112da5678_77",
      "outputs": [],
      "received": "2021-08-10T20:49:50.871984",
      "started": "2021-08-10T20:49:50.865517",
      "status": "ok",
      "stderr": "",
      "stdout": "",
      "submitted": "2021-08-10T20:49:50.862529"
     },
     "output_type": "display_data"
    },
    {
     "data": {
      "text/plain": [
       "\u001b[0;31mOut[1:20]: \u001b[0m0.0"
      ]
     },
     "metadata": {
      "after": [],
      "completed": "2021-08-10T20:49:50.869432",
      "data": {},
      "engine_id": 1,
      "engine_uuid": "b297604b-273b618bc8bbda6211570159",
      "error": null,
      "execute_input": "from openmdao.utils.assert_utils import assert_near_equal\n\nassert_near_equal(prob.get_val(var, get_remote=True), np.array([7., 12., 19., 28., 39., 52., 67.]))\n",
      "execute_result": {
       "data": {
        "text/plain": "0.0"
       },
       "execution_count": 20,
       "metadata": {}
      },
      "follow": [],
      "msg_id": "4d268208-42e386809ea8a5c112da5678_78",
      "outputs": [],
      "received": "2021-08-10T20:49:50.871428",
      "started": "2021-08-10T20:49:50.865718",
      "status": "ok",
      "stderr": "",
      "stdout": "",
      "submitted": "2021-08-10T20:49:50.862646"
     },
     "output_type": "display_data"
    },
    {
     "data": {
      "text/plain": [
       "\u001b[0;31mOut[2:20]: \u001b[0m0.0"
      ]
     },
     "metadata": {
      "after": [],
      "completed": "2021-08-10T20:49:50.868344",
      "data": {},
      "engine_id": 2,
      "engine_uuid": "bee2496b-efb0d1621c8a295a2bd1414d",
      "error": null,
      "execute_input": "from openmdao.utils.assert_utils import assert_near_equal\n\nassert_near_equal(prob.get_val(var, get_remote=True), np.array([7., 12., 19., 28., 39., 52., 67.]))\n",
      "execute_result": {
       "data": {
        "text/plain": "0.0"
       },
       "execution_count": 20,
       "metadata": {}
      },
      "follow": [],
      "msg_id": "4d268208-42e386809ea8a5c112da5678_79",
      "outputs": [],
      "received": "2021-08-10T20:49:50.870878",
      "started": "2021-08-10T20:49:50.865552",
      "status": "ok",
      "stderr": "",
      "stdout": "",
      "submitted": "2021-08-10T20:49:50.862715"
     },
     "output_type": "display_data"
    },
    {
     "data": {
      "text/plain": [
       "\u001b[0;31mOut[3:20]: \u001b[0m0.0"
      ]
     },
     "metadata": {
      "after": [],
      "completed": "2021-08-10T20:49:50.867963",
      "data": {},
      "engine_id": 3,
      "engine_uuid": "bb8be045-8485c1178baba84c49f27292",
      "error": null,
      "execute_input": "from openmdao.utils.assert_utils import assert_near_equal\n\nassert_near_equal(prob.get_val(var, get_remote=True), np.array([7., 12., 19., 28., 39., 52., 67.]))\n",
      "execute_result": {
       "data": {
        "text/plain": "0.0"
       },
       "execution_count": 20,
       "metadata": {}
      },
      "follow": [],
      "msg_id": "4d268208-42e386809ea8a5c112da5678_80",
      "outputs": [],
      "received": "2021-08-10T20:49:50.870314",
      "started": "2021-08-10T20:49:50.865642",
      "status": "ok",
      "stderr": "",
      "stdout": "",
      "submitted": "2021-08-10T20:49:50.862775"
     },
     "output_type": "display_data"
    }
   ],
   "source": [
    "%%px\n",
    "from openmdao.utils.assert_utils import assert_near_equal\n",
    "\n",
    "assert_near_equal(prob.get_val(var, get_remote=True), np.array([7., 12., 19., 28., 39., 52., 67.]))"
   ]
  },
  {
   "cell_type": "markdown",
   "metadata": {},
   "source": [
    "\n",
    "## Example: Distributed I/O and a Serial Input\n",
    "\n",
    "OpenMDAO supports both serial and distributed I/O on the same component, so in this example, we expand the problem to include a serial input. In this case, the serial input also has a vector width of 7, but those values will be the same on each processor. This serial input is included in the computation by taking the vector sum and adding it to the distributed output. No additional complications are introduced."
   ]
  },
  {
   "cell_type": "code",
   "execution_count": 15,
   "metadata": {},
   "outputs": [
    {
     "name": "stdout",
     "output_type": "stream",
     "text": [
      "[stdout:0] \n",
      "indep.x_dist [3. 4.]\n",
      "indep.x_serial [ 1.  3.  5.  7.  9. 11. 13.]\n",
      "D1.out_dist [24.53604616 29.53604616]\n",
      "indep.x_dist [3. 4. 5. 6. 7. 8. 9.]\n",
      "indep.x_serial [ 1.  3.  5.  7.  9. 11. 13.]\n",
      "D1.out_dist [24.53604616 29.53604616 36.53604616 45.53604616 56.53604616 69.53604616\n",
      " 84.53604616]\n",
      "\n",
      "[stdout:1] \n",
      "indep.x_dist [5. 6.]\n",
      "indep.x_serial [ 1.  3.  5.  7.  9. 11. 13.]\n",
      "D1.out_dist [36.53604616 45.53604616]\n",
      "indep.x_dist [3. 4. 5. 6. 7. 8. 9.]\n",
      "indep.x_serial [ 1.  3.  5.  7.  9. 11. 13.]\n",
      "D1.out_dist [24.53604616 29.53604616 36.53604616 45.53604616 56.53604616 69.53604616\n",
      " 84.53604616]\n",
      "\n",
      "[stdout:2] \n",
      "indep.x_dist [7. 8.]\n",
      "indep.x_serial [ 1.  3.  5.  7.  9. 11. 13.]\n",
      "D1.out_dist [56.53604616 69.53604616]\n",
      "indep.x_dist [3. 4. 5. 6. 7. 8. 9.]\n",
      "indep.x_serial [ 1.  3.  5.  7.  9. 11. 13.]\n",
      "D1.out_dist [24.53604616 29.53604616 36.53604616 45.53604616 56.53604616 69.53604616\n",
      " 84.53604616]\n",
      "\n",
      "[stdout:3] \n",
      "indep.x_dist [9.]\n",
      "indep.x_serial [ 1.  3.  5.  7.  9. 11. 13.]\n",
      "D1.out_dist [84.53604616]\n",
      "indep.x_dist [3. 4. 5. 6. 7. 8. 9.]\n",
      "indep.x_serial [ 1.  3.  5.  7.  9. 11. 13.]\n",
      "D1.out_dist [24.53604616 29.53604616 36.53604616 45.53604616 56.53604616 69.53604616\n",
      " 84.53604616]\n",
      "\n"
     ]
    }
   ],
   "source": [
    "%%px \n",
    "\n",
    "import numpy as np\n",
    "\n",
    "import openmdao.api as om\n",
    "from openmdao.utils.array_utils import evenly_distrib_idxs\n",
    "from openmdao.utils.mpi import MPI\n",
    "\n",
    "\n",
    "class MixedDistrib1(om.ExplicitComponent):\n",
    "\n",
    "    def setup(self):\n",
    "\n",
    "        # Distributed Input\n",
    "        self.add_input('in_dist', shape_by_conn=True, distributed=True)\n",
    "\n",
    "        # Serial Input\n",
    "        self.add_input('in_serial', shape_by_conn=True)\n",
    "\n",
    "        # Distributed Output\n",
    "        self.add_output('out_dist', copy_shape='in_dist', distributed=True)\n",
    "\n",
    "    def compute(self, inputs, outputs):\n",
    "        x = inputs['in_dist']\n",
    "        y = inputs['in_serial']\n",
    "\n",
    "        # \"Computationally Intensive\" operation that we wish to parallelize.\n",
    "        f_x = x**2 - 2.0*x + 4.0\n",
    "\n",
    "        # This operation is repeated on all procs.\n",
    "        f_y = y ** 0.5\n",
    "        \n",
    "        outputs['out_dist'] = f_x + np.sum(f_y)\n",
    "        \n",
    "size = 7\n",
    "\n",
    "if MPI:\n",
    "    comm = MPI.COMM_WORLD\n",
    "    rank = comm.rank\n",
    "    sizes, offsets = evenly_distrib_idxs(comm.size, size)\n",
    "else:\n",
    "    # When running in serial, the entire variable is on rank 0.\n",
    "    rank = 0\n",
    "    sizes = {rank : size}\n",
    "    offsets = {rank : 0}\n",
    "\n",
    "prob = om.Problem()\n",
    "model = prob.model\n",
    "\n",
    "# Create a distributed source for the distributed input.\n",
    "ivc = om.IndepVarComp()\n",
    "ivc.add_output('x_dist', np.zeros(sizes[rank]), distributed=True)\n",
    "ivc.add_output('x_serial', np.zeros(size))\n",
    "\n",
    "model.add_subsystem(\"indep\", ivc)\n",
    "model.add_subsystem(\"D1\", MixedDistrib1())\n",
    "\n",
    "model.connect('indep.x_dist', 'D1.in_dist')\n",
    "model.connect('indep.x_serial', 'D1.in_serial')\n",
    "\n",
    "prob.setup()\n",
    "\n",
    "# Set initial values of distributed variable.\n",
    "x_dist_init = 3.0 + np.arange(size)[offsets[rank]:offsets[rank] + sizes[rank]]\n",
    "prob.set_val('indep.x_dist', x_dist_init)\n",
    "\n",
    "# Set initial values of serial variable.\n",
    "x_serial_init = 1.0 + 2.0*np.arange(size)\n",
    "prob.set_val('indep.x_serial', x_serial_init)\n",
    "\n",
    "prob.run_model()\n",
    "\n",
    "# Values on each rank.\n",
    "for var in ['indep.x_dist', 'indep.x_serial', 'D1.out_dist']:\n",
    "    print(var, prob.get_val(var))\n",
    "    \n",
    "# Full gathered values.\n",
    "for var in ['indep.x_dist', 'indep.x_serial', 'D1.out_dist']:\n",
    "    print(var, prob.get_val(var, get_remote=True))\n",
    "print('')"
   ]
  },
  {
   "cell_type": "code",
   "execution_count": 16,
   "metadata": {
    "tags": [
     "remove-input",
     "remove-output"
    ]
   },
   "outputs": [
    {
     "data": {
      "text/plain": [
       "\u001b[0;31mOut[0:15]: \u001b[0m3.647532702175068e-11"
      ]
     },
     "metadata": {
      "after": [],
      "completed": "2021-08-10T19:40:20.378003",
      "data": {},
      "engine_id": 0,
      "engine_uuid": "4c67fa41-d3ffc3f0b83b40f53b99b60b",
      "error": null,
      "execute_input": "\nassert_near_equal(prob.get_val(var, get_remote=True), np.array([24.53604616, 29.53604616, 36.53604616, 45.53604616, 56.53604616, 69.53604616, 84.53604616]), 1e-6)\n",
      "execute_result": {
       "data": {
        "text/plain": "3.647532702175068e-11"
       },
       "execution_count": 15,
       "metadata": {}
      },
      "follow": [],
      "msg_id": "4d268208-42e386809ea8a5c112da5678_57",
      "outputs": [],
      "received": "2021-08-10T19:40:20.379448",
      "started": "2021-08-10T19:40:20.373797",
      "status": "ok",
      "stderr": "",
      "stdout": "",
      "submitted": "2021-08-10T19:40:20.371984"
     },
     "output_type": "display_data"
    },
    {
     "data": {
      "text/plain": [
       "\u001b[0;31mOut[1:15]: \u001b[0m3.647532702175068e-11"
      ]
     },
     "metadata": {
      "after": [],
      "completed": "2021-08-10T19:40:20.377942",
      "data": {},
      "engine_id": 1,
      "engine_uuid": "b297604b-273b618bc8bbda6211570159",
      "error": null,
      "execute_input": "\nassert_near_equal(prob.get_val(var, get_remote=True), np.array([24.53604616, 29.53604616, 36.53604616, 45.53604616, 56.53604616, 69.53604616, 84.53604616]), 1e-6)\n",
      "execute_result": {
       "data": {
        "text/plain": "3.647532702175068e-11"
       },
       "execution_count": 15,
       "metadata": {}
      },
      "follow": [],
      "msg_id": "4d268208-42e386809ea8a5c112da5678_58",
      "outputs": [],
      "received": "2021-08-10T19:40:20.380857",
      "started": "2021-08-10T19:40:20.373840",
      "status": "ok",
      "stderr": "",
      "stdout": "",
      "submitted": "2021-08-10T19:40:20.372096"
     },
     "output_type": "display_data"
    },
    {
     "data": {
      "text/plain": [
       "\u001b[0;31mOut[2:15]: \u001b[0m3.647532702175068e-11"
      ]
     },
     "metadata": {
      "after": [],
      "completed": "2021-08-10T19:40:20.376645",
      "data": {},
      "engine_id": 2,
      "engine_uuid": "bee2496b-efb0d1621c8a295a2bd1414d",
      "error": null,
      "execute_input": "\nassert_near_equal(prob.get_val(var, get_remote=True), np.array([24.53604616, 29.53604616, 36.53604616, 45.53604616, 56.53604616, 69.53604616, 84.53604616]), 1e-6)\n",
      "execute_result": {
       "data": {
        "text/plain": "3.647532702175068e-11"
       },
       "execution_count": 15,
       "metadata": {}
      },
      "follow": [],
      "msg_id": "4d268208-42e386809ea8a5c112da5678_59",
      "outputs": [],
      "received": "2021-08-10T19:40:20.378238",
      "started": "2021-08-10T19:40:20.373924",
      "status": "ok",
      "stderr": "",
      "stdout": "",
      "submitted": "2021-08-10T19:40:20.372252"
     },
     "output_type": "display_data"
    },
    {
     "data": {
      "text/plain": [
       "\u001b[0;31mOut[3:15]: \u001b[0m3.647532702175068e-11"
      ]
     },
     "metadata": {
      "after": [],
      "completed": "2021-08-10T19:40:20.376901",
      "data": {},
      "engine_id": 3,
      "engine_uuid": "bb8be045-8485c1178baba84c49f27292",
      "error": null,
      "execute_input": "\nassert_near_equal(prob.get_val(var, get_remote=True), np.array([24.53604616, 29.53604616, 36.53604616, 45.53604616, 56.53604616, 69.53604616, 84.53604616]), 1e-6)\n",
      "execute_result": {
       "data": {
        "text/plain": "3.647532702175068e-11"
       },
       "execution_count": 15,
       "metadata": {}
      },
      "follow": [],
      "msg_id": "4d268208-42e386809ea8a5c112da5678_60",
      "outputs": [],
      "received": "2021-08-10T19:40:20.378919",
      "started": "2021-08-10T19:40:20.373908",
      "status": "ok",
      "stderr": "",
      "stdout": "",
      "submitted": "2021-08-10T19:40:20.372308"
     },
     "output_type": "display_data"
    }
   ],
   "source": [
    "%%px\n",
    "\n",
    "assert_near_equal(prob.get_val(var, get_remote=True), np.array([24.53604616, 29.53604616, 36.53604616, 45.53604616, 56.53604616, 69.53604616, 84.53604616]), 1e-6)"
   ]
  },
  {
   "cell_type": "markdown",
   "metadata": {},
   "source": [
    "## Example: Distributed I/O and a Serial Ouput\n",
    "\n",
    "You can also create a component with a serial output and distributed outputs and inputs. This situation tends to be more tricky and usually requires you to performe some MPI operations in your component's `run` method. If the serial output is only a function of the serial inputs, then you can handle that variable just like you do on any other component. However, this example extends the previous component to include a serial output that is a function of both the serial and distributed inputs. In this case, it's a function of the sum of the square root of each element in the full distributed vector. Since the data is not all on any local processor, we use an MPI operation, in this case `Allreduce`, to make a summation across the distributed vector, and gather the answer back to each processor. The MPI operation and your implementation will vary, but consider this to be a general example."
   ]
  },
  {
   "cell_type": "code",
   "execution_count": 26,
   "metadata": {
    "tags": [
     "remove-output",
     "remove-input"
    ]
   },
   "outputs": [
    {
     "name": "stdout",
     "output_type": "stream",
     "text": [
      "[stdout:0] \n",
      "indep.x_dist [3. 4.]\n",
      "indep.x_serial [ 1.  3.  5.  7.  9. 11. 13.]\n",
      "D1.out_dist [24.53604616 29.53604616]\n",
      "D1.out_serial [ 15.89178696  29.89178696  51.89178696  81.89178696 119.89178696\n",
      " 165.89178696 219.89178696]\n",
      "indep.x_dist [3. 4. 5. 6. 7. 8. 9.]\n",
      "indep.x_serial [ 1.  3.  5.  7.  9. 11. 13.]\n",
      "D1.out_dist [24.53604616 29.53604616 36.53604616 45.53604616 56.53604616 69.53604616\n",
      " 84.53604616]\n",
      "D1.out_serial [ 15.89178696  29.89178696  51.89178696  81.89178696 119.89178696\n",
      " 165.89178696 219.89178696]\n",
      "\n",
      "[stdout:1] \n",
      "indep.x_dist [5. 6.]\n",
      "indep.x_serial [ 1.  3.  5.  7.  9. 11. 13.]\n",
      "D1.out_dist [36.53604616 45.53604616]\n",
      "D1.out_serial [ 15.89178696  29.89178696  51.89178696  81.89178696 119.89178696\n",
      " 165.89178696 219.89178696]\n",
      "indep.x_dist [3. 4. 5. 6. 7. 8. 9.]\n",
      "indep.x_serial [ 1.  3.  5.  7.  9. 11. 13.]\n",
      "D1.out_dist [24.53604616 29.53604616 36.53604616 45.53604616 56.53604616 69.53604616\n",
      " 84.53604616]\n",
      "D1.out_serial [ 15.89178696  29.89178696  51.89178696  81.89178696 119.89178696\n",
      " 165.89178696 219.89178696]\n",
      "\n",
      "[stdout:2] \n",
      "indep.x_dist [7. 8.]\n",
      "indep.x_serial [ 1.  3.  5.  7.  9. 11. 13.]\n",
      "D1.out_dist [56.53604616 69.53604616]\n",
      "D1.out_serial [ 15.89178696  29.89178696  51.89178696  81.89178696 119.89178696\n",
      " 165.89178696 219.89178696]\n",
      "indep.x_dist [3. 4. 5. 6. 7. 8. 9.]\n",
      "indep.x_serial [ 1.  3.  5.  7.  9. 11. 13.]\n",
      "D1.out_dist [24.53604616 29.53604616 36.53604616 45.53604616 56.53604616 69.53604616\n",
      " 84.53604616]\n",
      "D1.out_serial [ 15.89178696  29.89178696  51.89178696  81.89178696 119.89178696\n",
      " 165.89178696 219.89178696]\n",
      "\n",
      "[stdout:3] \n",
      "indep.x_dist [9.]\n",
      "indep.x_serial [ 1.  3.  5.  7.  9. 11. 13.]\n",
      "D1.out_dist [84.53604616]\n",
      "D1.out_serial [ 15.89178696  29.89178696  51.89178696  81.89178696 119.89178696\n",
      " 165.89178696 219.89178696]\n",
      "indep.x_dist [3. 4. 5. 6. 7. 8. 9.]\n",
      "indep.x_serial [ 1.  3.  5.  7.  9. 11. 13.]\n",
      "D1.out_dist [24.53604616 29.53604616 36.53604616 45.53604616 56.53604616 69.53604616\n",
      " 84.53604616]\n",
      "D1.out_serial [ 15.89178696  29.89178696  51.89178696  81.89178696 119.89178696\n",
      " 165.89178696 219.89178696]\n",
      "\n"
     ]
    }
   ],
   "source": [
    "%%px\n",
    "\n",
    "import numpy as np\n",
    "\n",
    "import openmdao.api as om\n",
    "from openmdao.utils.array_utils import evenly_distrib_idxs\n",
    "from openmdao.utils.mpi import MPI\n",
    "\n",
    "\n",
    "class MixedDistrib2(om.ExplicitComponent):\n",
    "\n",
    "    def setup(self):\n",
    "\n",
    "        # Distributed Input\n",
    "        self.add_input('in_dist', shape_by_conn=True, distributed=True)\n",
    "\n",
    "        # Serial Input\n",
    "        self.add_input('in_serial', shape_by_conn=True)\n",
    "\n",
    "        # Distributed Output\n",
    "        self.add_output('out_dist', copy_shape='in_dist', distributed=True)\n",
    "        \n",
    "        # Serial Output\n",
    "        self.add_output('out_serial', copy_shape='in_serial')\n",
    "\n",
    "    def compute(self, inputs, outputs):\n",
    "        x = inputs['in_dist']\n",
    "        y = inputs['in_serial']\n",
    "\n",
    "        # \"Computationally Intensive\" operation that we wish to parallelize.\n",
    "        f_x = x**2 - 2.0*x + 4.0\n",
    "\n",
    "        # These operations are repeated on all procs.\n",
    "        f_y = y ** 0.5\n",
    "        g_y = y**2 + 3.0*y - 5.0\n",
    "        \n",
    "        # Compute square root of our portion of the distributed input.\n",
    "        g_x = x ** 0.5\n",
    "        \n",
    "        # Distributed output\n",
    "        outputs['out_dist'] = f_x + np.sum(f_y)\n",
    "        \n",
    "        # Serial output\n",
    "        if MPI and comm.size > 1:\n",
    "\n",
    "            # We need to gather the summed values to compute the total sum over all procs.\n",
    "            local_sum = np.array(np.sum(g_x))\n",
    "            total_sum = local_sum.copy()\n",
    "            self.comm.Allreduce(local_sum, total_sum, op=MPI.SUM)\n",
    "            \n",
    "            outputs['out_serial'] = g_y + total_sum\n",
    "        else:\n",
    "            # Recommended to make sure your code can run in serial too, for testing.\n",
    "            outputs['out_serial'] = g_y + np.sum(g_x)\n",
    "        \n",
    "size = 7\n",
    "\n",
    "if MPI:\n",
    "    comm = MPI.COMM_WORLD\n",
    "    rank = comm.rank\n",
    "    sizes, offsets = evenly_distrib_idxs(comm.size, size)\n",
    "else:\n",
    "    # When running in serial, the entire variable is on rank 0.\n",
    "    rank = 0\n",
    "    sizes = {rank : size}\n",
    "    offsets = {rank : 0}\n",
    "\n",
    "prob = om.Problem()\n",
    "model = prob.model\n",
    "\n",
    "# Create a distributed source for the distributed input.\n",
    "ivc = om.IndepVarComp()\n",
    "ivc.add_output('x_dist', np.zeros(sizes[rank]), distributed=True)\n",
    "ivc.add_output('x_serial', np.zeros(size))\n",
    "\n",
    "model.add_subsystem(\"indep\", ivc)\n",
    "model.add_subsystem(\"D1\", MixedDistrib2())\n",
    "\n",
    "model.connect('indep.x_dist', 'D1.in_dist')\n",
    "model.connect('indep.x_serial', 'D1.in_serial')\n",
    "\n",
    "prob.setup()\n",
    "\n",
    "# Set initial values of distributed variable.\n",
    "x_dist_init = 3.0 + np.arange(size)[offsets[rank]:offsets[rank] + sizes[rank]]\n",
    "prob.set_val('indep.x_dist', x_dist_init)\n",
    "\n",
    "# Set initial values of serial variable.\n",
    "x_serial_init = 1.0 + 2.0*np.arange(size)\n",
    "prob.set_val('indep.x_serial', x_serial_init)\n",
    "\n",
    "prob.run_model()\n",
    "\n",
    "# Values on each rank.\n",
    "for var in ['indep.x_dist', 'indep.x_serial', 'D1.out_dist', 'D1.out_serial']:\n",
    "    print(var, prob.get_val(var))\n",
    "    \n",
    "# Full gathered values.\n",
    "for var in ['indep.x_dist', 'indep.x_serial', 'D1.out_dist', 'D1.out_serial']:\n",
    "    print(var, prob.get_val(var, get_remote=True))\n",
    "print('')"
   ]
  },
  {
   "cell_type": "code",
   "execution_count": 19,
   "metadata": {
    "tags": [
     "remove-input",
     "remove-output"
    ]
   },
   "outputs": [
    {
     "data": {
      "text/plain": [
       "\u001b[0;31mOut[0:18]: \u001b[0m3.0523193368003184e-11"
      ]
     },
     "metadata": {
      "after": [],
      "completed": "2021-08-10T20:17:26.398540",
      "data": {},
      "engine_id": 0,
      "engine_uuid": "4c67fa41-d3ffc3f0b83b40f53b99b60b",
      "error": null,
      "execute_input": "\nassert_near_equal(prob.get_val(var, get_remote=True), np.array([15.89178696, 29.89178696, 51.89178696, 81.89178696, 119.89178696, 165.89178696, 219.89178696]), 1e-6)\n",
      "execute_result": {
       "data": {
        "text/plain": "3.0523193368003184e-11"
       },
       "execution_count": 18,
       "metadata": {}
      },
      "follow": [],
      "msg_id": "4d268208-42e386809ea8a5c112da5678_69",
      "outputs": [],
      "received": "2021-08-10T20:17:26.402523",
      "started": "2021-08-10T20:17:26.395547",
      "status": "ok",
      "stderr": "",
      "stdout": "",
      "submitted": "2021-08-10T20:17:26.393719"
     },
     "output_type": "display_data"
    },
    {
     "data": {
      "text/plain": [
       "\u001b[0;31mOut[1:18]: \u001b[0m3.0523193368003184e-11"
      ]
     },
     "metadata": {
      "after": [],
      "completed": "2021-08-10T20:17:26.397794",
      "data": {},
      "engine_id": 1,
      "engine_uuid": "b297604b-273b618bc8bbda6211570159",
      "error": null,
      "execute_input": "\nassert_near_equal(prob.get_val(var, get_remote=True), np.array([15.89178696, 29.89178696, 51.89178696, 81.89178696, 119.89178696, 165.89178696, 219.89178696]), 1e-6)\n",
      "execute_result": {
       "data": {
        "text/plain": "3.0523193368003184e-11"
       },
       "execution_count": 18,
       "metadata": {}
      },
      "follow": [],
      "msg_id": "4d268208-42e386809ea8a5c112da5678_70",
      "outputs": [],
      "received": "2021-08-10T20:17:26.401656",
      "started": "2021-08-10T20:17:26.395589",
      "status": "ok",
      "stderr": "",
      "stdout": "",
      "submitted": "2021-08-10T20:17:26.393823"
     },
     "output_type": "display_data"
    },
    {
     "data": {
      "text/plain": [
       "\u001b[0;31mOut[2:18]: \u001b[0m3.0523193368003184e-11"
      ]
     },
     "metadata": {
      "after": [],
      "completed": "2021-08-10T20:17:26.398431",
      "data": {},
      "engine_id": 2,
      "engine_uuid": "bee2496b-efb0d1621c8a295a2bd1414d",
      "error": null,
      "execute_input": "\nassert_near_equal(prob.get_val(var, get_remote=True), np.array([15.89178696, 29.89178696, 51.89178696, 81.89178696, 119.89178696, 165.89178696, 219.89178696]), 1e-6)\n",
      "execute_result": {
       "data": {
        "text/plain": "3.0523193368003184e-11"
       },
       "execution_count": 18,
       "metadata": {}
      },
      "follow": [],
      "msg_id": "4d268208-42e386809ea8a5c112da5678_71",
      "outputs": [],
      "received": "2021-08-10T20:17:26.401999",
      "started": "2021-08-10T20:17:26.395629",
      "status": "ok",
      "stderr": "",
      "stdout": "",
      "submitted": "2021-08-10T20:17:26.393889"
     },
     "output_type": "display_data"
    },
    {
     "data": {
      "text/plain": [
       "\u001b[0;31mOut[3:18]: \u001b[0m3.0523193368003184e-11"
      ]
     },
     "metadata": {
      "after": [],
      "completed": "2021-08-10T20:17:26.400730",
      "data": {},
      "engine_id": 3,
      "engine_uuid": "bb8be045-8485c1178baba84c49f27292",
      "error": null,
      "execute_input": "\nassert_near_equal(prob.get_val(var, get_remote=True), np.array([15.89178696, 29.89178696, 51.89178696, 81.89178696, 119.89178696, 165.89178696, 219.89178696]), 1e-6)\n",
      "execute_result": {
       "data": {
        "text/plain": "3.0523193368003184e-11"
       },
       "execution_count": 18,
       "metadata": {}
      },
      "follow": [],
      "msg_id": "4d268208-42e386809ea8a5c112da5678_72",
      "outputs": [],
      "received": "2021-08-10T20:17:26.403062",
      "started": "2021-08-10T20:17:26.396533",
      "status": "ok",
      "stderr": "",
      "stdout": "",
      "submitted": "2021-08-10T20:17:26.393976"
     },
     "output_type": "display_data"
    }
   ],
   "source": [
    "%%px\n",
    "\n",
    "assert_near_equal(prob.get_val(var, get_remote=True), np.array([15.89178696, 29.89178696, 51.89178696, 81.89178696, 119.89178696, 165.89178696, 219.89178696]), 1e-6)"
   ]
  },
  {
   "cell_type": "markdown",
   "metadata": {},
   "source": [
    "```{note}\n",
    "In this example, we introduce a new component called an [IndepVarComp](indepvarcomp.ipynb). If you used OpenMDAO prior to version 3.2, then you are familiar with this component. It is used to define an independent variable.\n",
    "\n",
    "You usually do not have to define these because OpenMDAO defines and uses them automatically for all unconnected inputs in your model. However, when we define a distributed input, we often use the “src_indices” attribute to determine the allocation of that input to the processors that the component sees. For some sets of these indices, it isn’t possible to easily determine the full size of the corresponding independent variable, and the *IndepVarComp* cannot be created automatically. So, for unconnected inputs on a distributed component, you must manually create one, as we did in this example.\n",
    "```\n",
    "\n",
    "# Derivatives with Distributed Variables\n",
    "\n",
    "In the following examples, we show how to add analytic derivatives to the distributed examples given above. In most cases it is straighforward, but when you have a serial output and a distributed input, the matrix-free format is required.\n",
    "\n",
    "## Derivatives: Distributed I/O and a Serial Input\n",
    "\n",
    "In this example, we have a distributed input, a distributed output, and a serial input. The derivative of 'out_dist' with respect to 'in_dict' has a diagonal Jacobian, so we use sparse declaration and each processor gives `declare_partials` the local number of rows and columns. The derivatives are verified against complex step using `check_totals` since our component is complex-safe."
   ]
  },
  {
   "cell_type": "code",
   "execution_count": 22,
   "metadata": {},
   "outputs": [
    {
     "name": "stdout",
     "output_type": "stream",
     "text": [
      "[stdout:0] \n",
      "-------------------------\n",
      "Group: Group 'Full Model'\n",
      "-------------------------\n",
      "  Full Model: 'D1.out_dist' wrt 'indep.x_dist'\n",
      "    Analytic Magnitude: 2.849561e+01\n",
      "          Fd Magnitude: 2.849561e+01 (cs:None)\n",
      "    Absolute Error (Jan - Jfd) : 0.000000e+00\n",
      "\n",
      "    Relative Error (Jan - Jfd) / Jfd : 0.000000e+00\n",
      "    MPI Rank 0\n",
      "\n",
      "    Raw Analytic Derivative (Jfor)\n",
      "[[ 4.  0.  0.  0.  0.  0.  0.]\n",
      " [ 0.  6.  0.  0.  0.  0.  0.]\n",
      " [ 0.  0.  8.  0.  0.  0.  0.]\n",
      " [ 0.  0.  0. 10.  0.  0.  0.]\n",
      " [ 0.  0.  0.  0. 12.  0.  0.]\n",
      " [ 0.  0.  0.  0.  0. 14.  0.]\n",
      " [ 0.  0.  0.  0.  0.  0. 16.]]\n",
      "\n",
      "    Raw FD Derivative (Jfd)\n",
      "[[ 4.  0.  0.  0.  0.  0.  0.]\n",
      " [ 0.  6.  0.  0.  0.  0.  0.]\n",
      " [ 0.  0.  8.  0.  0.  0.  0.]\n",
      " [ 0.  0.  0. 10.  0.  0.  0.]\n",
      " [ 0.  0.  0.  0. 12.  0.  0.]\n",
      " [ 0.  0.  0.  0.  0. 14.  0.]\n",
      " [ 0.  0.  0.  0.  0.  0. 16.]]\n",
      "\n",
      " - - - - - - - - - - - - - - - - - - - - - - - - - - - - - -\n",
      "  Full Model: 'D1.out_dist' wrt 'indep.x_serial'\n",
      "    Analytic Magnitude: 1.849725e+00\n",
      "          Fd Magnitude: 1.849725e+00 (cs:None)\n",
      "    Absolute Error (Jan - Jfd) : 1.642042e-16\n",
      "\n",
      "    Relative Error (Jan - Jfd) / Jfd : 8.877220e-17\n",
      "    MPI Rank 0\n",
      "\n",
      "    Raw Analytic Derivative (Jfor)\n",
      "[[0.5        0.28867513 0.2236068  0.18898224 0.16666667 0.15075567\n",
      "  0.13867505]\n",
      " [0.5        0.28867513 0.2236068  0.18898224 0.16666667 0.15075567\n",
      "  0.13867505]\n",
      " [0.5        0.28867513 0.2236068  0.18898224 0.16666667 0.15075567\n",
      "  0.13867505]\n",
      " [0.5        0.28867513 0.2236068  0.18898224 0.16666667 0.15075567\n",
      "  0.13867505]\n",
      " [0.5        0.28867513 0.2236068  0.18898224 0.16666667 0.15075567\n",
      "  0.13867505]\n",
      " [0.5        0.28867513 0.2236068  0.18898224 0.16666667 0.15075567\n",
      "  0.13867505]\n",
      " [0.5        0.28867513 0.2236068  0.18898224 0.16666667 0.15075567\n",
      "  0.13867505]]\n",
      "\n",
      "    Raw FD Derivative (Jfd)\n",
      "[[0.5        0.28867513 0.2236068  0.18898224 0.16666667 0.15075567\n",
      "  0.13867505]\n",
      " [0.5        0.28867513 0.2236068  0.18898224 0.16666667 0.15075567\n",
      "  0.13867505]\n",
      " [0.5        0.28867513 0.2236068  0.18898224 0.16666667 0.15075567\n",
      "  0.13867505]\n",
      " [0.5        0.28867513 0.2236068  0.18898224 0.16666667 0.15075567\n",
      "  0.13867505]\n",
      " [0.5        0.28867513 0.2236068  0.18898224 0.16666667 0.15075567\n",
      "  0.13867505]\n",
      " [0.5        0.28867513 0.2236068  0.18898224 0.16666667 0.15075567\n",
      "  0.13867505]\n",
      " [0.5        0.28867513 0.2236068  0.18898224 0.16666667 0.15075567\n",
      "  0.13867505]]\n",
      "\n",
      " - - - - - - - - - - - - - - - - - - - - - - - - - - - - - -\n"
     ]
    }
   ],
   "source": [
    "%%px \n",
    "\n",
    "import numpy as np\n",
    "\n",
    "import openmdao.api as om\n",
    "from openmdao.utils.array_utils import evenly_distrib_idxs\n",
    "from openmdao.utils.mpi import MPI\n",
    "\n",
    "\n",
    "class MixedDistrib1(om.ExplicitComponent):\n",
    "\n",
    "    def setup(self):\n",
    "\n",
    "        # Distributed Input\n",
    "        self.add_input('in_dist', shape_by_conn=True, distributed=True)\n",
    "\n",
    "        # Serial Input\n",
    "        self.add_input('in_serial', shape_by_conn=True)\n",
    "\n",
    "        # Distributed Output\n",
    "        self.add_output('out_dist', copy_shape='in_dist', distributed=True)\n",
    "\n",
    "    def setup_partials(self):\n",
    "        meta = self.get_io_metadata(metadata_keys=['shape'])\n",
    "        local_size = meta['in_dist']['shape'][0]\n",
    "\n",
    "        row_col_d = np.arange(local_size)\n",
    "\n",
    "        self.declare_partials('out_dist', 'in_dist', rows=row_col_d, cols=row_col_d)\n",
    "        self.declare_partials('out_dist', 'in_serial')\n",
    "\n",
    "    def compute(self, inputs, outputs):\n",
    "        x = inputs['in_dist']\n",
    "        y = inputs['in_serial']\n",
    "\n",
    "        # \"Computationally Intensive\" operation that we wish to parallelize.\n",
    "        f_x = x**2 - 2.0*x + 4.0\n",
    "\n",
    "        # This operation is repeated on all procs.\n",
    "        f_y = y ** 0.5\n",
    "\n",
    "        outputs['out_dist'] = f_x + np.sum(f_y)\n",
    "\n",
    "    def compute_partials(self, inputs, partials):\n",
    "        x = inputs['in_dist']\n",
    "        y = inputs['in_serial']\n",
    "        size = len(y)\n",
    "        local_size = len(x)\n",
    "\n",
    "        partials['out_dist', 'in_dist'] = 2.0 * x - 2.0\n",
    "\n",
    "        df_dy = 0.5 / y ** 0.5\n",
    "        partials['out_dist', 'in_serial'] = np.tile(df_dy, local_size).reshape((local_size, size))\n",
    "\n",
    "\n",
    "size = 7\n",
    "\n",
    "if MPI:\n",
    "    comm = MPI.COMM_WORLD\n",
    "    rank = comm.rank\n",
    "    sizes, offsets = evenly_distrib_idxs(comm.size, size)\n",
    "else:\n",
    "    # When running in serial, the entire variable is on rank 0.\n",
    "    rank = 0\n",
    "    sizes = {rank : size}\n",
    "    offsets = {rank : 0}\n",
    "\n",
    "prob = om.Problem()\n",
    "model = prob.model\n",
    "\n",
    "# Create a distributed source for the distributed input.\n",
    "ivc = om.IndepVarComp()\n",
    "ivc.add_output('x_dist', np.zeros(sizes[rank]), distributed=True)\n",
    "ivc.add_output('x_serial', np.zeros(size))\n",
    "\n",
    "model.add_subsystem(\"indep\", ivc)\n",
    "model.add_subsystem(\"D1\", MixedDistrib1())\n",
    "\n",
    "model.connect('indep.x_dist', 'D1.in_dist')\n",
    "model.connect('indep.x_serial', 'D1.in_serial')\n",
    "\n",
    "model.add_design_var('indep.x_serial')\n",
    "model.add_design_var('indep.x_dist')\n",
    "model.add_objective('D1.out_dist')\n",
    "\n",
    "prob.setup(force_alloc_complex=True)\n",
    "\n",
    "# Set initial values of distributed variable.\n",
    "x_dist_init = 3.0 + np.arange(size)[offsets[rank]:offsets[rank] + sizes[rank]]\n",
    "prob.set_val('indep.x_dist', x_dist_init)\n",
    "\n",
    "# Set initial values of serial variable.\n",
    "x_serial_init = 1.0 + 2.0*np.arange(size)\n",
    "prob.set_val('indep.x_serial', x_serial_init)\n",
    "\n",
    "prob.run_model()\n",
    "\n",
    "if rank > 0:\n",
    "    prob.check_totals(method='cs', out_stream=None)\n",
    "else:\n",
    "    prob.check_totals(method='cs')\n"
   ]
  },
  {
   "cell_type": "code",
   "execution_count": 23,
   "metadata": {
    "tags": [
     "remove-input",
     "remove-output"
    ]
   },
   "outputs": [],
   "source": [
    "%%px\n",
    "\n",
    "totals = prob.check_totals(method='cs', out_stream=None)\n",
    "for key, val in totals.items():\n",
    "    assert_near_equal(val['rel error'][0], 0.0, 1e-6)"
   ]
  },
  {
   "cell_type": "markdown",
   "metadata": {},
   "source": [
    "## Derivatives: Distributed I/O and a Serial Output"
   ]
  },
  {
   "cell_type": "code",
   "execution_count": 24,
   "metadata": {},
   "outputs": [
    {
     "name": "stdout",
     "output_type": "stream",
     "text": [
      "[stdout:0] \n",
      "-------------------------\n",
      "Group: Group 'Full Model'\n",
      "-------------------------\n",
      "  Full Model: 'D1.out_dist' wrt 'indep.x_dist'\n",
      "    Analytic Magnitude: 2.849561e+01\n",
      "          Fd Magnitude: 2.849561e+01 (cs:None)\n",
      "    Absolute Error (Jan - Jfd) : 0.000000e+00\n",
      "\n",
      "    Relative Error (Jan - Jfd) / Jfd : 0.000000e+00\n",
      "    MPI Rank 0\n",
      "\n",
      "    Raw Analytic Derivative (Jfor)\n",
      "[[ 4. -0. -0. -0. -0. -0. -0.]\n",
      " [-0.  6. -0. -0. -0. -0. -0.]\n",
      " [-0. -0.  8. -0. -0. -0. -0.]\n",
      " [-0. -0. -0. 10. -0. -0. -0.]\n",
      " [-0. -0. -0. -0. 12. -0. -0.]\n",
      " [-0. -0. -0. -0. -0. 14. -0.]\n",
      " [-0. -0. -0. -0. -0. -0. 16.]]\n",
      "\n",
      "    Raw FD Derivative (Jfd)\n",
      "[[ 4.  0.  0.  0.  0.  0.  0.]\n",
      " [ 0.  6.  0.  0.  0.  0.  0.]\n",
      " [ 0.  0.  8.  0.  0.  0.  0.]\n",
      " [ 0.  0.  0. 10.  0.  0.  0.]\n",
      " [ 0.  0.  0.  0. 12.  0.  0.]\n",
      " [ 0.  0.  0.  0.  0. 14.  0.]\n",
      " [ 0.  0.  0.  0.  0.  0. 16.]]\n",
      "\n",
      " - - - - - - - - - - - - - - - - - - - - - - - - - - - - - -\n",
      "  Full Model: 'D1.out_dist' wrt 'indep.x_serial'\n",
      "    Analytic Magnitude: 1.849725e+00\n",
      "          Fd Magnitude: 1.849725e+00 (cs:None)\n",
      "    Absolute Error (Jan - Jfd) : 1.642042e-16\n",
      "\n",
      "    Relative Error (Jan - Jfd) / Jfd : 8.877220e-17\n",
      "    MPI Rank 0\n",
      "\n",
      "    Raw Analytic Derivative (Jfor)\n",
      "[[0.5        0.28867513 0.2236068  0.18898224 0.16666667 0.15075567\n",
      "  0.13867505]\n",
      " [0.5        0.28867513 0.2236068  0.18898224 0.16666667 0.15075567\n",
      "  0.13867505]\n",
      " [0.5        0.28867513 0.2236068  0.18898224 0.16666667 0.15075567\n",
      "  0.13867505]\n",
      " [0.5        0.28867513 0.2236068  0.18898224 0.16666667 0.15075567\n",
      "  0.13867505]\n",
      " [0.5        0.28867513 0.2236068  0.18898224 0.16666667 0.15075567\n",
      "  0.13867505]\n",
      " [0.5        0.28867513 0.2236068  0.18898224 0.16666667 0.15075567\n",
      "  0.13867505]\n",
      " [0.5        0.28867513 0.2236068  0.18898224 0.16666667 0.15075567\n",
      "  0.13867505]]\n",
      "\n",
      "    Raw FD Derivative (Jfd)\n",
      "[[0.5        0.28867513 0.2236068  0.18898224 0.16666667 0.15075567\n",
      "  0.13867505]\n",
      " [0.5        0.28867513 0.2236068  0.18898224 0.16666667 0.15075567\n",
      "  0.13867505]\n",
      " [0.5        0.28867513 0.2236068  0.18898224 0.16666667 0.15075567\n",
      "  0.13867505]\n",
      " [0.5        0.28867513 0.2236068  0.18898224 0.16666667 0.15075567\n",
      "  0.13867505]\n",
      " [0.5        0.28867513 0.2236068  0.18898224 0.16666667 0.15075567\n",
      "  0.13867505]\n",
      " [0.5        0.28867513 0.2236068  0.18898224 0.16666667 0.15075567\n",
      "  0.13867505]\n",
      " [0.5        0.28867513 0.2236068  0.18898224 0.16666667 0.15075567\n",
      "  0.13867505]]\n",
      "\n",
      " - - - - - - - - - - - - - - - - - - - - - - - - - - - - - -\n",
      "  Full Model: 'D1.out_serial' wrt 'indep.x_dist'\n",
      "    Analytic Magnitude: 1.525023e+00\n",
      "          Fd Magnitude: 1.525023e+00 (cs:None)\n",
      "    Absolute Error (Jan - Jfd) : 1.798767e-16\n",
      "\n",
      "    Relative Error (Jan - Jfd) / Jfd : 1.179502e-16\n",
      "    MPI Rank 0\n",
      "\n",
      "    Raw Analytic Derivative (Jfor)\n",
      "[[0.28867513 0.25       0.2236068  0.20412415 0.18898224 0.1767767\n",
      "  0.16666667]\n",
      " [0.28867513 0.25       0.2236068  0.20412415 0.18898224 0.1767767\n",
      "  0.16666667]\n",
      " [0.28867513 0.25       0.2236068  0.20412415 0.18898224 0.1767767\n",
      "  0.16666667]\n",
      " [0.28867513 0.25       0.2236068  0.20412415 0.18898224 0.1767767\n",
      "  0.16666667]\n",
      " [0.28867513 0.25       0.2236068  0.20412415 0.18898224 0.1767767\n",
      "  0.16666667]\n",
      " [0.28867513 0.25       0.2236068  0.20412415 0.18898224 0.1767767\n",
      "  0.16666667]\n",
      " [0.28867513 0.25       0.2236068  0.20412415 0.18898224 0.1767767\n",
      "  0.16666667]]\n",
      "\n",
      "    Raw FD Derivative (Jfd)\n",
      "[[0.28867513 0.25       0.2236068  0.20412415 0.18898224 0.1767767\n",
      "  0.16666667]\n",
      " [0.28867513 0.25       0.2236068  0.20412415 0.18898224 0.1767767\n",
      "  0.16666667]\n",
      " [0.28867513 0.25       0.2236068  0.20412415 0.18898224 0.1767767\n",
      "  0.16666667]\n",
      " [0.28867513 0.25       0.2236068  0.20412415 0.18898224 0.1767767\n",
      "  0.16666667]\n",
      " [0.28867513 0.25       0.2236068  0.20412415 0.18898224 0.1767767\n",
      "  0.16666667]\n",
      " [0.28867513 0.25       0.2236068  0.20412415 0.18898224 0.1767767\n",
      "  0.16666667]\n",
      " [0.28867513 0.25       0.2236068  0.20412415 0.18898224 0.1767767\n",
      "  0.16666667]]\n",
      "\n",
      " - - - - - - - - - - - - - - - - - - - - - - - - - - - - - -\n",
      "  Full Model: 'D1.out_serial' wrt 'indep.x_serial'\n",
      "    Analytic Magnitude: 4.970915e+01\n",
      "          Fd Magnitude: 4.970915e+01 (cs:None)\n",
      "    Absolute Error (Jan - Jfd) : 3.552714e-15\n",
      "\n",
      "    Relative Error (Jan - Jfd) / Jfd : 7.147001e-17\n",
      "    MPI Rank 0\n",
      "\n",
      "    Raw Analytic Derivative (Jfor)\n",
      "[[ 5. -0. -0. -0. -0. -0. -0.]\n",
      " [-0.  9. -0. -0. -0. -0. -0.]\n",
      " [-0. -0. 13. -0. -0. -0. -0.]\n",
      " [-0. -0. -0. 17. -0. -0. -0.]\n",
      " [-0. -0. -0. -0. 21. -0. -0.]\n",
      " [-0. -0. -0. -0. -0. 25. -0.]\n",
      " [-0. -0. -0. -0. -0. -0. 29.]]\n",
      "\n",
      "    Raw FD Derivative (Jfd)\n",
      "[[ 5.  0.  0.  0.  0.  0.  0.]\n",
      " [ 0.  9.  0.  0.  0.  0.  0.]\n",
      " [ 0.  0. 13.  0.  0.  0.  0.]\n",
      " [ 0.  0.  0. 17.  0.  0.  0.]\n",
      " [ 0.  0.  0.  0. 21.  0.  0.]\n",
      " [ 0.  0.  0.  0.  0. 25.  0.]\n",
      " [ 0.  0.  0.  0.  0.  0. 29.]]\n",
      "\n",
      " - - - - - - - - - - - - - - - - - - - - - - - - - - - - - -\n"
     ]
    }
   ],
   "source": [
    "%%px\n",
    "\n",
    "\n",
    "import numpy as np\n",
    "\n",
    "import openmdao.api as om\n",
    "from openmdao.utils.array_utils import evenly_distrib_idxs\n",
    "from openmdao.utils.mpi import MPI\n",
    "\n",
    "\n",
    "class MixedDistrib2(om.ExplicitComponent):\n",
    "\n",
    "    def setup(self):\n",
    "\n",
    "        # Distributed Input\n",
    "        self.add_input('in_dist', shape_by_conn=True, distributed=True)\n",
    "\n",
    "        # Serial Input\n",
    "        self.add_input('in_serial', shape_by_conn=True)\n",
    "\n",
    "        # Distributed Output\n",
    "        self.add_output('out_dist', copy_shape='in_dist', distributed=True)\n",
    "\n",
    "        # Serial Output\n",
    "        self.add_output('out_serial', copy_shape='in_serial')\n",
    "\n",
    "    def compute(self, inputs, outputs):\n",
    "        x = inputs['in_dist']\n",
    "        y = inputs['in_serial']\n",
    "\n",
    "        # \"Computationally Intensive\" operation that we wish to parallelize.\n",
    "        f_x = x**2 - 2.0*x + 4.0\n",
    "\n",
    "        # These operations are repeated on all procs.\n",
    "        f_y = y ** 0.5\n",
    "        g_y = y**2 + 3.0*y - 5.0\n",
    "\n",
    "        # Compute square root of our portion of the distributed input.\n",
    "        g_x = x ** 0.5\n",
    "\n",
    "        # Distributed output\n",
    "        outputs['out_dist'] = f_x + np.sum(f_y)\n",
    "\n",
    "        # Serial output\n",
    "        if MPI and comm.size > 1:\n",
    "\n",
    "            # We need to gather the summed values to compute the total sum over all procs.\n",
    "            local_sum = np.array(np.sum(g_x))\n",
    "            total_sum = local_sum.copy()\n",
    "            self.comm.Allreduce(local_sum, total_sum, op=MPI.SUM)\n",
    "            outputs['out_serial'] = g_y + total_sum\n",
    "        else:\n",
    "            # Recommended to make sure your code can run in serial too, for testing.\n",
    "            outputs['out_serial'] = g_y + np.sum(g_x)\n",
    "\n",
    "    def compute_jacvec_product(self, inputs, d_inputs, d_outputs, mode):\n",
    "        x = inputs['in_dist']\n",
    "        y = inputs['in_serial']\n",
    "\n",
    "        df_dx = 2.0 * x - 2.0\n",
    "        df_dy = 0.5 / y ** 0.5\n",
    "        dg_dx = 0.5 / x ** 0.5\n",
    "        dg_dy = 2.0 * y + 3.0\n",
    "\n",
    "        local_size = len(x)\n",
    "        size = len(y)\n",
    "\n",
    "        if mode == 'fwd':\n",
    "            if 'out_dist' in d_outputs:\n",
    "                if 'in_dist' in d_inputs:\n",
    "                    d_outputs['out_dist'] += df_dx * d_inputs['in_dist']\n",
    "                if 'in_serial' in d_inputs:\n",
    "                    d_outputs['out_dist'] += np.tile(df_dy, local_size).reshape((local_size, size)).dot(d_inputs['in_serial'])\n",
    "            if 'out_serial' in d_outputs:\n",
    "                if 'in_dist' in d_inputs:\n",
    "                    if MPI and comm.size > 1:\n",
    "                        deriv = np.tile(dg_dx, size).reshape((size, local_size)).dot(d_inputs['in_dist'])\n",
    "                        deriv_sum = np.zeros(deriv.size)\n",
    "                        self.comm.Allreduce(deriv, deriv_sum, op=MPI.SUM)\n",
    "                        d_outputs['out_serial'] += deriv_sum\n",
    "                    else:\n",
    "                        d_outputs['out_serial'] += np.tile(dg_dx, local_size).reshape((local_size, size)).dot(d_inputs['in_dist'])\n",
    "                if 'in_serial' in d_inputs:\n",
    "                    d_outputs['out_serial'] += dg_dy * d_inputs['in_serial']\n",
    "\n",
    "        else:\n",
    "            if 'out_dist' in d_outputs:\n",
    "                if 'in_dist' in d_inputs:\n",
    "                    d_inputs['in_dist'] += df_dx * d_outputs['out_dist']\n",
    "                if 'in_serial' in d_inputs:\n",
    "                    d_inputs['in_serial'] += np.tile(df_dy, local_size).reshape((local_size, size)).dot(d_outputs['out_dist'])\n",
    "            if 'out_serial' in d_outputs:\n",
    "                if 'out_serial' in d_outputs:\n",
    "                    if 'in_dist' in d_inputs:\n",
    "                        if MPI and comm.size > 1:\n",
    "                            deriv = np.tile(dg_dx, size).reshape((size, local_size)).dot(d_outputs['out_serial'])\n",
    "                            deriv_sum = np.zeros(deriv.size)\n",
    "                            self.comm.Allreduce(deriv, deriv_sum, op=MPI.SUM)\n",
    "                            d_inputs['in_dist'] += deriv_sum\n",
    "                        else:\n",
    "                            d_inputs['in_dist'] += np.tile(dg_dx, local_size).reshape((local_size, size)).dot(d_outputs['out_serial'])                \n",
    "                if 'in_serial' in d_inputs:\n",
    "                    d_inputs['in_serial'] += dg_dy * d_outputs['out_serial']\n",
    "\n",
    "\n",
    "size = 7\n",
    "\n",
    "if MPI:\n",
    "    comm = MPI.COMM_WORLD\n",
    "    rank = comm.rank\n",
    "    sizes, offsets = evenly_distrib_idxs(comm.size, size)\n",
    "else:\n",
    "    # When running in serial, the entire variable is on rank 0.\n",
    "    rank = 0\n",
    "    sizes = {rank : size}\n",
    "    offsets = {rank : 0}\n",
    "\n",
    "prob = om.Problem()\n",
    "model = prob.model\n",
    "\n",
    "# Create a distributed source for the distributed input.\n",
    "ivc = om.IndepVarComp()\n",
    "ivc.add_output('x_dist', np.zeros(sizes[rank]), distributed=True)\n",
    "ivc.add_output('x_serial', np.zeros(size))\n",
    "\n",
    "model.add_subsystem(\"indep\", ivc)\n",
    "model.add_subsystem(\"D1\", MixedDistrib2())\n",
    "\n",
    "model.connect('indep.x_dist', 'D1.in_dist')\n",
    "model.connect('indep.x_serial', 'D1.in_serial')\n",
    "\n",
    "model.add_design_var('indep.x_serial')\n",
    "model.add_design_var('indep.x_dist')\n",
    "model.add_constraint('D1.out_dist', lower=0.0)\n",
    "model.add_constraint('D1.out_serial', lower=0.0)\n",
    "\n",
    "prob.setup(force_alloc_complex=True)\n",
    "\n",
    "# Set initial values of distributed variable.\n",
    "x_dist_init = 3.0 + np.arange(size)[offsets[rank]:offsets[rank] + sizes[rank]]\n",
    "prob.set_val('indep.x_dist', x_dist_init)\n",
    "\n",
    "# Set initial values of serial variable.\n",
    "x_serial_init = 1.0 + 2.0*np.arange(size)\n",
    "prob.set_val('indep.x_serial', x_serial_init)\n",
    "\n",
    "prob.run_model()\n",
    "\n",
    "if rank > 0:\n",
    "    prob.check_totals(method='cs', out_stream=None)\n",
    "else:\n",
    "    prob.check_totals(method='cs')"
   ]
  },
  {
   "cell_type": "code",
   "execution_count": 25,
   "metadata": {
    "tags": [
     "remove-input",
     "remove-output"
    ]
   },
   "outputs": [],
   "source": [
    "%%px\n",
    "\n",
    "totals = prob.check_totals(method='cs', out_stream=None)\n",
    "for key, val in totals.items():\n",
    "    assert_near_equal(val['rel error'][0], 0.0, 1e-6)"
   ]
  },
  {
   "cell_type": "code",
   "execution_count": null,
   "metadata": {},
   "outputs": [],
   "source": []
  }
 ],
 "metadata": {
  "celltoolbar": "Tags",
  "kernelspec": {
   "display_name": "Python 3",
   "language": "python",
   "name": "python3"
  },
  "language_info": {
   "codemirror_mode": {
    "name": "ipython",
    "version": 3
   },
   "file_extension": ".py",
   "mimetype": "text/x-python",
   "name": "python",
   "nbconvert_exporter": "python",
   "pygments_lexer": "ipython3",
   "version": "3.8.10"
  },
  "orphan": true
 },
 "nbformat": 4,
 "nbformat_minor": 4
}
