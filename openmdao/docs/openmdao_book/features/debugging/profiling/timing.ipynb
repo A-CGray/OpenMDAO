{
 "cells": [
  {
   "cell_type": "code",
   "execution_count": null,
   "metadata": {
    "tags": [
     "remove-input",
     "active-ipynb",
     "remove-output"
    ]
   },
   "outputs": [],
   "source": [
    "try:\n",
    "    from openmdao.utils.notebook_utils import notebook_mode\n",
    "except ImportError:\n",
    "    !python -m pip install openmdao[notebooks]"
   ]
  },
  {
   "cell_type": "markdown",
   "metadata": {},
   "source": [
    "# Timing Systems under MPI\n",
    "\n",
    "There is another way to view timings for methods called on specific group and component instances in an OpenMDAO model.  Not only does it\n",
    "have lower overhead than the previously discussed instance-based profiler, but it also displays, when running your model under MPI, how that model spends its time across MPI processes.\n",
    "\n",
    "The simplest way to use it is via the command line using the `openmdao timing` command. For example:\n",
    "``` bash\n",
    "    openmdao timing <your_python_script_here>\n",
    "```\n",
    "\n",
    "This will collect the timing data and pop up a table viewer like the one shown below.\n",
    "\n",
    "![An example of a timing viewer](timing_viewer.png)\n",
    "\n",
    "\n",
    "There is a row in the table for each method specified for each group or component instance in the model, on each MPI rank.  The default set of methods is `_solve_nonlinear`, `_solve_linear`, `_apply_nonlinear`, `_apply_linear`, and `_linearize`. There are columns in the table for mpi rank, number of procs, level in the system tree, whether a system is a parallel group or not, problem name, system path, method name, number of calls, total time, percent of total time, average time, min time, and max time. All columns are sortable, and are also filterable in most cases.\n",
    "\n",
    "By using filters on various columns, it's a simple process to zero in on any level of the system tree containing children of a ParallelGroup in order to see how processes and execution time is split up among those children. For example, in the table shown above, we've filtered out all but tree level 3 and all systems but `traj.phases` and below.  Finally, we've filtered out all functions but `_solve_nonlinear`. This combination of filters shows us only the direct children of `traj.phases` which happens to be a ParallelGroup.  And we can see from the table that `traj.phases.climb2` is using 3 processes, while all of the other children share a single process.  The model in this example was run using 4 processes.  Looking at the time taken by `climb2` vs the other children, it might actually be better to run this model without using a ParallelGroup for `traj.phases` at all!\n",
    "\n",
    "\n",
    "Documentation of options for all commands described here can be obtained by running the command followed by the -h option. For example:\n",
    "\n",
    "``` bash\n",
    "    openmdao timing -h\n",
    "```\n",
    "\n",
    "```\n",
    "usage: openmdao timing [-h] [-o OUTFILE] [-f FUNCS] [-v VIEW] [--use_context] file\n",
    "\n",
    "positional arguments:\n",
    "  file                  Python file containing the model, or pickle file containing previously\n",
    "                        recorded timing data.\n",
    "\n",
    "optional arguments:\n",
    "  -h, --help            show this help message and exit\n",
    "  -o OUTFILE            Name of output file where timing data will be\n",
    "                        stored. By default it goes to \"timings.pkl\".\n",
    "  -f FUNCS, --func FUNCS\n",
    "                        Time a specified function. Can be applied multiple times to specify multiple functions. Default methods are\n",
    "                        ['_apply_linear', '_apply_nonlinear', '_linearize', '_solve_linear', '_solve_nonlinear'].\n",
    "  -v VIEW, --view VIEW  View the output. Default view is \"browser\".\n",
    "                        Other options are \"text\" for ascii output or\n",
    "                        \"none\" for no output.\n",
    "  --use_context         If set, timing will only be active within a\n",
    "                        timing_context.\n",
    "\n",
    "```\n",
    "\n",
    "If you don't like the default set of methods, you can specify your own using the `-f` or `--funct` options.  This option can be applied multiple times to specify multiple functions.\n",
    "\n",
    "The `-v` and `--view` options default to \"browser\", showing a table like the one above.  You can also choose \"text\" which will give you essentially an ascii dump of the table data, or \"none\" which generates no output other than a pickle file, typically \"timings.pkl\" that contains the timing data and can be used for later viewing.\n",
    "\n",
    "The `--use_context` option is for occasions when you only want to time a certain portion of your script.  In that case, you can wrap the code of interest in a `timing_context` context manager as shown below."
   ]
  },
  {
   "cell_type": "code",
   "execution_count": null,
   "metadata": {},
   "outputs": [],
   "source": [
    "from openmdao.visualization.timing_viewer.timer import timing_context\n",
    "\n",
    "# do some stuff that I don't want to time...\n",
    "\n",
    "with timing_context():\n",
    "    # do stuff I want to time\n",
    "    pass\n",
    "\n",
    "# do some other stuff that I don't want to time..."
   ]
  },
  {
   "cell_type": "markdown",
   "metadata": {},
   "source": [
    "```{Warning}\n",
    "If the `use_context` option is set, timing will not occur anywhere outside of `timing_context`, so be careful not to use that option on a script that doesn't use a `timing_context`, because in that case, no timing will be done.  \n",
    "```\n",
    "\n",
    "```{Warning}\n",
    "If you *don't* specify `use_context` but your script *does* contain a `timing_context`, then that `timing_context` will be ignored and timing info will be collected for the entire script anyway.\n",
    "```\n",
    "\n",
    "```{Warning}\n",
    "If your script exits with a nonzero exit code, the timing data will not be saved to a file.\n",
    "```\n",
    "\n",
    "After your script is finished running, you should see a new file called *timings.pkl* in your current directory. This is a pickle file containing all of the timing data.  If you didn't specify the `-v` or `--view` options, or if you specified a view option of \"browser\", you'll also see a file called *timing_report.html* which can be opened in a browser to view the interactive timings table discussed earlier.\n"
   ]
  }
 ],
 "metadata": {
  "celltoolbar": "Tags",
  "kernelspec": {
   "display_name": "Python 3",
   "language": "python",
   "name": "python3"
  },
  "language_info": {
   "codemirror_mode": {
    "name": "ipython",
    "version": 3
   },
   "file_extension": ".py",
   "mimetype": "text/x-python",
   "name": "python",
   "nbconvert_exporter": "python",
   "pygments_lexer": "ipython3",
   "version": "3.8.8"
  },
  "orphan": true
 },
 "nbformat": 4,
 "nbformat_minor": 4
}
