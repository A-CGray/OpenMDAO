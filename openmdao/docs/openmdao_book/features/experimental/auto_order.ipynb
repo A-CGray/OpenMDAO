{
 "cells": [
  {
   "cell_type": "code",
   "execution_count": null,
   "id": "upset-transaction",
   "metadata": {
    "tags": [
     "remove-input",
     "remove-output",
     "active-ipynb"
    ]
   },
   "outputs": [],
   "source": [
    "try:\n",
    "    from openmdao.utils.notebook_utils import notebook_mode\n",
    "except ImportError:\n",
    "    !python -m pip install openmdao[notebooks]"
   ]
  },
  {
   "attachments": {},
   "cell_type": "markdown",
   "id": "allied-means",
   "metadata": {},
   "source": [
    "# Automatic Setting of Execution Order\n",
    "\n",
    "By default, subsystems of a Group are executed in the same order as they were added to that Group.\n",
    "Depending on the data connections between those subsystems, that order could result in some subsystems being executed *before* their inputs have been \n",
    "updated.  This can result in a performance impact by increasing the number of solver iterations required to achieve convergence.\n",
    "\n",
    "In come cases it's obvious what the order should be and you can simply declare the subsystems in the correct order.  However, as models evolve and \n",
    "become more complex, it becomes more likely that out of order execution may occur.  One way to prevent this from happening is to set the `auto_order` option on the Group.  This will cause OpenMDAO to set the Group's subsystem execution order based on the dataflow graph of that Group.  Note that if connections within a Group result in some subsystems forming a cycle in the graph, then OpenMDAO will not attempt to reorder the cycle.  It will, \n",
    "however, order the cycle properly with respect to any subsystems outside of the cycle."
   ]
  },
  {
   "cell_type": "code",
   "execution_count": null,
   "id": "96efe017",
   "metadata": {},
   "outputs": [],
   "source": []
  }
 ],
 "metadata": {
  "celltoolbar": "Edit Metadata",
  "kernelspec": {
   "display_name": "Python 3",
   "language": "python",
   "name": "python3"
  },
  "language_info": {
   "codemirror_mode": {
    "name": "ipython",
    "version": 3
   },
   "file_extension": ".py",
   "mimetype": "text/x-python",
   "name": "python",
   "nbconvert_exporter": "python",
   "pygments_lexer": "ipython3",
   "version": "3.11.4"
  },
  "orphan": true
 },
 "nbformat": 4,
 "nbformat_minor": 5
}
