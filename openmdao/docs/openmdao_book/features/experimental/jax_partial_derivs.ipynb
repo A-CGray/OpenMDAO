{
 "cells": [
  {
   "cell_type": "code",
   "execution_count": null,
   "metadata": {
    "tags": [
     "remove-input",
     "active-ipynb",
     "remove-output"
    ]
   },
   "outputs": [],
   "source": [
    "try:\n",
    "    from openmdao.utils.notebook_utils import notebook_mode  # noqa: F401\n",
    "except ImportError:\n",
    "    !python -m pip install openmdao[notebooks]"
   ]
  },
  {
   "cell_type": "markdown",
   "metadata": {},
   "source": [
    "# Computing Partial Derivatives of Components Using JAX\n",
    "\n",
    "One of the barriers to using OpenMDAO is that to truly take advantage of the framework, the user needs to \n",
    "write code for the analytic partial derivatives of their `Components`. To avoid that, users can use \n",
    "the optional third-party [JAX](https://jax.readthedocs.io/en/latest/index.html) library, which can \n",
    "automatically differentiate native Python and NumPy functions.  To simplify jax usage within OpenMDAO, \n",
    "we've created two component classes, [JaxExplicitComponent](jax_explicitcomp_api.ipynb) and \n",
    "[JaxImplicitComponent](jax_implicitcomp_api.ipynb).  These components require only the definition of \n",
    "a `compute_primal` method that takes the component's inputs as arguments and returns the component's \n",
    "outputs.  For a `JaxExplicitComponent`, `compute_primal` replaces the `compute` method, and for a\n",
    "`JaxImplicitComponent` it replaces the `apply_nonlinear` method.\n",
    "\n",
    "This notebook will describe in more detail how to create and use a JaxExplicitComponent or \n",
    "JaxImplicitComponent and will give examples.\n",
    "\n",
    "Before going further, it's a good idea to aquaint yourself with some of jax's 'sharp edges' \n",
    "[here](https://docs.jax.dev/en/latest/notebooks/Common_Gotchas_in_JAX.html). This will hopefully \n",
    "make the process of creating a `JaxExplicitComponent` or `JaxImplicitComponent` a less frustrating one."
   ]
  },
  {
   "cell_type": "markdown",
   "metadata": {},
   "source": [
    "The use of JAX is optional for OpenMDAO so if not already installed, the user needs to install it by \n",
    "issuing *one* of the following commands at your operating system command prompt:\n",
    "```\n",
    "pip install jax jaxlib\n",
    "pip install openmdao[jax]\n",
    "pip install openmdao[all]\n",
    "```\n"
   ]
  },
  {
   "cell_type": "code",
   "execution_count": null,
   "metadata": {},
   "outputs": [],
   "source": [
    "!pip install jax"
   ]
  },
  {
   "cell_type": "markdown",
   "metadata": {},
   "source": [
    "The JAX library includes a NumPy-like API, `jax.numpy`, which implements the NumPy API using the primitives in JAX. Almost anything that can be done with NumPy can be done with `jax.numpy`. JAX arrays are similar to NumPy arrays, but they are designed to work with accelerators such as GPUs and TPUs. \n",
    "\n",
    "To use `jax.numpy`, it needs to be imported, using the commonly used `jnp` abbreviation."
   ]
  },
  {
   "cell_type": "code",
   "execution_count": null,
   "metadata": {},
   "outputs": [],
   "source": [
    "import jax"
   ]
  },
  {
   "cell_type": "markdown",
   "metadata": {},
   "source": [
    "The default for JAX is to do single precision computations. For this example, we want to use double precision, so this line of code is needed."
   ]
  },
  {
   "cell_type": "code",
   "execution_count": null,
   "metadata": {},
   "outputs": [],
   "source": [
    "jax.config.update(\"jax_enable_x64\", True)"
   ]
  },
  {
   "cell_type": "markdown",
   "metadata": {},
   "source": [
    "## Configuration Options\n",
    "\n",
    "[JaxExplicitComponent](jax_explicitcomp_api.ipynb) and [JaxImplicitComponent](jax_implicitcomp_api.ipynb) \n",
    "both have the following options:\n",
    "\n",
    "- **use_jit**:  \n",
    "      If True, compute_primal and its corresponding derivatives method will be jit compiled.\n",
    "      Defaults to True.\n",
    "\n",
    "- **derivs_method**:  \n",
    "      This defaults to 'jax' but can also be set to 'cs' or 'fd' in order to debug the\n",
    "      component or perform performance comparisons.\n",
    "\n",
    "- **default_to_dyn_shapes**:  \n",
    "      If set to True, any variables in the component that don't have a specified\n",
    "      shape will be shaped dynamically.  Unshaped inputs will be marked as `shape_by_conn` and unshaped\n",
    "      outputs will be marked as `compute_shape`, where the `compute_shape` function uses `jax.eval_shape`\n",
    "      internally to determine output shapes based on input shapes. Defaults to False.\n",
    "\n",
    "- **default_shape**:  \n",
    "      This defaults to (1,), meaning that unshaped variables will be allocated as size 1\n",
    "      arrays.  If true scalars are desired instead, this can be set to ().  Note that if\n",
    "      `default_to_dyn_shapes` is True, this option is ignored.\n",
    "\n",
    "\n",
    "## Automatic Determination of Derivative Direction\n",
    "The relative size of component inputs and outputs determines the direction to be used when solving\n",
    "for the partial jacobian.  If the size of the inputs is greater than or equal to the size of the \n",
    "outputs, then the derivatives will be computed in forward mode.  Otherwise, reverse mode will be used.  \n",
    "Note that this automatic determination of derivative direction only occurs if the `matrix_free`\n",
    "attribute is False.\n"
   ]
  }
 ],
 "metadata": {
  "celltoolbar": "Tags",
  "kernelspec": {
   "display_name": "Python 3",
   "language": "python",
   "name": "python3"
  },
  "language_info": {
   "codemirror_mode": {
    "name": "ipython",
    "version": 3
   },
   "file_extension": ".py",
   "mimetype": "text/x-python",
   "name": "python",
   "nbconvert_exporter": "python",
   "pygments_lexer": "ipython3",
   "version": "3.8.5"
  },
  "orphan": true
 },
 "nbformat": 4,
 "nbformat_minor": 4
}
