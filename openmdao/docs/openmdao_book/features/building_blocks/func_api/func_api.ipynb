{
 "cells": [
  {
   "cell_type": "code",
   "execution_count": null,
   "metadata": {},
   "outputs": [],
   "source": [
    "try:\n",
    "    from openmdao.utils.notebook_utils import notebook_mode\n",
    "except ImportError:\n",
    "    !python -m pip install openmdao[notebooks]"
   ]
  },
  {
   "cell_type": "markdown",
   "metadata": {},
   "source": [
    "# Function Metadata API\n",
    "\n",
    "Using [ExplicitFuncComp](../components/explicit_func_comp.ipynb), you can turn a python function \n",
    "into a fully functioning OpenMDAO component.  However, in order to do this it's sometimes necessary\n",
    "to attach additional metadata to the function so that OpenMDAO can be informed of things like\n",
    "variable units and shapes, and partial derivative information if it's available.  Metadata can be\n",
    "attached to a function using the function metadata API.  It works by wrapping the function in a \n",
    "callable object that can store the metadata appropriately.\n",
    "\n",
    "We wrap a function using the `omf.wrap` function, for example:\n"
   ]
  },
  {
   "cell_type": "code",
   "execution_count": null,
   "metadata": {},
   "outputs": [],
   "source": [
    "import openmdao.func_api as omf\n",
    "\n",
    "def func(a):\n",
    "    x = a * 2.\n",
    "\n",
    "f = omf.wrap(func) "
   ]
  }
 ],
 "metadata": {
  "language_info": {
   "name": "python"
  },
  "orig_nbformat": 4
 },
 "nbformat": 4,
 "nbformat_minor": 2
}
