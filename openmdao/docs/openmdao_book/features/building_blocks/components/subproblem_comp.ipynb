{
 "cells": [
  {
   "cell_type": "code",
   "execution_count": null,
   "metadata": {
    "tags": [
     "remove-input",
     "active-ipynb",
     "remove-output"
    ]
   },
   "outputs": [],
   "source": [
    "try:\n",
    "    from openmdao.utils.notebook_utils import notebook_mode\n",
    "except ImportError:\n",
    "    !python -m pip install openmdao[notebooks]"
   ]
  },
  {
   "attachments": {},
   "cell_type": "markdown",
   "metadata": {},
   "source": [
    "# SubproblemComp\n",
    "\n",
    "`SubproblemComp` provides a way to evaluate an OpenMDAO system within an OpenMDAO system.\n",
    "\n",
    "# SubproblemComp Options"
   ]
  },
  {
   "cell_type": "code",
   "execution_count": null,
   "metadata": {},
   "outputs": [],
   "source": [
    "import openmdao.api as om\n",
    "\n",
    "submodel1 = om.Group()\n",
    "submodel1.add_subsystem('subComp1', om.ExecComp('x = r*cos(theta)'),\n",
    "                        promotes_inputs=['r', 'theta'],\n",
    "                        promotes_outputs=['x'])\n",
    "\n",
    "om.show_options_table(om.SubproblemComp(model=submodel1, inputs=['r', 'theta'],\n",
    "                          outputs=['x']))"
   ]
  },
  {
   "attachments": {},
   "cell_type": "markdown",
   "metadata": {},
   "source": [
    "# SubproblemComp Constructor\n",
    "\n",
    "The call signature for the `SubproblemComp` constructor is\n",
    "\n",
    "```{eval-rst}\n",
    "    .. automethod:: openmdao.components.subproblem_comp.SubproblemComp.__init__\n",
    "        :noindex:\n",
    "```\n",
    "\n",
    "# Using the SubproblemComp\n",
    "\n",
    "`SubproblemComp` allows you to add a component that is a `System` itself. Its required arguments are `model`, `inputs`, and `outputs`. Other optional arguments are arguments you can use to configure the `Problem` within the subproblem (see [problem.py](../../../_srcdocs/packages/core/problem.html#openmdao.core.problem.Problem)). The only difference is, the kwargs used for `Problem` have to be passed into `SubproblemComp` as a `dict` rather than as kwargs.\n",
    "\n",
    "The arg that stores the kwargs for `Problem` is `prob_options`. Other kwargs for `ExplicitComponent` can then be passed normally to `SubproblemComp`.\n",
    "\n",
    "`SubproblemComp` provides a way to evaluate an OpenMDAO system within an OpenMDAO system. Unlike a typical sub-system, using a subproblem exposes only a limited number of inputs and outputs of the underlying model to the parent system. This may be beneficial from a performance standpoint when there are many inputs and outputs of the internal system that aren't needed in the external system.\n",
    "\n",
    "Note that this means that nonlinear and linear solvers are needed on the subproblem's model if implicit behavior is present, since the internal variables are invisible to solvers in the parent system.\n",
    "\n",
    "At this time, OpenMDAO does not evaluate gradients through the optimization process, so a gradient-based driver at the outer level cannot access derivatives across the optimization on the inner level.\n",
    "\n",
    "## IO Format\n",
    "\n",
    "Inputs and outputs can be passed into `SubproblemComp` as a list of `str`, `tuple`, or both. If the list element is `str`, then it must be the group level promoted name that is passed. For this, the IO to be referred to must be promoted in `add_subsystem`. If the list element is `tuple`, then the first element of the `tuple` must be the group level promoted name or the absolute name of the variable, and the second element is the alias that `SubproblemComp` will refer to it as.\n",
    "\n",
    "e.g. (path.to.var, desired_var_name)  \n",
    "or (var, desired_var_name) if the variable is already promoted at the group level\n",
    "\n",
    "Input and output names can be wildcards too, only if their type is `str`.\n",
    "\n",
    "\n",
    "# Example: Implementing SubproblemComp"
   ]
  },
  {
   "cell_type": "code",
   "execution_count": null,
   "metadata": {},
   "outputs": [],
   "source": [
    "import openmdao.api as om\n",
    "from numpy import pi\n",
    "\n",
    "p = om.Problem()\n",
    "\n",
    "model = om.Group()\n",
    "model.add_subsystem('supComp', om.ExecComp('z = x**2 + y'),\n",
    "                    promotes_inputs=['x', 'y'],\n",
    "                    promotes_outputs=['z'])\n",
    "\n",
    "submodel1 = om.Group()\n",
    "submodel1.add_subsystem('sub1_ivc_r', om.IndepVarComp('r', 1.),\n",
    "                        promotes_outputs=['r'])\n",
    "submodel1.add_subsystem('sub1_ivc_theta', om.IndepVarComp('theta', pi),\n",
    "                        promotes_outputs=['theta'])\n",
    "submodel1.add_subsystem('subComp1', om.ExecComp('x = r*cos(theta)'),\n",
    "                        promotes_inputs=['r', 'theta'],\n",
    "                        promotes_outputs=['x'])\n",
    "\n",
    "submodel2 = om.Group()\n",
    "submodel2.add_subsystem('sub2_ivc_r', om.IndepVarComp('r', 2),\n",
    "                        promotes_outputs=['r'])\n",
    "submodel2.add_subsystem('sub2_ivc_theta', om.IndepVarComp('theta', pi/2),\n",
    "                        promotes_outputs=['theta'])\n",
    "submodel2.add_subsystem('subComp2', om.ExecComp('y = r*sin(theta)'),\n",
    "                        promotes_inputs=['r', 'theta'],\n",
    "                        promotes_outputs=['y'])\n",
    "\n",
    "subprob1 = om.SubproblemComp(model=submodel1, inputs=['r', 'theta'],\n",
    "                            outputs=['x'])\n",
    "subprob2 = om.SubproblemComp(model=submodel2, inputs=['r', 'theta'],\n",
    "                            outputs=['y'])\n",
    "\n",
    "p.model.add_subsystem('sub1', subprob1, promotes_inputs=['r','theta'],\n",
    "                            promotes_outputs=['x'])\n",
    "p.model.add_subsystem('sub2', subprob2, promotes_inputs=['r','theta'],\n",
    "                            promotes_outputs=['y'])\n",
    "p.model.add_subsystem('supModel', model, promotes_inputs=['x','y'],\n",
    "                            promotes_outputs=['z'])\n",
    "\n",
    "p.setup(force_alloc_complex=True)\n",
    "\n",
    "p.set_val('r', 1)\n",
    "p.set_val('theta', pi)\n",
    "\n",
    "p.run_model()\n",
    "cpd = p.check_partials(method='cs', out_stream=None)"
   ]
  },
  {
   "attachments": {},
   "cell_type": "markdown",
   "metadata": {},
   "source": [
    "# Example: Variable Aliases"
   ]
  },
  {
   "cell_type": "code",
   "execution_count": null,
   "metadata": {},
   "outputs": [],
   "source": [
    "import openmdao.api as om\n",
    "\n",
    "p = om.Problem()\n",
    "model = om.Group()\n",
    "\n",
    "model.add_subsystem('subsys', om.ExecComp('z = x**2 + y**2'))\n",
    "subprob = om.SubproblemComp(model=model, inputs=[('subsys.x', 'a'), ('subsys.y', 'b')],\n",
    "                            outputs=[('subsys.z', 'c')])\n",
    "\n",
    "p.model.add_subsystem('subprob', subprob, promotes_inputs=['a', 'b'], promotes_outputs=['c'])\n",
    "p.setup()\n",
    "\n",
    "p.set_val('a', 1)\n",
    "p.set_val('b', 2)\n",
    "\n",
    "p.run_model()"
   ]
  },
  {
   "attachments": {},
   "cell_type": "markdown",
   "metadata": {},
   "source": [
    "# Example: Using Variables with the Same Name"
   ]
  },
  {
   "cell_type": "code",
   "execution_count": null,
   "metadata": {},
   "outputs": [],
   "source": [
    "import openmdao.api as om\n",
    "\n",
    "p = om.Problem()\n",
    "\n",
    "model = om.Group()\n",
    "\n",
    "model.add_subsystem('x1Comp', om.ExecComp('x1 = x*3'))\n",
    "model.add_subsystem('x2Comp', om.ExecComp('x2 = x**3'))\n",
    "model.connect('x1Comp.x1', 'model.x1')\n",
    "model.connect('x2Comp.x2', 'model.x2')\n",
    "model.add_subsystem('model', om.ExecComp('z = x1**2 + x2**2'))\n",
    "\n",
    "subprob = om.SubproblemComp(model=model, inputs=[('x1Comp.x', 'x'), ('x2Comp.x', 'y')],\n",
    "                            outputs=[('model.z', 'z')])\n",
    "\n",
    "p.model.add_subsystem('subprob', subprob)\n",
    "p.setup()\n",
    "\n",
    "p.set_val('subprob.x', 1)\n",
    "p.set_val('subprob.y', 2)\n",
    "\n",
    "p.run_model()"
   ]
  }
 ],
 "metadata": {
  "kernelspec": {
   "display_name": "py310",
   "language": "python",
   "name": "python3"
  },
  "language_info": {
   "codemirror_mode": {
    "name": "ipython",
    "version": 3
   },
   "file_extension": ".py",
   "mimetype": "text/x-python",
   "name": "python",
   "nbconvert_exporter": "python",
   "pygments_lexer": "ipython3",
   "version": "3.10.9"
  },
  "vscode": {
   "interpreter": {
    "hash": "f5be509bf5064600f26f3a46b72ee9980c6c6ac28d95a893bce31e4ec385142a"
   }
  }
 },
 "nbformat": 4,
 "nbformat_minor": 2
}
