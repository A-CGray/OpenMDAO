{
 "cells": [
  {
   "cell_type": "code",
   "execution_count": 1,
   "metadata": {},
   "outputs": [],
   "source": [
    "try:\n",
    "    from openmdao.utils.notebook_utils import notebook_mode\n",
    "except ImportError:\n",
    "    !python -m pip install openmdao[notebooks]"
   ]
  },
  {
   "attachments": {},
   "cell_type": "markdown",
   "metadata": {},
   "source": [
    "# SubproblemComp\n",
    "\n",
    "`SubproblemComp` provides a way to evaluate an OpenMDAO system within an OpenMDAO system.\n",
    "\n",
    "# SubproblemComp Options"
   ]
  },
  {
   "cell_type": "code",
   "execution_count": 2,
   "metadata": {},
   "outputs": [
    {
     "data": {
      "text/html": [
       "\n",
       "<!DOCTYPE html>\n",
       "<html lang=\"en\">\n",
       "<head>\n",
       "    <style>\n",
       "        h2 {\n",
       "            text-align: center;\n",
       "        }\n",
       "    </style>\n",
       "</head>\n",
       "<body>\n",
       "    <h2></h2>\n",
       "        <table style=\"border: 1px solid #999; border-collapse: collapse;\">\n",
       "        <tr><th style=\"border: 1px solid #999; border-collapse: collapse; padding: 5px; background-color: #E9E9E9; text-align: left;\">Option</th><th style=\"border: 1px solid #999; border-collapse: collapse; padding: 5px; background-color: #E9E9E9; text-align: left;\">Default</th><th style=\"border: 1px solid #999; border-collapse: collapse; padding: 5px; background-color: #E9E9E9; text-align: left;\">Acceptable Values</th><th style=\"border: 1px solid #999; border-collapse: collapse; padding: 5px; background-color: #E9E9E9; text-align: left;\">Acceptable Types</th><th style=\"border: 1px solid #999; border-collapse: collapse; padding: 5px; background-color: #E9E9E9; text-align: left;\">Description</th></tr>\n",
       "       <tr style=\"background-color: ghostwhite;\"><td style=\"border: 1px solid #999; border-collapse: collapse; padding: 5px; text-align: left;\">distributed</td><td style=\"border: 1px solid #999; border-collapse: collapse; padding: 5px; text-align: left;\">False</td><td style=\"border: 1px solid #999; border-collapse: collapse; padding: 5px; text-align: left;\">[True, False]</td><td style=\"border: 1px solid #999; border-collapse: collapse; padding: 5px; text-align: left;\">[&#x27;bool&#x27;]</td><td style=\"border: 1px solid #999; border-collapse: collapse; padding: 5px; text-align: left;\">If True, set all variables in this component as distributed across multiple processes</td></tr>\n",
       "       <tr style=\"background-color: #F3F3F3;\"><td style=\"border: 1px solid #999; border-collapse: collapse; padding: 5px; text-align: left;\">inputs</td><td style=\"border: 1px solid #999; border-collapse: collapse; padding: 5px; text-align: left;\">{}</td><td style=\"border: 1px solid #999; border-collapse: collapse; padding: 5px; text-align: left;\">N/A</td><td style=\"border: 1px solid #999; border-collapse: collapse; padding: 5px; text-align: left;\">[&#x27;dict&#x27;]</td><td style=\"border: 1px solid #999; border-collapse: collapse; padding: 5px; text-align: left;\">Subproblem Component inputs</td></tr>\n",
       "       <tr style=\"background-color: ghostwhite;\"><td style=\"border: 1px solid #999; border-collapse: collapse; padding: 5px; text-align: left;\">outputs</td><td style=\"border: 1px solid #999; border-collapse: collapse; padding: 5px; text-align: left;\">{}</td><td style=\"border: 1px solid #999; border-collapse: collapse; padding: 5px; text-align: left;\">N/A</td><td style=\"border: 1px solid #999; border-collapse: collapse; padding: 5px; text-align: left;\">[&#x27;dict&#x27;]</td><td style=\"border: 1px solid #999; border-collapse: collapse; padding: 5px; text-align: left;\">Subproblem Component outputs</td></tr>\n",
       "       <tr style=\"background-color: #F3F3F3;\"><td style=\"border: 1px solid #999; border-collapse: collapse; padding: 5px; text-align: left;\">run_root_only</td><td style=\"border: 1px solid #999; border-collapse: collapse; padding: 5px; text-align: left;\">False</td><td style=\"border: 1px solid #999; border-collapse: collapse; padding: 5px; text-align: left;\">[True, False]</td><td style=\"border: 1px solid #999; border-collapse: collapse; padding: 5px; text-align: left;\">[&#x27;bool&#x27;]</td><td style=\"border: 1px solid #999; border-collapse: collapse; padding: 5px; text-align: left;\">If True, call compute, compute_partials, linearize, apply_linear, apply_nonlinear, and compute_jacvec_product only on rank 0 and broadcast the results to the other ranks.</td></tr>\n",
       "    </table>\n",
       "</body>\n",
       "</html>\n"
      ],
      "text/plain": [
       "<IPython.core.display.HTML object>"
      ]
     },
     "metadata": {},
     "output_type": "display_data"
    }
   ],
   "source": [
    "import openmdao.api as om\n",
    "\n",
    "submodel1 = om.Group()\n",
    "submodel1.add_subsystem('subComp1', om.ExecComp('x = r*cos(theta)'),\n",
    "                        promotes_inputs=['r', 'theta'],\n",
    "                        promotes_outputs=['x'])\n",
    "\n",
    "om.show_options_table(om.SubproblemComp(model=submodel1, inputs=['r', 'theta'],\n",
    "                          outputs=['x']))"
   ]
  },
  {
   "attachments": {},
   "cell_type": "markdown",
   "metadata": {},
   "source": [
    "# SubproblemComp Constructor\n",
    "\n",
    "The call signature for the `SubproblemComp` constructor is\n",
    "\n",
    "```{eval-rst}\n",
    "    .. automethod:: openmdao.components.subproblem_comp.SubproblemComp.__init__\n",
    "        :noindex:\n",
    "```\n",
    "\n",
    "# Using the SubproblemComp\n",
    "\n",
    "`SubproblemComp` allows you to add a component that is a `System` itself. Its required arguments are `model`, `inputs`, and `outputs`. Other optional arguments are arguments you can use to configure the `Problem` within the subproblem (see [problem.py](../../../_srcdocs/packages/core/problem.html#openmdao.core.problem.Problem)). The only difference is, the kwargs used for `Problem` have to be passed into `SubproblemComp` as a `dict` rather than as kwargs.\n",
    "\n",
    "The arg that stores the kwargs for `Problem` is `prob_options`. Other kwargs for `ExplicitComponent` can then be passed normally to `SubproblemComp`.\n",
    "\n",
    "## IO Format\n",
    "\n",
    "Inputs and outputs can be passed into `SubproblemComp` as a list of `str`, `tuple`, or both. If the list element is `str`, then it must be the group level promoted name that is passed. For this, the IO to be referred to must be promoted in `add_subsystem`. If the list element is `tuple`, then the first element of the `tuple` must be the group level promoted name or the absolute name of the variable, and the second element is the alias that `SubproblemComp` will refer to it as.\n",
    "\n",
    "e.g. (path.to.var, desired_var_name)  \n",
    "or (var, desired_var_name) if the variable is already promoted at the group level\n",
    "\n",
    "Input and output names can be wildcards too, only if their type is `str`.\n",
    "\n",
    "\n",
    "# Example: Implementing SubproblemComp"
   ]
  },
  {
   "cell_type": "code",
   "execution_count": 2,
   "metadata": {},
   "outputs": [
    {
     "name": "stdout",
     "output_type": "stream",
     "text": [
      "--------------------------------\n",
      "Component: SubproblemComp 'sub1'\n",
      "--------------------------------\n",
      "\n",
      "  sub1: 'x' wrt 'r'\n",
      "    Analytic Magnitude: 1.000000e+00\n",
      "          Fd Magnitude: 1.000000e+00 (cs:None)\n",
      "    Absolute Error (Jan - Jfd) : 0.000000e+00\n",
      "\n",
      "    Relative Error (Jan - Jfd) / Jfd : 0.000000e+00\n",
      "\n",
      "    Raw Analytic Derivative (Jfor)\n",
      "[[-1.]]\n",
      "\n",
      "    Raw CS Derivative (Jcs)\n",
      "[[-1.]]\n",
      " - - - - - - - - - - - - - - - - - - - - - - - - - - - - - -\n",
      "  sub1: 'x' wrt 'theta'\n",
      "    Analytic Magnitude: 1.224647e-16\n",
      "          Fd Magnitude: 1.224647e-16 (cs:None)\n",
      "    Absolute Error (Jan - Jfd) : 0.000000e+00\n",
      "\n",
      "    Relative Error (Jan - Jfd) / Jfd : 0.000000e+00\n",
      "\n",
      "    Raw Analytic Derivative (Jfor)\n",
      "[[-1.2246468e-16]]\n",
      "\n",
      "    Raw CS Derivative (Jcs)\n",
      "[[-1.2246468e-16]]\n",
      " - - - - - - - - - - - - - - - - - - - - - - - - - - - - - -\n",
      "--------------------------------\n",
      "Component: SubproblemComp 'sub2'\n",
      "--------------------------------\n",
      "\n",
      "  sub2: 'y' wrt 'r'\n",
      "    Analytic Magnitude: 1.224647e-16\n",
      "          Fd Magnitude: 1.224647e-16 (cs:None)\n",
      "    Absolute Error (Jan - Jfd) : 0.000000e+00\n",
      "\n",
      "    Relative Error (Jan - Jfd) / Jfd : 0.000000e+00\n",
      "\n",
      "    Raw Analytic Derivative (Jfor)\n",
      "[[1.2246468e-16]]\n",
      "\n",
      "    Raw CS Derivative (Jcs)\n",
      "[[1.2246468e-16]]\n",
      " - - - - - - - - - - - - - - - - - - - - - - - - - - - - - -\n",
      "  sub2: 'y' wrt 'theta'\n",
      "    Analytic Magnitude: 1.000000e+00\n",
      "          Fd Magnitude: 1.000000e+00 (cs:None)\n",
      "    Absolute Error (Jan - Jfd) : 0.000000e+00\n",
      "\n",
      "    Relative Error (Jan - Jfd) / Jfd : 0.000000e+00\n",
      "\n",
      "    Raw Analytic Derivative (Jfor)\n",
      "[[-1.]]\n",
      "\n",
      "    Raw CS Derivative (Jcs)\n",
      "[[-1.]]\n",
      " - - - - - - - - - - - - - - - - - - - - - - - - - - - - - -\n",
      "r = [1.]\n",
      "theta = [3.14159265]\n",
      "x = [-1.]\n",
      "y = [1.2246468e-16]\n",
      "z = [1.]\n"
     ]
    }
   ],
   "source": [
    "import openmdao.api as om\n",
    "from numpy import pi\n",
    "\n",
    "p = om.Problem()\n",
    "\n",
    "model = om.Group()\n",
    "model.add_subsystem('supComp', om.ExecComp('z = x**2 + y'),\n",
    "                    promotes_inputs=['x', 'y'],\n",
    "                    promotes_outputs=['z'])\n",
    "\n",
    "submodel1 = om.Group()\n",
    "submodel1.add_subsystem('sub1_ivc_r', om.IndepVarComp('r', 1.),\n",
    "                        promotes_outputs=['r'])\n",
    "submodel1.add_subsystem('sub1_ivc_theta', om.IndepVarComp('theta', pi),\n",
    "                        promotes_outputs=['theta'])\n",
    "submodel1.add_subsystem('subComp1', om.ExecComp('x = r*cos(theta)'),\n",
    "                        promotes_inputs=['r', 'theta'],\n",
    "                        promotes_outputs=['x'])\n",
    "\n",
    "submodel2 = om.Group()\n",
    "submodel2.add_subsystem('sub2_ivc_r', om.IndepVarComp('r', 2),\n",
    "                        promotes_outputs=['r'])\n",
    "submodel2.add_subsystem('sub2_ivc_theta', om.IndepVarComp('theta', pi/2),\n",
    "                        promotes_outputs=['theta'])\n",
    "submodel2.add_subsystem('subComp2', om.ExecComp('y = r*sin(theta)'),\n",
    "                        promotes_inputs=['r', 'theta'],\n",
    "                        promotes_outputs=['y'])\n",
    "\n",
    "subprob1 = om.SubproblemComp(model=submodel1, inputs=['r', 'theta'],\n",
    "                            outputs=['x'])\n",
    "subprob2 = om.SubproblemComp(model=submodel2, inputs=['r', 'theta'],\n",
    "                            outputs=['y'])\n",
    "\n",
    "p.model.add_subsystem('sub1', subprob1, promotes_inputs=['r','theta'],\n",
    "                            promotes_outputs=['x'])\n",
    "p.model.add_subsystem('sub2', subprob2, promotes_inputs=['r','theta'],\n",
    "                            promotes_outputs=['y'])\n",
    "p.model.add_subsystem('supModel', model, promotes_inputs=['x','y'],\n",
    "                            promotes_outputs=['z'])\n",
    "\n",
    "p.setup(force_alloc_complex=True)\n",
    "\n",
    "p.set_val('r', 1)\n",
    "p.set_val('theta', pi)\n",
    "\n",
    "p.run_model()\n",
    "cpd = p.check_partials(method='cs')\n",
    "\n",
    "print(f\"r = {p.get_val('r')}\")\n",
    "print(f\"theta = {p.get_val('theta')}\")\n",
    "print(f\"x = {p.get_val('x')}\")\n",
    "print(f\"y = {p.get_val('y')}\")\n",
    "print(f\"z = {p.get_val('z')}\")"
   ]
  },
  {
   "attachments": {},
   "cell_type": "markdown",
   "metadata": {},
   "source": [
    "# Example: Variable Aliases"
   ]
  },
  {
   "cell_type": "code",
   "execution_count": 3,
   "metadata": {},
   "outputs": [
    {
     "name": "stdout",
     "output_type": "stream",
     "text": [
      "2 Input(s) in 'subprob'\n",
      "\n",
      "varname  val \n",
      "-------  ----\n",
      "a        [1.]\n",
      "b        [2.]\n",
      "\n",
      "\n",
      "1 Explicit Output(s) in 'subprob'\n",
      "\n",
      "varname  val \n",
      "-------  ----\n",
      "c        [5.]\n",
      "\n",
      "\n",
      "0 Implicit Output(s) in 'subprob'\n",
      "\n",
      "\n",
      "a = [1.]\n",
      "b = [2.]\n",
      "c = [5.]\n"
     ]
    }
   ],
   "source": [
    "import openmdao.api as om\n",
    "\n",
    "p = om.Problem()\n",
    "model = om.Group()\n",
    "\n",
    "model.add_subsystem('subsys', om.ExecComp('z = x**2 + y**2'))\n",
    "subprob = om.SubproblemComp(model=model, inputs=[('subsys.x', 'a'), ('subsys.y', 'b')],\n",
    "                            outputs=[('subsys.z', 'c')])\n",
    "\n",
    "p.model.add_subsystem('subprob', subprob, promotes_inputs=['a', 'b'], promotes_outputs=['c'])\n",
    "p.setup()\n",
    "\n",
    "p.set_val('a', 1)\n",
    "p.set_val('b', 2)\n",
    "\n",
    "p.run_model()\n",
    "\n",
    "print(f\"a = {p.get_val('a')}\")\n",
    "print(f\"b = {p.get_val('b')}\")\n",
    "print(f\"c = {p.get_val('c')}\")"
   ]
  },
  {
   "attachments": {},
   "cell_type": "markdown",
   "metadata": {},
   "source": [
    "# Example: Using Variables with the Same Name"
   ]
  },
  {
   "cell_type": "code",
   "execution_count": 4,
   "metadata": {},
   "outputs": [
    {
     "name": "stdout",
     "output_type": "stream",
     "text": [
      "x1Comp.x = [1.]\n",
      "x2Comp.x = [2.]\n",
      "model.z = [73.]\n"
     ]
    }
   ],
   "source": [
    "import openmdao.api as om\n",
    "\n",
    "p = om.Problem()\n",
    "\n",
    "model = om.Group()\n",
    "\n",
    "model.add_subsystem('x1Comp', om.ExecComp('x1 = x*3'))\n",
    "model.add_subsystem('x2Comp', om.ExecComp('x2 = x**3'))\n",
    "model.connect('x1Comp.x1', 'model.x1')\n",
    "model.connect('x2Comp.x2', 'model.x2')\n",
    "model.add_subsystem('model', om.ExecComp('z = x1**2 + x2**2'))\n",
    "\n",
    "subprob = om.SubproblemComp(model=model, inputs=[('x1Comp.x', 'x'), ('x2Comp.x', 'y')],\n",
    "                            outputs=[('model.z', 'z')])\n",
    "\n",
    "p.model.add_subsystem('subprob', subprob)\n",
    "p.setup()\n",
    "\n",
    "p.set_val('subprob.x', 1)\n",
    "p.set_val('subprob.y', 2)\n",
    "\n",
    "p.run_model()\n",
    "\n",
    "print(f\"x1Comp.x = {p.get_val('subprob.x')}\")\n",
    "print(f\"x2Comp.x = {p.get_val('subprob.y')}\")\n",
    "print(f\"model.z = {p.get_val('subprob.z')}\")"
   ]
  }
 ],
 "metadata": {
  "kernelspec": {
   "display_name": "py310",
   "language": "python",
   "name": "python3"
  },
  "language_info": {
   "codemirror_mode": {
    "name": "ipython",
    "version": 3
   },
   "file_extension": ".py",
   "mimetype": "text/x-python",
   "name": "python",
   "nbconvert_exporter": "python",
   "pygments_lexer": "ipython3",
   "version": "3.10.9"
  },
  "orig_nbformat": 4,
  "vscode": {
   "interpreter": {
    "hash": "f5be509bf5064600f26f3a46b72ee9980c6c6ac28d95a893bce31e4ec385142a"
   }
  }
 },
 "nbformat": 4,
 "nbformat_minor": 2
}
