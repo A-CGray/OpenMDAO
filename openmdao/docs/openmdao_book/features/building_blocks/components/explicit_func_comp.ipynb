{
 "cells": [
  {
   "cell_type": "code",
   "execution_count": null,
   "metadata": {
    "tags": [
     "remove-input",
     "active-ipynb",
     "remove-output"
    ]
   },
   "outputs": [],
   "source": [
    "try:\n",
    "    from openmdao.utils.notebook_utils import notebook_mode\n",
    "except ImportError:\n",
    "    !python -m pip install openmdao[notebooks]"
   ]
  },
  {
   "cell_type": "markdown",
   "metadata": {},
   "source": [
    "# ExplicitFuncComp\n",
    "\n",
    "\n",
    "`ExplicitFuncComp` is a component that provides a shortcut for building an ExplicitComponent based\n",
    "on a python function. The ExplicitFuncComp automatically takes care of all of the component API methods, so you just need to instantiate it with a function.  In some cases that function will need\n",
    "additional metadata that you can add using the [Function Metadata API](../func_api.ipynb).  You should\n",
    "read and understand the [Function Metadata API](../func_api.ipynb) before you continue with this \n",
    "section.\n",
    "\n",
    "## ExplicitFuncComp Options\n"
   ]
  },
  {
   "cell_type": "code",
   "execution_count": null,
   "metadata": {
    "tags": [
     "remove-input"
    ]
   },
   "outputs": [],
   "source": [
    "import openmdao.api as om\n",
    "def func(a):\n",
    "    y = a * 2.\n",
    "    return y\n",
    "om.show_options_table(om.ExplicitFuncComp(func))"
   ]
  },
  {
   "cell_type": "markdown",
   "metadata": {},
   "source": [
    "## ExplicitFuncComp Constructor\n",
    "\n",
    "The call signature for the `ExplicitFuncComp` constructor is:\n",
    "\n",
    "```{eval-rst}\n",
    "    .. automethod:: openmdao.components.explicit_func_comp.ExplicitFuncComp.__init__\n",
    "        :noindex:\n",
    "```"
   ]
  },
  {
   "cell_type": "markdown",
   "metadata": {},
   "source": [
    "## ExplicitFuncComp Example: Simple\n",
    "\n",
    "For example, here is a simple component that takes the input and adds one to it."
   ]
  },
  {
   "cell_type": "code",
   "execution_count": null,
   "metadata": {},
   "outputs": [],
   "source": [
    "import openmdao.api as om\n",
    "\n",
    "prob = om.Problem()\n",
    "model = prob.model\n",
    "\n",
    "def func(x=2.0):\n",
    "    y = x + 1.\n",
    "    return y\n",
    "\n",
    "model.add_subsystem('comp', om.ExplicitFuncComp(func))\n",
    "\n",
    "prob.setup()\n",
    "\n",
    "prob.run_model()\n",
    "\n",
    "print(prob.get_val('comp.y'))"
   ]
  },
  {
   "cell_type": "code",
   "execution_count": null,
   "metadata": {
    "tags": [
     "remove-input",
     "remove-output",
     "active-ipynb"
    ]
   },
   "outputs": [],
   "source": [
    "from openmdao.utils.assert_utils import assert_near_equal\n",
    "\n",
    "assert_near_equal(prob.get_val('comp.y'), 3.0, 0.00001)"
   ]
  },
  {
   "cell_type": "markdown",
   "metadata": {},
   "source": [
    "## ExplicitFuncComp Example: Arrays\n",
    "\n",
    "You can declare an ExplicitFuncComp with arrays for inputs and outputs.  In the case of inputs,\n",
    "you must either provide default array values or you must set their 'shape' metadata correctly using\n",
    "the [Function Metadata API](../func_api.ipynb).  For outputs you must provide 'shape' \n",
    "metadata as well. In the example below, the input shape of `x` is set via the function default value \n",
    "and the output `y` has its shape set via the `add_output` method of the [Function Metadata API](../func_api.ipynb)."
   ]
  },
  {
   "cell_type": "code",
   "execution_count": null,
   "metadata": {},
   "outputs": [],
   "source": [
    "import numpy as np\n",
    "import openmdao.func_api as omf\n",
    "\n",
    "prob = om.Problem()\n",
    "model = prob.model\n",
    "\n",
    "def func(x=np.array([1., 2., 3.])):\n",
    "    y = x[:2]\n",
    "    return y\n",
    "\n",
    "f = omf.wrap(func).add_output('y', shape=2)\n",
    "\n",
    "model.add_subsystem('comp', om.ExplicitFuncComp(f))\n",
    "\n",
    "prob.setup()\n",
    "\n",
    "prob.run_model()\n",
    "\n",
    "print(prob.get_val('comp.y'))"
   ]
  },
  {
   "cell_type": "code",
   "execution_count": null,
   "metadata": {
    "tags": [
     "remove-input",
     "remove-output"
    ]
   },
   "outputs": [],
   "source": [
    "assert_near_equal(prob.get_val('comp.y'), np.array([1.0, 2.0]), 0.00001)"
   ]
  },
  {
   "cell_type": "markdown",
   "metadata": {},
   "source": [
    "## ExplicitFuncComp Example: Variable Properties\n",
    "\n",
    "You can also declare properties like 'units' on the inputs and outputs. In this\n",
    "example we declare all our inputs to be inches to trigger conversion from a variable expressed in feet\n",
    "in one connection source."
   ]
  },
  {
   "cell_type": "code",
   "execution_count": null,
   "metadata": {},
   "outputs": [],
   "source": [
    "prob = om.Problem()\n",
    "model = prob.model\n",
    "\n",
    "def func(x, y):\n",
    "    z = x + y\n",
    "    return z\n",
    "\n",
    "f = omf.wrap(func).defaults(units='inch')\n",
    "\n",
    "model.add_subsystem('comp', om.ExplicitFuncComp(f))\n",
    "\n",
    "prob.setup()\n",
    "\n",
    "prob.set_val('comp.x', 12.0, units='inch')\n",
    "prob.set_val('comp.y', 1.0, units='ft')\n",
    "\n",
    "prob.run_model()\n",
    "\n",
    "print(prob.get_val('comp.z'))"
   ]
  },
  {
   "cell_type": "code",
   "execution_count": null,
   "metadata": {
    "tags": [
     "remove-input",
     "remove-output"
    ]
   },
   "outputs": [],
   "source": [
    "assert_near_equal(prob.get_val('comp.z'), 24.0, 0.00001)"
   ]
  },
  {
   "cell_type": "markdown",
   "metadata": {},
   "source": [
    "## ExplicitFuncComp Example: Sparse Partials\n",
    "\n",
    "If the partial derivatives of your function's return values with respect to its inputs are dense, \n",
    "then you don't have to declare them. They will be inferred from the function source code.  If you \n",
    "know that at least some of the partials are sparse, however, then you should declare them as sparse\n",
    "in order to get the best possible performance.  Here's an example of a function with sparse, in\n",
    "this case diagonal, partials:"
   ]
  },
  {
   "cell_type": "code",
   "execution_count": null,
   "metadata": {},
   "outputs": [],
   "source": [
    "def func(x=np.ones(5), y=np.ones(5)):\n",
    "    z = x * y\n",
    "    return z\n",
    "\n",
    "f = (omf.wrap(func)\n",
    "        .add_output('z', shape=5)\n",
    "        .declare_partials(of='z', wrt=['x', 'y'], rows=np.arange(5), cols=np.arange(5)))"
   ]
  },
  {
   "cell_type": "markdown",
   "metadata": {},
   "source": [
    "## ExplicitFuncComp Example: Diagonal Partials\n",
    "\n",
    "If all of your ExplicitFuncComp's array inputs and array outputs are the same size and happen to have\n",
    "diagonal partials, you can make computation of derivatives for your ExplicitFuncComp faster by specifying a `has_diag_partials=True` argument to `__init__` or via the component options. This will\n",
    "cause the ExplicitFuncComp to solve for its partials for all entries of an array input at once \n",
    "instead of looping over each entry individually."
   ]
  },
  {
   "cell_type": "code",
   "execution_count": null,
   "metadata": {},
   "outputs": [],
   "source": [
    "import numpy as np\n",
    "\n",
    "p = om.Problem()\n",
    "model = p.model\n",
    "\n",
    "def func(x=np.ones(5)):\n",
    "    y = 3.0 * x + 2.5\n",
    "    return y\n",
    "\n",
    "f = omf.wrap(func).add_output('y', shape=5)\n",
    "\n",
    "model.add_subsystem('comp', om.ExplicitFuncComp(f, has_diag_partials=True))\n",
    "\n",
    "p.setup()\n",
    "\n",
    "p.set_val('comp.x', np.ones(5))\n",
    "\n",
    "p.run_model()\n",
    "\n",
    "J = p.compute_totals(of=['comp.y'], wrt=['comp.x'], return_format='array')\n"
   ]
  },
  {
   "cell_type": "code",
   "execution_count": null,
   "metadata": {
    "tags": [
     "remove-input",
     "remove-output"
    ]
   },
   "outputs": [],
   "source": [
    "from numpy.testing import assert_almost_equal\n",
    "\n",
    "assert_almost_equal(J, np.eye(5)*3., decimal=6)"
   ]
  },
  {
   "cell_type": "markdown",
   "metadata": {},
   "source": [
    "## ExplicitFuncComp Example: Default metadata values\n",
    "\n",
    "Metadata that can apply to all the variables in the component are shape and units.\n",
    "These can be set via the `defaults` method of the [Function Metadata API](../func_api/func_api.ipynb). \n",
    "In the following example the variables all share the same shape and units."
   ]
  },
  {
   "cell_type": "code",
   "execution_count": null,
   "metadata": {},
   "outputs": [],
   "source": [
    "import numpy as np\n",
    "\n",
    "def func(x=np.ones(5)):\n",
    "    y = 2. * x[2]\n",
    "    return y\n",
    "\n",
    "f = omf.wrap(func).defaults(shape=1, units='m')\n",
    "\n",
    "prob = om.Problem()\n",
    "\n",
    "prob.model.add_subsystem('comp', om.ExplicitFuncComp(f))\n",
    "\n",
    "prob.setup()\n",
    "\n",
    "prob.set_val('comp.x', [100., 200., 300., 400., 500.], units='cm')\n",
    "\n",
    "prob.run_model()\n",
    "\n",
    "print(prob.get_val('comp.y'))"
   ]
  },
  {
   "cell_type": "code",
   "execution_count": null,
   "metadata": {
    "tags": [
     "remove-input",
     "remove-output"
    ]
   },
   "outputs": [],
   "source": [
    "assert_near_equal(prob.get_val('comp.y'), [6.], 0.00001)"
   ]
  }
 ],
 "metadata": {
  "celltoolbar": "Tags",
  "interpreter": {
   "hash": "16ed3b9d19aea4081222d83efe886ecdef9297b336d0dad7bfd68d57c9797627"
  },
  "kernelspec": {
   "display_name": "Python 3",
   "language": "python",
   "name": "python3"
  },
  "language_info": {
   "codemirror_mode": {
    "name": "ipython",
    "version": 3
   },
   "file_extension": ".py",
   "mimetype": "text/x-python",
   "name": "python",
   "nbconvert_exporter": "python",
   "pygments_lexer": "ipython3",
   "version": "3.8.8"
  },
  "orphan": true
 },
 "nbformat": 4,
 "nbformat_minor": 4
}
