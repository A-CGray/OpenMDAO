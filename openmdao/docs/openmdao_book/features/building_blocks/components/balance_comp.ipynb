{
 "cells": [
  {
   "cell_type": "code",
   "execution_count": 1,
   "metadata": {
    "tags": [
     "remove-input",
     "active-ipynb",
     "remove-output"
    ]
   },
   "outputs": [],
   "source": [
    "try:\n",
    "    import openmdao.api as om\n",
    "except ImportError:\n",
    "    !python -m pip install openmdao[notebooks]\n",
    "    import openmdao.api as om"
   ]
  },
  {
   "cell_type": "markdown",
   "metadata": {},
   "source": [
    "# BalanceComp\n",
    "\n",
    "`BalanceComp` is a specialized implementation of [ImplicitComponent](../../core_features/working_with_components/implicit_component.ipynb) that is intended to provide a simple way to implement most implicit equations without the need to define your own residuals.\n",
    "\n",
    "## BalanceComp Options\n"
   ]
  },
  {
   "cell_type": "code",
   "execution_count": 2,
   "metadata": {
    "tags": [
     "remove-input"
    ]
   },
   "outputs": [
    {
     "data": {
      "text/html": [
       "<table>\n",
       "<thead>\n",
       "<tr><th>Option            </th><th>Default  </th><th>Acceptable Values  </th><th>Acceptable Types  </th><th>Description                                                                                                                                                                 </th></tr>\n",
       "</thead>\n",
       "<tbody>\n",
       "<tr><td>assembled_jac_type</td><td>csc      </td><td>[&#x27;csc&#x27;, &#x27;dense&#x27;]   </td><td>N/A               </td><td>Linear solver(s) in this group, if using an assembled jacobian, will use this type.                                                                                         </td></tr>\n",
       "<tr><td>distributed       </td><td>False    </td><td>[True, False]      </td><td>[&#x27;bool&#x27;]          </td><td>True if ALL variables in this component are distributed across multiple processes.                                                                                          </td></tr>\n",
       "<tr><td>guess_func        </td><td>N/A      </td><td>N/A                </td><td>[&#x27;function&#x27;]      </td><td>A callable function in the form f(inputs, outputs, residuals) that can provide an initial &quot;guess&quot; value of the state variable(s) based on the inputs, outputs and residuals.</td></tr>\n",
       "<tr><td>run_root_only     </td><td>False    </td><td>[True, False]      </td><td>[&#x27;bool&#x27;]          </td><td>If True, call compute/compute_partials/linearize/apply_linear/apply_nonlinear/compute_jacvec_product only on rank 0 and broadcast the results to the other ranks.           </td></tr>\n",
       "</tbody>\n",
       "</table>"
      ],
      "text/plain": [
       "<IPython.core.display.HTML object>"
      ]
     },
     "metadata": {},
     "output_type": "display_data"
    }
   ],
   "source": [
    "om.show_options_table(\"openmdao.components.balance_comp.BalanceComp\")"
   ]
  },
  {
   "cell_type": "markdown",
   "metadata": {},
   "source": [
    "## BalanceComp Constructor\n",
    "\n",
    "The call signature for the `BalanceComp` constructor is:\n",
    "\n",
    "```{eval-rst}\n",
    "    .. automethod:: openmdao.components.balance_comp.BalanceComp.__init__()\n",
    "        :noindex:\n",
    "```"
   ]
  },
  {
   "cell_type": "markdown",
   "metadata": {},
   "source": [
    "## Using the BalanceComp\n",
    "\n",
    "`BalanceComp` allows you to add one or more state variables and its associated\n",
    "implicit equations.  For each ``balance`` added to the component it\n",
    "solves the following equation:\n",
    "\n",
    "$$\n",
    "  \\begin{align}\n",
    "  \\mathcal{R}_{name} =\n",
    "  \\frac{f_{mult}(x,...) \\times f_{lhs}(x,...) - f_{rhs}(x,...)}{f_{norm}(f_{rhs}(x,...))}\n",
    "  \\end{align}\n",
    "$$\n",
    "\n",
    "The optional normalization function $f_{norm}(f_{rhs})$ is computed as:\n",
    "\n",
    "$$\n",
    "  \\begin{align}\n",
    "  f_{norm}(f_{rhs}(x,...)) =\n",
    "  \\begin{cases}\n",
    "   \\left| f_{rhs} \\right|, & \\text{if normalize and } \\left| f_{rhs} \\right| \\geq 2 \\\\\n",
    "   0.25 f_{rhs}^2 + 1,     & \\text{if normalize and } \\left| f_{rhs} \\right| < 2 \\\\\n",
    "   1,                      & \\text{if not normalize}\n",
    "  \\end{cases}\n",
    "  \\end{align}\n",
    "$$\n",
    "\n",
    "The following inputs and outputs are associated with each implicit state.\n",
    "\n",
    "```{eval-rst}\n",
    "=========== ======= ====================================================\n",
    "Name        I/O     Description\n",
    "=========== ======= ====================================================\n",
    "{name}      output  implicit state variable\n",
    "lhs:{name}  input   left-hand side of equation to be balanced\n",
    "rhs:{name}  input   right-hand side of equation to be balanced\n",
    "mult:{name} input   left-hand side multiplier of equation to be balanced\n",
    "=========== ======= ====================================================\n",
    "```\n",
    "\n",
    "The default value for the `rhs:{name}` input can be set to via the\n",
    "`rhs_val` argument (see arguments below). If the rhs value is fixed (e.g. 0),\n",
    "then the input can be left unconnected. The `lhs:{name}` input must always have\n",
    "something connected to it and should be dependent upon the value of the implicit state variable.\n",
    "\n",
    "The multiplier is optional and will default to 1.0 if not connected.\n",
    "\n",
    "`BalanceComp` supports vectorized implicit states. Simply provide a default\n",
    "value or shape when adding the balance that reflects the correct shape.\n",
    "\n",
    "You can provide the arguments to create a balance when instantiating a `BalanceComp`\n",
    "or you can use the ``add_balance`` method to create one or more state variables after\n",
    "instantiation.  The constructor accepts all the same arguments as the ``add_balance``\n",
    "method:\n",
    "\n",
    "```{eval-rst}\n",
    "    .. automethod:: openmdao.components.balance_comp.BalanceComp.add_balance\n",
    "       :noindex:\n",
    "```\n",
    "\n",
    "Note that the `kwargs` arguments can include any of the keyword arguments normally available\n",
    "when creating an output variable with the\n",
    "[add_output](../../../_srcdocs/packages/core/component.html#openmdao.core.component.Component.add_output) method of a `Component`.\n",
    "\n",
    "## Example:  Scalar Root Finding\n",
    "\n",
    "The following example uses a BalanceComp to implicitly solve the\n",
    "equation:\n",
    "\n",
    "$$\n",
    "    2 \\cdot x^2 = 4\n",
    "$$\n",
    "\n",
    "Here, our LHS is connected to a computed value for $x^2$, the multiplier is 2, and the RHS\n",
    "is 4.  The expected solution is $x=\\sqrt{2}$.  We initialize $x$ with a value of 1 so that\n",
    "it finds the positive root."
   ]
  },
  {
   "cell_type": "code",
   "execution_count": 3,
   "metadata": {},
   "outputs": [
    {
     "name": "stdout",
     "output_type": "stream",
     "text": [
      "[1.41421356]\n"
     ]
    }
   ],
   "source": [
    "prob = om.Problem()\n",
    "\n",
    "bal = om.BalanceComp()\n",
    "bal.add_balance('x', use_mult=True)\n",
    "\n",
    "exec_comp = om.ExecComp('y=x**2', x={'val': 1}, y={'val': 1})\n",
    "\n",
    "prob.model.add_subsystem(name='exec', subsys=exec_comp)\n",
    "prob.model.add_subsystem(name='balance', subsys=bal)\n",
    "\n",
    "prob.model.connect('balance.x', 'exec.x')\n",
    "prob.model.connect('exec.y', 'balance.lhs:x')\n",
    "\n",
    "prob.model.linear_solver = om.DirectSolver(assemble_jac=True)\n",
    "prob.model.nonlinear_solver = om.NewtonSolver(solve_subsystems=False, maxiter=100, iprint=0)\n",
    "\n",
    "prob.setup()\n",
    "\n",
    "prob.set_val('balance.rhs:x', 4)\n",
    "prob.set_val('balance.mult:x', 2.)\n",
    "\n",
    "# A reasonable initial guess to find the positive root.\n",
    "prob['balance.x'] = 1.0\n",
    "\n",
    "prob.run_model()\n",
    "\n",
    "print(prob.get_val('balance.x'))"
   ]
  },
  {
   "cell_type": "code",
   "execution_count": 4,
   "metadata": {
    "tags": [
     "remove-input",
     "remove-output"
    ]
   },
   "outputs": [],
   "source": [
    "import numpy as np\n",
    "from numpy.testing import assert_almost_equal\n",
    "\n",
    "assert_almost_equal(prob.get_val('balance.x'), np.sqrt(2), decimal=7)"
   ]
  },
  {
   "cell_type": "markdown",
   "metadata": {},
   "source": [
    "Alternatively, we could simplify the code by using the `mult_val` argument."
   ]
  },
  {
   "cell_type": "code",
   "execution_count": 5,
   "metadata": {},
   "outputs": [
    {
     "name": "stdout",
     "output_type": "stream",
     "text": [
      "[1.41421356]\n"
     ]
    }
   ],
   "source": [
    "prob = om.Problem()\n",
    "\n",
    "bal = om.BalanceComp()\n",
    "bal.add_balance('x', use_mult=True, mult_val=2.0)\n",
    "\n",
    "exec_comp = om.ExecComp('y=x**2', x={'val': 1}, y={'val': 1})\n",
    "\n",
    "prob.model.add_subsystem(name='exec', subsys=exec_comp)\n",
    "prob.model.add_subsystem(name='balance', subsys=bal)\n",
    "\n",
    "prob.model.connect('balance.x', 'exec.x')\n",
    "prob.model.connect('exec.y', 'balance.lhs:x')\n",
    "\n",
    "prob.model.linear_solver = om.DirectSolver(assemble_jac=True)\n",
    "prob.model.nonlinear_solver = om.NewtonSolver(solve_subsystems=False, maxiter=100, iprint=0)\n",
    "\n",
    "prob.setup()\n",
    "\n",
    "prob.set_val('balance.rhs:x', 4)\n",
    "\n",
    "# A reasonable initial guess to find the positive root.\n",
    "prob.set_val('balance.x', 1.0)\n",
    "\n",
    "prob.run_model()\n",
    "print(prob.get_val('balance.x'))"
   ]
  },
  {
   "cell_type": "code",
   "execution_count": 6,
   "metadata": {
    "tags": [
     "remove-input",
     "remove-output"
    ]
   },
   "outputs": [],
   "source": [
    "assert_almost_equal(prob.get_val('balance.x'), np.sqrt(2), decimal=7)"
   ]
  },
  {
   "cell_type": "markdown",
   "metadata": {},
   "source": [
    "## Example:  Vectorized Root Finding\n",
    "\n",
    "The following example uses a BalanceComp to implicitly solve the equation:\n",
    "\n",
    "$$\n",
    "    b \\cdot x + c  = 0\n",
    "$$\n",
    "\n",
    "for various values of $b$, and $c$.  Here, our LHS is connected to a computed value of\n",
    "the linear equation.  The multiplier is one and the RHS is zero (the defaults), and thus\n",
    "they need not be connected."
   ]
  },
  {
   "cell_type": "code",
   "execution_count": 7,
   "metadata": {},
   "outputs": [
    {
     "name": "stdout",
     "output_type": "stream",
     "text": [
      "[-1.43554712e-02 -3.85209360e-02 -8.24245809e-02 -2.24099568e-02\n",
      " -8.66594543e-03 -4.02098652e-03 -2.11585050e-02 -3.26076543e-02\n",
      " -2.73248547e-03 -1.70001711e-02 -8.70567735e-03 -2.95550530e-01\n",
      " -7.73146262e-03 -6.63853678e-02 -1.32119547e-02 -2.97859520e-03\n",
      " -5.50808229e-03 -1.29780333e-02 -4.21691523e-03 -4.70019536e-01\n",
      " -2.69822680e-03 -3.56608836e-02 -1.36967722e-01 -5.95357254e+00\n",
      " -1.09366457e-02 -1.00521206e-02 -3.47635096e-02 -9.83935414e-03\n",
      " -2.87324414e-01 -2.98730184e-02 -3.24203754e-03 -1.00159211e-02\n",
      " -1.16210151e-02 -3.05673551e-02 -4.34882810e-02 -6.56746108e-03\n",
      " -4.51520163e-02 -1.51323621e-02 -3.28833059e-03 -6.86598919e-03\n",
      " -1.28791357e-02 -5.31356100e-03 -1.53006530e-03 -7.16389637e-03\n",
      " -3.54736800e-03 -6.18071409e-03 -1.56574701e-02 -1.22911535e-02\n",
      " -2.37245634e-03 -2.50576461e-03 -2.41610139e-03 -9.39586296e-03\n",
      " -1.36810824e-02 -3.14145958e-03 -3.47654150e-03 -1.00926354e-02\n",
      " -1.89996700e-03 -9.94597059e-04 -1.14252763e-02 -1.73306838e-02\n",
      " -2.68360444e-03 -3.68290616e-03 -7.45237320e-03 -1.16333739e-02\n",
      " -1.88671246e-03 -1.23415244e-02 -3.26772987e-03 -1.42097106e-03\n",
      " -2.04035592e-03 -2.42184446e-02 -7.18178517e-03 -9.39445495e-03\n",
      " -1.01808946e-01 -1.45630031e-02 -4.28626187e-02 -3.14407389e-03\n",
      " -6.73544908e-03 -1.57243309e-01 -2.44359118e-03 -6.17830827e-03\n",
      " -8.25741339e-03 -1.34256053e-02 -5.26376182e-02 -1.40586826e-03\n",
      " -1.50021071e-02 -6.64674486e-03 -1.11590116e-02 -3.22688086e-01\n",
      " -1.12192478e-02 -6.63026817e-03 -8.89211198e-03 -1.54602810e-03\n",
      " -2.11194203e-02 -7.36769241e-03 -1.59839973e-02 -4.80321050e-02\n",
      " -1.29355858e-04 -7.64106028e-02 -6.42317450e-03 -8.21655406e-03]\n"
     ]
    }
   ],
   "source": [
    "n = 100\n",
    "\n",
    "prob = om.Problem()\n",
    "\n",
    "exec_comp = om.ExecComp('y=b*x+c',\n",
    "                        b={'val': np.random.uniform(0.01, 100, size=n)},\n",
    "                        c={'val': np.random.rand(n)},\n",
    "                        x={'val': np.zeros(n)},\n",
    "                        y={'val': np.ones(n)})\n",
    "\n",
    "prob.model.add_subsystem(name='exec', subsys=exec_comp)\n",
    "prob.model.add_subsystem(name='balance', subsys=om.BalanceComp('x', val=np.ones(n)))\n",
    "\n",
    "prob.model.connect('balance.x', 'exec.x')\n",
    "prob.model.connect('exec.y', 'balance.lhs:x')\n",
    "\n",
    "prob.model.linear_solver = om.DirectSolver(assemble_jac=True)\n",
    "prob.model.nonlinear_solver = om.NewtonSolver(solve_subsystems=False, maxiter=100, iprint=0)\n",
    "\n",
    "prob.setup()\n",
    "\n",
    "prob.set_val('balance.x', np.random.rand(n))\n",
    "\n",
    "prob.run_model()\n",
    "\n",
    "b = prob.get_val('exec.b')\n",
    "c = prob.get_val('exec.c')\n",
    "\n",
    "print(prob.get_val('balance.x'))"
   ]
  },
  {
   "cell_type": "code",
   "execution_count": 8,
   "metadata": {},
   "outputs": [
    {
     "name": "stdout",
     "output_type": "stream",
     "text": [
      "[-1.43554712e-02 -3.85209360e-02 -8.24245809e-02 -2.24099568e-02\n",
      " -8.66594543e-03 -4.02098652e-03 -2.11585050e-02 -3.26076543e-02\n",
      " -2.73248547e-03 -1.70001711e-02 -8.70567735e-03 -2.95550530e-01\n",
      " -7.73146262e-03 -6.63853678e-02 -1.32119547e-02 -2.97859520e-03\n",
      " -5.50808229e-03 -1.29780333e-02 -4.21691523e-03 -4.70019536e-01\n",
      " -2.69822680e-03 -3.56608836e-02 -1.36967722e-01 -5.95357254e+00\n",
      " -1.09366457e-02 -1.00521206e-02 -3.47635096e-02 -9.83935414e-03\n",
      " -2.87324414e-01 -2.98730184e-02 -3.24203754e-03 -1.00159211e-02\n",
      " -1.16210151e-02 -3.05673551e-02 -4.34882810e-02 -6.56746108e-03\n",
      " -4.51520163e-02 -1.51323621e-02 -3.28833059e-03 -6.86598919e-03\n",
      " -1.28791357e-02 -5.31356100e-03 -1.53006530e-03 -7.16389637e-03\n",
      " -3.54736800e-03 -6.18071409e-03 -1.56574701e-02 -1.22911535e-02\n",
      " -2.37245634e-03 -2.50576461e-03 -2.41610139e-03 -9.39586296e-03\n",
      " -1.36810824e-02 -3.14145958e-03 -3.47654150e-03 -1.00926354e-02\n",
      " -1.89996700e-03 -9.94597059e-04 -1.14252763e-02 -1.73306838e-02\n",
      " -2.68360444e-03 -3.68290616e-03 -7.45237320e-03 -1.16333739e-02\n",
      " -1.88671246e-03 -1.23415244e-02 -3.26772987e-03 -1.42097106e-03\n",
      " -2.04035592e-03 -2.42184446e-02 -7.18178517e-03 -9.39445495e-03\n",
      " -1.01808946e-01 -1.45630031e-02 -4.28626187e-02 -3.14407389e-03\n",
      " -6.73544908e-03 -1.57243309e-01 -2.44359118e-03 -6.17830827e-03\n",
      " -8.25741339e-03 -1.34256053e-02 -5.26376182e-02 -1.40586826e-03\n",
      " -1.50021071e-02 -6.64674486e-03 -1.11590116e-02 -3.22688086e-01\n",
      " -1.12192478e-02 -6.63026817e-03 -8.89211198e-03 -1.54602810e-03\n",
      " -2.11194203e-02 -7.36769241e-03 -1.59839973e-02 -4.80321050e-02\n",
      " -1.29355858e-04 -7.64106028e-02 -6.42317450e-03 -8.21655406e-03]\n"
     ]
    }
   ],
   "source": [
    "print(-c/b)  # expected"
   ]
  },
  {
   "cell_type": "code",
   "execution_count": 9,
   "metadata": {
    "tags": [
     "remove-input",
     "remove-output"
    ]
   },
   "outputs": [],
   "source": [
    "assert_almost_equal(prob.get_val('balance.x'), -c/b, decimal=6)\n",
    "assert_almost_equal(-c/b, prob.get_val('balance.x'), decimal=6)  # expected"
   ]
  },
  {
   "cell_type": "markdown",
   "metadata": {},
   "source": [
    "## Example:  Providing an Initial Guess for a State Variable\n",
    "\n",
    "`BalanceComp` has a `guess_func` option that can be used to supply an initial guess\n",
    "value for the state variables.  This option provides the same functionality as the\n",
    "[guess_nonlinear](../../../_srcdocs/packages/core/implicitcomponent.html#openmdao.core.implicitcomponent.ImplicitComponent.guess_nonlinear) \n",
    "method of `ImplicitComponent`.\n",
    "\n",
    "The Kepler example script shows how `guess_func` can be used."
   ]
  },
  {
   "cell_type": "code",
   "execution_count": null,
   "metadata": {},
   "outputs": [],
   "source": [
    "prob = om.Problem()\n",
    "\n",
    "bal = om.BalanceComp()\n",
    "\n",
    "bal.add_balance(name='E', val=0.0, units='rad', eq_units='rad', rhs_name='M')\n",
    "\n",
    "# Use M (mean anomaly) as the initial guess for E (eccentric anomaly)\n",
    "def guess_function(inputs, outputs, residuals):\n",
    "    if np.abs(residuals['E']) > 1.0E-2:\n",
    "        outputs['E'] = inputs['M']\n",
    "\n",
    "bal.options['guess_func'] = guess_function\n",
    "\n",
    "# ExecComp used to compute the LHS of Kepler's equation.\n",
    "lhs_comp = om.ExecComp('lhs=E - ecc * sin(E)',\n",
    "                       lhs={'val': 0.0, 'units': 'rad'},\n",
    "                       E={'val': 0.0, 'units': 'rad'},\n",
    "                       ecc={'val': 0.0})\n",
    "\n",
    "prob.model.add_subsystem(name='balance', subsys=bal,\n",
    "                         promotes_inputs=['M'],\n",
    "                         promotes_outputs=['E'])\n",
    "\n",
    "prob.model.set_input_defaults('M', 85.0, units='deg')\n",
    "\n",
    "prob.model.add_subsystem(name='lhs_comp', subsys=lhs_comp,\n",
    "                         promotes_inputs=['E', 'ecc'])\n",
    "\n",
    "# Explicit connections\n",
    "prob.model.connect('lhs_comp.lhs', 'balance.lhs:E')\n",
    "\n",
    "# Set up solvers\n",
    "prob.model.linear_solver = om.DirectSolver()\n",
    "prob.model.nonlinear_solver = om.NewtonSolver(solve_subsystems=False, maxiter=100, iprint=2)\n",
    "\n",
    "prob.setup()\n",
    "\n",
    "prob.set_val('ecc', 0.6)\n",
    "\n",
    "prob.run_model()\n",
    "\n",
    "print(np.degrees(prob.get_val('E')))"
   ]
  },
  {
   "cell_type": "code",
   "execution_count": null,
   "metadata": {
    "tags": [
     "remove-input",
     "remove-output"
    ]
   },
   "outputs": [],
   "source": [
    "from openmdao.utils.assert_utils import assert_near_equal\n",
    "\n",
    "assert_almost_equal(np.degrees(prob.get_val('E')), 115.9, decimal=1)"
   ]
  }
 ],
 "metadata": {
  "celltoolbar": "Tags",
  "kernelspec": {
   "display_name": "Python 3",
   "language": "python",
   "name": "python3"
  },
  "language_info": {
   "codemirror_mode": {
    "name": "ipython",
    "version": 3
   },
   "file_extension": ".py",
   "mimetype": "text/x-python",
   "name": "python",
   "nbconvert_exporter": "python",
   "pygments_lexer": "ipython3",
   "version": "3.8.1"
  },
  "orphan": true
 },
 "nbformat": 4,
 "nbformat_minor": 4
}
