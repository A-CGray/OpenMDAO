{
 "cells": [
  {
   "cell_type": "code",
   "execution_count": 1,
   "metadata": {
    "tags": [
     "remove-input",
     "active-ipynb",
     "remove-output"
    ]
   },
   "outputs": [],
   "source": [
    "try:\n",
    "    from openmdao.utils.notebook_utils import notebook_mode\n",
    "except ImportError:\n",
    "    !python -m pip install openmdao[notebooks]"
   ]
  },
  {
   "cell_type": "markdown",
   "metadata": {},
   "source": [
    "# Basic Recording Example\n",
    "## Recording Terminology\n",
    "- **Case**: A Case stores a snapshot of all the variable values, metadata, and options of a model, or a sub-set of a model, at a particular point in time\n",
    "- **Case Recorder**: An OpenMDAO module used to store a snapshot of a model before, during, or after execution in an SQL file.\n",
    "- **Sources**: The OpenMDAO object responsible for recording the case. Can be `Problem`, `Driver` or a specific `System` or `Solver` identified by pathname.\n",
    "\n",
    "## Basic Recording Example\n",
    "\n",
    "Below is a basic example of how to create a recorder, attach it to a Problem, save the information,\n",
    "and retrieve the data from the recorder. `list_outputs` is a quick way to show all of your outputs\n",
    "and their values at the time the case was recorded, and should you need to isolate a single value OpenMDAO provides two ways to\n",
    "retrieve them. To view all the design variables, constraints, and\n",
    "objectives, you can use their methods like the example below.\n"
   ]
  },
  {
   "cell_type": "code",
   "execution_count": 2,
   "metadata": {
    "tags": [
     "remove-input",
     "remove-output"
    ]
   },
   "outputs": [],
   "source": [
    "import os\n",
    "if os.path.exists('cases.sql'):\n",
    "    os.remove('cases.sql')"
   ]
  },
  {
   "cell_type": "code",
   "execution_count": 3,
   "metadata": {
    "tags": [
     "remove-input",
     "remove-output"
    ]
   },
   "outputs": [
    {
     "data": {
      "application/papermill.record/text/html": "<style>pre { line-height: 125%; }\ntd.linenos .normal { color: inherit; background-color: transparent; padding-left: 5px; padding-right: 5px; }\nspan.linenos { color: inherit; background-color: transparent; padding-left: 5px; padding-right: 5px; }\ntd.linenos .special { color: #000000; background-color: #ffffc0; padding-left: 5px; padding-right: 5px; }\nspan.linenos.special { color: #000000; background-color: #ffffc0; padding-left: 5px; padding-right: 5px; }\n.output_html .hll { background-color: #ffffcc }\n.output_html { background: #f8f8f8; }\n.output_html .c { color: #3D7B7B; font-style: italic } /* Comment */\n.output_html .err { border: 1px solid #FF0000 } /* Error */\n.output_html .k { color: #008000; font-weight: bold } /* Keyword */\n.output_html .o { color: #666666 } /* Operator */\n.output_html .ch { color: #3D7B7B; font-style: italic } /* Comment.Hashbang */\n.output_html .cm { color: #3D7B7B; font-style: italic } /* Comment.Multiline */\n.output_html .cp { color: #9C6500 } /* Comment.Preproc */\n.output_html .cpf { color: #3D7B7B; font-style: italic } /* Comment.PreprocFile */\n.output_html .c1 { color: #3D7B7B; font-style: italic } /* Comment.Single */\n.output_html .cs { color: #3D7B7B; font-style: italic } /* Comment.Special */\n.output_html .gd { color: #A00000 } /* Generic.Deleted */\n.output_html .ge { font-style: italic } /* Generic.Emph */\n.output_html .ges { font-weight: bold; font-style: italic } /* Generic.EmphStrong */\n.output_html .gr { color: #E40000 } /* Generic.Error */\n.output_html .gh { color: #000080; font-weight: bold } /* Generic.Heading */\n.output_html .gi { color: #008400 } /* Generic.Inserted */\n.output_html .go { color: #717171 } /* Generic.Output */\n.output_html .gp { color: #000080; font-weight: bold } /* Generic.Prompt */\n.output_html .gs { font-weight: bold } /* Generic.Strong */\n.output_html .gu { color: #800080; font-weight: bold } /* Generic.Subheading */\n.output_html .gt { color: #0044DD } /* Generic.Traceback */\n.output_html .kc { color: #008000; font-weight: bold } /* Keyword.Constant */\n.output_html .kd { color: #008000; font-weight: bold } /* Keyword.Declaration */\n.output_html .kn { color: #008000; font-weight: bold } /* Keyword.Namespace */\n.output_html .kp { color: #008000 } /* Keyword.Pseudo */\n.output_html .kr { color: #008000; font-weight: bold } /* Keyword.Reserved */\n.output_html .kt { color: #B00040 } /* Keyword.Type */\n.output_html .m { color: #666666 } /* Literal.Number */\n.output_html .s { color: #BA2121 } /* Literal.String */\n.output_html .na { color: #687822 } /* Name.Attribute */\n.output_html .nb { color: #008000 } /* Name.Builtin */\n.output_html .nc { color: #0000FF; font-weight: bold } /* Name.Class */\n.output_html .no { color: #880000 } /* Name.Constant */\n.output_html .nd { color: #AA22FF } /* Name.Decorator */\n.output_html .ni { color: #717171; font-weight: bold } /* Name.Entity */\n.output_html .ne { color: #CB3F38; font-weight: bold } /* Name.Exception */\n.output_html .nf { color: #0000FF } /* Name.Function */\n.output_html .nl { color: #767600 } /* Name.Label */\n.output_html .nn { color: #0000FF; font-weight: bold } /* Name.Namespace */\n.output_html .nt { color: #008000; font-weight: bold } /* Name.Tag */\n.output_html .nv { color: #19177C } /* Name.Variable */\n.output_html .ow { color: #AA22FF; font-weight: bold } /* Operator.Word */\n.output_html .w { color: #bbbbbb } /* Text.Whitespace */\n.output_html .mb { color: #666666 } /* Literal.Number.Bin */\n.output_html .mf { color: #666666 } /* Literal.Number.Float */\n.output_html .mh { color: #666666 } /* Literal.Number.Hex */\n.output_html .mi { color: #666666 } /* Literal.Number.Integer */\n.output_html .mo { color: #666666 } /* Literal.Number.Oct */\n.output_html .sa { color: #BA2121 } /* Literal.String.Affix */\n.output_html .sb { color: #BA2121 } /* Literal.String.Backtick */\n.output_html .sc { color: #BA2121 } /* Literal.String.Char */\n.output_html .dl { color: #BA2121 } /* Literal.String.Delimiter */\n.output_html .sd { color: #BA2121; font-style: italic } /* Literal.String.Doc */\n.output_html .s2 { color: #BA2121 } /* Literal.String.Double */\n.output_html .se { color: #AA5D1F; font-weight: bold } /* Literal.String.Escape */\n.output_html .sh { color: #BA2121 } /* Literal.String.Heredoc */\n.output_html .si { color: #A45A77; font-weight: bold } /* Literal.String.Interpol */\n.output_html .sx { color: #008000 } /* Literal.String.Other */\n.output_html .sr { color: #A45A77 } /* Literal.String.Regex */\n.output_html .s1 { color: #BA2121 } /* Literal.String.Single */\n.output_html .ss { color: #19177C } /* Literal.String.Symbol */\n.output_html .bp { color: #008000 } /* Name.Builtin.Pseudo */\n.output_html .fm { color: #0000FF } /* Name.Function.Magic */\n.output_html .vc { color: #19177C } /* Name.Variable.Class */\n.output_html .vg { color: #19177C } /* Name.Variable.Global */\n.output_html .vi { color: #19177C } /* Name.Variable.Instance */\n.output_html .vm { color: #19177C } /* Name.Variable.Magic */\n.output_html .il { color: #666666 } /* Literal.Number.Integer.Long */</style><div class=\"highlight\"><pre><span></span><span class=\"k\">class</span> <span class=\"nc\">SellarMDAWithUnits</span><span class=\"p\">(</span><span class=\"n\">om</span><span class=\"o\">.</span><span class=\"n\">Group</span><span class=\"p\">):</span>\n<span class=\"w\">    </span><span class=\"sd\">&quot;&quot;&quot;</span>\n<span class=\"sd\">    Group containing the Sellar MDA.</span>\n<span class=\"sd\">    &quot;&quot;&quot;</span>\n\n    <span class=\"k\">class</span> <span class=\"nc\">SellarDis1Units</span><span class=\"p\">(</span><span class=\"n\">om</span><span class=\"o\">.</span><span class=\"n\">ExplicitComponent</span><span class=\"p\">):</span>\n<span class=\"w\">        </span><span class=\"sd\">&quot;&quot;&quot;</span>\n<span class=\"sd\">        Component containing Discipline 1 -- no derivatives version.</span>\n<span class=\"sd\">        &quot;&quot;&quot;</span>\n\n        <span class=\"k\">def</span> <span class=\"nf\">setup</span><span class=\"p\">(</span><span class=\"bp\">self</span><span class=\"p\">):</span>\n\n            <span class=\"c1\"># Global Design Variable</span>\n            <span class=\"bp\">self</span><span class=\"o\">.</span><span class=\"n\">add_input</span><span class=\"p\">(</span><span class=\"s1\">&#39;z&#39;</span><span class=\"p\">,</span> <span class=\"n\">val</span><span class=\"o\">=</span><span class=\"n\">np</span><span class=\"o\">.</span><span class=\"n\">zeros</span><span class=\"p\">(</span><span class=\"mi\">2</span><span class=\"p\">),</span> <span class=\"n\">units</span><span class=\"o\">=</span><span class=\"s1\">&#39;degC&#39;</span><span class=\"p\">)</span>\n\n            <span class=\"c1\"># Local Design Variable</span>\n            <span class=\"bp\">self</span><span class=\"o\">.</span><span class=\"n\">add_input</span><span class=\"p\">(</span><span class=\"s1\">&#39;x&#39;</span><span class=\"p\">,</span> <span class=\"n\">val</span><span class=\"o\">=</span><span class=\"mf\">0.</span><span class=\"p\">,</span> <span class=\"n\">units</span><span class=\"o\">=</span><span class=\"s1\">&#39;degC&#39;</span><span class=\"p\">)</span>\n\n            <span class=\"c1\"># Coupling parameter</span>\n            <span class=\"bp\">self</span><span class=\"o\">.</span><span class=\"n\">add_input</span><span class=\"p\">(</span><span class=\"s1\">&#39;y2&#39;</span><span class=\"p\">,</span> <span class=\"n\">val</span><span class=\"o\">=</span><span class=\"mf\">1.0</span><span class=\"p\">,</span> <span class=\"n\">units</span><span class=\"o\">=</span><span class=\"s1\">&#39;degC&#39;</span><span class=\"p\">)</span>\n\n            <span class=\"c1\"># Coupling output</span>\n            <span class=\"bp\">self</span><span class=\"o\">.</span><span class=\"n\">add_output</span><span class=\"p\">(</span><span class=\"s1\">&#39;y1&#39;</span><span class=\"p\">,</span> <span class=\"n\">val</span><span class=\"o\">=</span><span class=\"mf\">1.0</span><span class=\"p\">,</span> <span class=\"n\">units</span><span class=\"o\">=</span><span class=\"s1\">&#39;degC&#39;</span><span class=\"p\">)</span>\n\n        <span class=\"k\">def</span> <span class=\"nf\">setup_partials</span><span class=\"p\">(</span><span class=\"bp\">self</span><span class=\"p\">):</span>\n            <span class=\"c1\"># Finite difference all partials.</span>\n            <span class=\"bp\">self</span><span class=\"o\">.</span><span class=\"n\">declare_partials</span><span class=\"p\">(</span><span class=\"s1\">&#39;*&#39;</span><span class=\"p\">,</span> <span class=\"s1\">&#39;*&#39;</span><span class=\"p\">,</span> <span class=\"n\">method</span><span class=\"o\">=</span><span class=\"s1\">&#39;fd&#39;</span><span class=\"p\">)</span>\n\n        <span class=\"k\">def</span> <span class=\"nf\">compute</span><span class=\"p\">(</span><span class=\"bp\">self</span><span class=\"p\">,</span> <span class=\"n\">inputs</span><span class=\"p\">,</span> <span class=\"n\">outputs</span><span class=\"p\">):</span>\n<span class=\"w\">            </span><span class=\"sd\">&quot;&quot;&quot;</span>\n<span class=\"sd\">            Evaluates the equation</span>\n<span class=\"sd\">            y1 = z1**2 + z2 + x1 - 0.2*y2</span>\n<span class=\"sd\">            &quot;&quot;&quot;</span>\n            <span class=\"n\">z1</span> <span class=\"o\">=</span> <span class=\"n\">inputs</span><span class=\"p\">[</span><span class=\"s1\">&#39;z&#39;</span><span class=\"p\">][</span><span class=\"mi\">0</span><span class=\"p\">]</span>\n            <span class=\"n\">z2</span> <span class=\"o\">=</span> <span class=\"n\">inputs</span><span class=\"p\">[</span><span class=\"s1\">&#39;z&#39;</span><span class=\"p\">][</span><span class=\"mi\">1</span><span class=\"p\">]</span>\n            <span class=\"n\">x1</span> <span class=\"o\">=</span> <span class=\"n\">inputs</span><span class=\"p\">[</span><span class=\"s1\">&#39;x&#39;</span><span class=\"p\">]</span>\n            <span class=\"n\">y2</span> <span class=\"o\">=</span> <span class=\"n\">inputs</span><span class=\"p\">[</span><span class=\"s1\">&#39;y2&#39;</span><span class=\"p\">]</span>\n\n            <span class=\"n\">outputs</span><span class=\"p\">[</span><span class=\"s1\">&#39;y1&#39;</span><span class=\"p\">]</span> <span class=\"o\">=</span> <span class=\"n\">z1</span><span class=\"o\">**</span><span class=\"mi\">2</span> <span class=\"o\">+</span> <span class=\"n\">z2</span> <span class=\"o\">+</span> <span class=\"n\">x1</span> <span class=\"o\">-</span> <span class=\"mf\">0.2</span><span class=\"o\">*</span><span class=\"n\">y2</span>\n\n    <span class=\"k\">class</span> <span class=\"nc\">SellarDis2Units</span><span class=\"p\">(</span><span class=\"n\">om</span><span class=\"o\">.</span><span class=\"n\">ExplicitComponent</span><span class=\"p\">):</span>\n<span class=\"w\">        </span><span class=\"sd\">&quot;&quot;&quot;</span>\n<span class=\"sd\">        Component containing Discipline 2 -- no derivatives version.</span>\n<span class=\"sd\">        &quot;&quot;&quot;</span>\n\n        <span class=\"k\">def</span> <span class=\"nf\">setup</span><span class=\"p\">(</span><span class=\"bp\">self</span><span class=\"p\">):</span>\n            <span class=\"c1\"># Global Design Variable</span>\n            <span class=\"bp\">self</span><span class=\"o\">.</span><span class=\"n\">add_input</span><span class=\"p\">(</span><span class=\"s1\">&#39;z&#39;</span><span class=\"p\">,</span> <span class=\"n\">val</span><span class=\"o\">=</span><span class=\"n\">np</span><span class=\"o\">.</span><span class=\"n\">zeros</span><span class=\"p\">(</span><span class=\"mi\">2</span><span class=\"p\">),</span> <span class=\"n\">units</span><span class=\"o\">=</span><span class=\"s1\">&#39;degC&#39;</span><span class=\"p\">)</span>\n\n            <span class=\"c1\"># Coupling parameter</span>\n            <span class=\"bp\">self</span><span class=\"o\">.</span><span class=\"n\">add_input</span><span class=\"p\">(</span><span class=\"s1\">&#39;y1&#39;</span><span class=\"p\">,</span> <span class=\"n\">val</span><span class=\"o\">=</span><span class=\"mf\">1.0</span><span class=\"p\">,</span> <span class=\"n\">units</span><span class=\"o\">=</span><span class=\"s1\">&#39;degC&#39;</span><span class=\"p\">)</span>\n\n            <span class=\"c1\"># Coupling output</span>\n            <span class=\"bp\">self</span><span class=\"o\">.</span><span class=\"n\">add_output</span><span class=\"p\">(</span><span class=\"s1\">&#39;y2&#39;</span><span class=\"p\">,</span> <span class=\"n\">val</span><span class=\"o\">=</span><span class=\"mf\">1.0</span><span class=\"p\">,</span> <span class=\"n\">units</span><span class=\"o\">=</span><span class=\"s1\">&#39;degC&#39;</span><span class=\"p\">)</span>\n\n        <span class=\"k\">def</span> <span class=\"nf\">setup_partials</span><span class=\"p\">(</span><span class=\"bp\">self</span><span class=\"p\">):</span>\n            <span class=\"c1\"># Finite difference all partials.</span>\n            <span class=\"bp\">self</span><span class=\"o\">.</span><span class=\"n\">declare_partials</span><span class=\"p\">(</span><span class=\"s1\">&#39;*&#39;</span><span class=\"p\">,</span> <span class=\"s1\">&#39;*&#39;</span><span class=\"p\">,</span> <span class=\"n\">method</span><span class=\"o\">=</span><span class=\"s1\">&#39;fd&#39;</span><span class=\"p\">)</span>\n\n        <span class=\"k\">def</span> <span class=\"nf\">compute</span><span class=\"p\">(</span><span class=\"bp\">self</span><span class=\"p\">,</span> <span class=\"n\">inputs</span><span class=\"p\">,</span> <span class=\"n\">outputs</span><span class=\"p\">):</span>\n<span class=\"w\">            </span><span class=\"sd\">&quot;&quot;&quot;</span>\n<span class=\"sd\">            Evaluates the equation</span>\n<span class=\"sd\">            y2 = y1**(.5) + z1 + z2</span>\n<span class=\"sd\">            &quot;&quot;&quot;</span>\n\n            <span class=\"n\">z1</span> <span class=\"o\">=</span> <span class=\"n\">inputs</span><span class=\"p\">[</span><span class=\"s1\">&#39;z&#39;</span><span class=\"p\">][</span><span class=\"mi\">0</span><span class=\"p\">]</span>\n            <span class=\"n\">z2</span> <span class=\"o\">=</span> <span class=\"n\">inputs</span><span class=\"p\">[</span><span class=\"s1\">&#39;z&#39;</span><span class=\"p\">][</span><span class=\"mi\">1</span><span class=\"p\">]</span>\n            <span class=\"n\">y1</span> <span class=\"o\">=</span> <span class=\"n\">inputs</span><span class=\"p\">[</span><span class=\"s1\">&#39;y1&#39;</span><span class=\"p\">]</span>\n\n            <span class=\"c1\"># Note: this may cause some issues. However, y1 is constrained to be</span>\n            <span class=\"c1\"># above 3.16, so lets just let it converge, and the optimizer will</span>\n            <span class=\"c1\"># throw it out</span>\n            <span class=\"k\">if</span> <span class=\"n\">y1</span><span class=\"o\">.</span><span class=\"n\">real</span> <span class=\"o\">&lt;</span> <span class=\"mf\">0.0</span><span class=\"p\">:</span>\n                <span class=\"n\">y1</span> <span class=\"o\">*=</span> <span class=\"o\">-</span><span class=\"mi\">1</span>\n\n            <span class=\"n\">outputs</span><span class=\"p\">[</span><span class=\"s1\">&#39;y2&#39;</span><span class=\"p\">]</span> <span class=\"o\">=</span> <span class=\"n\">y1</span><span class=\"o\">**</span><span class=\"mf\">.5</span> <span class=\"o\">+</span> <span class=\"n\">z1</span> <span class=\"o\">+</span> <span class=\"n\">z2</span>\n\n    <span class=\"k\">def</span> <span class=\"nf\">setup</span><span class=\"p\">(</span><span class=\"bp\">self</span><span class=\"p\">):</span>\n\n        <span class=\"n\">cycle</span> <span class=\"o\">=</span> <span class=\"bp\">self</span><span class=\"o\">.</span><span class=\"n\">add_subsystem</span><span class=\"p\">(</span><span class=\"s1\">&#39;cycle&#39;</span><span class=\"p\">,</span> <span class=\"n\">om</span><span class=\"o\">.</span><span class=\"n\">Group</span><span class=\"p\">(),</span> <span class=\"n\">promotes</span><span class=\"o\">=</span><span class=\"p\">[</span><span class=\"s1\">&#39;*&#39;</span><span class=\"p\">])</span>\n        <span class=\"n\">cycle</span><span class=\"o\">.</span><span class=\"n\">add_subsystem</span><span class=\"p\">(</span><span class=\"s1\">&#39;d1&#39;</span><span class=\"p\">,</span> <span class=\"bp\">self</span><span class=\"o\">.</span><span class=\"n\">SellarDis1Units</span><span class=\"p\">(),</span> <span class=\"n\">promotes_inputs</span><span class=\"o\">=</span><span class=\"p\">[</span><span class=\"s1\">&#39;x&#39;</span><span class=\"p\">,</span> <span class=\"s1\">&#39;z&#39;</span><span class=\"p\">,</span> <span class=\"s1\">&#39;y2&#39;</span><span class=\"p\">],</span>\n                            <span class=\"n\">promotes_outputs</span><span class=\"o\">=</span><span class=\"p\">[</span><span class=\"s1\">&#39;y1&#39;</span><span class=\"p\">])</span>\n        <span class=\"n\">cycle</span><span class=\"o\">.</span><span class=\"n\">add_subsystem</span><span class=\"p\">(</span><span class=\"s1\">&#39;d2&#39;</span><span class=\"p\">,</span> <span class=\"bp\">self</span><span class=\"o\">.</span><span class=\"n\">SellarDis2Units</span><span class=\"p\">(),</span> <span class=\"n\">promotes_inputs</span><span class=\"o\">=</span><span class=\"p\">[</span><span class=\"s1\">&#39;z&#39;</span><span class=\"p\">,</span> <span class=\"s1\">&#39;y1&#39;</span><span class=\"p\">],</span>\n                            <span class=\"n\">promotes_outputs</span><span class=\"o\">=</span><span class=\"p\">[</span><span class=\"s1\">&#39;y2&#39;</span><span class=\"p\">])</span>\n\n        <span class=\"n\">cycle</span><span class=\"o\">.</span><span class=\"n\">set_input_defaults</span><span class=\"p\">(</span><span class=\"s1\">&#39;x&#39;</span><span class=\"p\">,</span> <span class=\"mf\">1.0</span><span class=\"p\">,</span> <span class=\"n\">units</span><span class=\"o\">=</span><span class=\"s1\">&#39;degC&#39;</span><span class=\"p\">)</span>\n        <span class=\"n\">cycle</span><span class=\"o\">.</span><span class=\"n\">set_input_defaults</span><span class=\"p\">(</span><span class=\"s1\">&#39;z&#39;</span><span class=\"p\">,</span> <span class=\"n\">np</span><span class=\"o\">.</span><span class=\"n\">array</span><span class=\"p\">([</span><span class=\"mf\">5.0</span><span class=\"p\">,</span> <span class=\"mf\">2.0</span><span class=\"p\">]),</span> <span class=\"n\">units</span><span class=\"o\">=</span><span class=\"s1\">&#39;degC&#39;</span><span class=\"p\">)</span>\n\n        <span class=\"c1\"># Nonlinear Block Gauss Seidel is a gradient free solver</span>\n        <span class=\"n\">cycle</span><span class=\"o\">.</span><span class=\"n\">nonlinear_solver</span> <span class=\"o\">=</span> <span class=\"n\">om</span><span class=\"o\">.</span><span class=\"n\">NonlinearBlockGS</span><span class=\"p\">()</span>\n\n        <span class=\"bp\">self</span><span class=\"o\">.</span><span class=\"n\">add_subsystem</span><span class=\"p\">(</span><span class=\"s1\">&#39;obj_cmp&#39;</span><span class=\"p\">,</span> <span class=\"n\">om</span><span class=\"o\">.</span><span class=\"n\">ExecComp</span><span class=\"p\">(</span><span class=\"s1\">&#39;obj = x**2 + z[1] + y1 + exp(-y2)&#39;</span><span class=\"p\">,</span>\n                                                  <span class=\"n\">z</span><span class=\"o\">=</span><span class=\"p\">{</span><span class=\"s1\">&#39;val&#39;</span><span class=\"p\">:</span> <span class=\"n\">np</span><span class=\"o\">.</span><span class=\"n\">array</span><span class=\"p\">([</span><span class=\"mf\">0.0</span><span class=\"p\">,</span> <span class=\"mf\">0.0</span><span class=\"p\">]),</span> <span class=\"s1\">&#39;units&#39;</span><span class=\"p\">:</span> <span class=\"s1\">&#39;degC&#39;</span><span class=\"p\">},</span>\n                                                  <span class=\"n\">x</span><span class=\"o\">=</span><span class=\"p\">{</span><span class=\"s1\">&#39;val&#39;</span><span class=\"p\">:</span> <span class=\"mf\">0.0</span><span class=\"p\">,</span> <span class=\"s1\">&#39;units&#39;</span><span class=\"p\">:</span> <span class=\"s1\">&#39;degC&#39;</span><span class=\"p\">},</span>\n                                                  <span class=\"n\">y1</span><span class=\"o\">=</span><span class=\"p\">{</span><span class=\"s1\">&#39;units&#39;</span><span class=\"p\">:</span> <span class=\"s1\">&#39;degC&#39;</span><span class=\"p\">},</span>\n                                                  <span class=\"n\">y2</span><span class=\"o\">=</span><span class=\"p\">{</span><span class=\"s1\">&#39;units&#39;</span><span class=\"p\">:</span> <span class=\"s1\">&#39;degC&#39;</span><span class=\"p\">}),</span>\n                           <span class=\"n\">promotes</span><span class=\"o\">=</span><span class=\"p\">[</span><span class=\"s1\">&#39;x&#39;</span><span class=\"p\">,</span> <span class=\"s1\">&#39;z&#39;</span><span class=\"p\">,</span> <span class=\"s1\">&#39;y1&#39;</span><span class=\"p\">,</span> <span class=\"s1\">&#39;y2&#39;</span><span class=\"p\">,</span> <span class=\"s1\">&#39;obj&#39;</span><span class=\"p\">])</span>\n\n        <span class=\"bp\">self</span><span class=\"o\">.</span><span class=\"n\">add_subsystem</span><span class=\"p\">(</span><span class=\"s1\">&#39;con_cmp1&#39;</span><span class=\"p\">,</span> <span class=\"n\">om</span><span class=\"o\">.</span><span class=\"n\">ExecComp</span><span class=\"p\">(</span><span class=\"s1\">&#39;con1 = 3.16 - y1&#39;</span><span class=\"p\">,</span> <span class=\"n\">y1</span><span class=\"o\">=</span><span class=\"p\">{</span><span class=\"s1\">&#39;units&#39;</span><span class=\"p\">:</span> <span class=\"s1\">&#39;degC&#39;</span><span class=\"p\">},</span>\n                                                   <span class=\"n\">con1</span><span class=\"o\">=</span><span class=\"p\">{</span><span class=\"s1\">&#39;units&#39;</span><span class=\"p\">:</span> <span class=\"s1\">&#39;degC&#39;</span><span class=\"p\">}),</span>\n                           <span class=\"n\">promotes</span><span class=\"o\">=</span><span class=\"p\">[</span><span class=\"s1\">&#39;con1&#39;</span><span class=\"p\">,</span> <span class=\"s1\">&#39;y1&#39;</span><span class=\"p\">])</span>\n        <span class=\"bp\">self</span><span class=\"o\">.</span><span class=\"n\">add_subsystem</span><span class=\"p\">(</span><span class=\"s1\">&#39;con_cmp2&#39;</span><span class=\"p\">,</span> <span class=\"n\">om</span><span class=\"o\">.</span><span class=\"n\">ExecComp</span><span class=\"p\">(</span><span class=\"s1\">&#39;con2 = y2 - 24.0&#39;</span><span class=\"p\">,</span> <span class=\"n\">y2</span><span class=\"o\">=</span><span class=\"p\">{</span><span class=\"s1\">&#39;units&#39;</span><span class=\"p\">:</span> <span class=\"s1\">&#39;degC&#39;</span><span class=\"p\">},</span>\n                                                   <span class=\"n\">con2</span><span class=\"o\">=</span><span class=\"p\">{</span><span class=\"s1\">&#39;units&#39;</span><span class=\"p\">:</span> <span class=\"s1\">&#39;degC&#39;</span><span class=\"p\">}),</span>\n                           <span class=\"n\">promotes</span><span class=\"o\">=</span><span class=\"p\">[</span><span class=\"s1\">&#39;con2&#39;</span><span class=\"p\">,</span> <span class=\"s1\">&#39;y2&#39;</span><span class=\"p\">])</span>\n</pre></div>\n",
      "application/papermill.record/text/latex": "\\begin{Verbatim}[commandchars=\\\\\\{\\}]\n\\PY{k}{class} \\PY{n+nc}{SellarMDAWithUnits}\\PY{p}{(}\\PY{n}{om}\\PY{o}{.}\\PY{n}{Group}\\PY{p}{)}\\PY{p}{:}\n\\PY{+w}{    }\\PY{l+s+sd}{\\PYZdq{}\\PYZdq{}\\PYZdq{}}\n\\PY{l+s+sd}{    Group containing the Sellar MDA.}\n\\PY{l+s+sd}{    \\PYZdq{}\\PYZdq{}\\PYZdq{}}\n\n    \\PY{k}{class} \\PY{n+nc}{SellarDis1Units}\\PY{p}{(}\\PY{n}{om}\\PY{o}{.}\\PY{n}{ExplicitComponent}\\PY{p}{)}\\PY{p}{:}\n\\PY{+w}{        }\\PY{l+s+sd}{\\PYZdq{}\\PYZdq{}\\PYZdq{}}\n\\PY{l+s+sd}{        Component containing Discipline 1 \\PYZhy{}\\PYZhy{} no derivatives version.}\n\\PY{l+s+sd}{        \\PYZdq{}\\PYZdq{}\\PYZdq{}}\n\n        \\PY{k}{def} \\PY{n+nf}{setup}\\PY{p}{(}\\PY{n+nb+bp}{self}\\PY{p}{)}\\PY{p}{:}\n\n            \\PY{c+c1}{\\PYZsh{} Global Design Variable}\n            \\PY{n+nb+bp}{self}\\PY{o}{.}\\PY{n}{add\\PYZus{}input}\\PY{p}{(}\\PY{l+s+s1}{\\PYZsq{}}\\PY{l+s+s1}{z}\\PY{l+s+s1}{\\PYZsq{}}\\PY{p}{,} \\PY{n}{val}\\PY{o}{=}\\PY{n}{np}\\PY{o}{.}\\PY{n}{zeros}\\PY{p}{(}\\PY{l+m+mi}{2}\\PY{p}{)}\\PY{p}{,} \\PY{n}{units}\\PY{o}{=}\\PY{l+s+s1}{\\PYZsq{}}\\PY{l+s+s1}{degC}\\PY{l+s+s1}{\\PYZsq{}}\\PY{p}{)}\n\n            \\PY{c+c1}{\\PYZsh{} Local Design Variable}\n            \\PY{n+nb+bp}{self}\\PY{o}{.}\\PY{n}{add\\PYZus{}input}\\PY{p}{(}\\PY{l+s+s1}{\\PYZsq{}}\\PY{l+s+s1}{x}\\PY{l+s+s1}{\\PYZsq{}}\\PY{p}{,} \\PY{n}{val}\\PY{o}{=}\\PY{l+m+mf}{0.}\\PY{p}{,} \\PY{n}{units}\\PY{o}{=}\\PY{l+s+s1}{\\PYZsq{}}\\PY{l+s+s1}{degC}\\PY{l+s+s1}{\\PYZsq{}}\\PY{p}{)}\n\n            \\PY{c+c1}{\\PYZsh{} Coupling parameter}\n            \\PY{n+nb+bp}{self}\\PY{o}{.}\\PY{n}{add\\PYZus{}input}\\PY{p}{(}\\PY{l+s+s1}{\\PYZsq{}}\\PY{l+s+s1}{y2}\\PY{l+s+s1}{\\PYZsq{}}\\PY{p}{,} \\PY{n}{val}\\PY{o}{=}\\PY{l+m+mf}{1.0}\\PY{p}{,} \\PY{n}{units}\\PY{o}{=}\\PY{l+s+s1}{\\PYZsq{}}\\PY{l+s+s1}{degC}\\PY{l+s+s1}{\\PYZsq{}}\\PY{p}{)}\n\n            \\PY{c+c1}{\\PYZsh{} Coupling output}\n            \\PY{n+nb+bp}{self}\\PY{o}{.}\\PY{n}{add\\PYZus{}output}\\PY{p}{(}\\PY{l+s+s1}{\\PYZsq{}}\\PY{l+s+s1}{y1}\\PY{l+s+s1}{\\PYZsq{}}\\PY{p}{,} \\PY{n}{val}\\PY{o}{=}\\PY{l+m+mf}{1.0}\\PY{p}{,} \\PY{n}{units}\\PY{o}{=}\\PY{l+s+s1}{\\PYZsq{}}\\PY{l+s+s1}{degC}\\PY{l+s+s1}{\\PYZsq{}}\\PY{p}{)}\n\n        \\PY{k}{def} \\PY{n+nf}{setup\\PYZus{}partials}\\PY{p}{(}\\PY{n+nb+bp}{self}\\PY{p}{)}\\PY{p}{:}\n            \\PY{c+c1}{\\PYZsh{} Finite difference all partials.}\n            \\PY{n+nb+bp}{self}\\PY{o}{.}\\PY{n}{declare\\PYZus{}partials}\\PY{p}{(}\\PY{l+s+s1}{\\PYZsq{}}\\PY{l+s+s1}{*}\\PY{l+s+s1}{\\PYZsq{}}\\PY{p}{,} \\PY{l+s+s1}{\\PYZsq{}}\\PY{l+s+s1}{*}\\PY{l+s+s1}{\\PYZsq{}}\\PY{p}{,} \\PY{n}{method}\\PY{o}{=}\\PY{l+s+s1}{\\PYZsq{}}\\PY{l+s+s1}{fd}\\PY{l+s+s1}{\\PYZsq{}}\\PY{p}{)}\n\n        \\PY{k}{def} \\PY{n+nf}{compute}\\PY{p}{(}\\PY{n+nb+bp}{self}\\PY{p}{,} \\PY{n}{inputs}\\PY{p}{,} \\PY{n}{outputs}\\PY{p}{)}\\PY{p}{:}\n\\PY{+w}{            }\\PY{l+s+sd}{\\PYZdq{}\\PYZdq{}\\PYZdq{}}\n\\PY{l+s+sd}{            Evaluates the equation}\n\\PY{l+s+sd}{            y1 = z1**2 + z2 + x1 \\PYZhy{} 0.2*y2}\n\\PY{l+s+sd}{            \\PYZdq{}\\PYZdq{}\\PYZdq{}}\n            \\PY{n}{z1} \\PY{o}{=} \\PY{n}{inputs}\\PY{p}{[}\\PY{l+s+s1}{\\PYZsq{}}\\PY{l+s+s1}{z}\\PY{l+s+s1}{\\PYZsq{}}\\PY{p}{]}\\PY{p}{[}\\PY{l+m+mi}{0}\\PY{p}{]}\n            \\PY{n}{z2} \\PY{o}{=} \\PY{n}{inputs}\\PY{p}{[}\\PY{l+s+s1}{\\PYZsq{}}\\PY{l+s+s1}{z}\\PY{l+s+s1}{\\PYZsq{}}\\PY{p}{]}\\PY{p}{[}\\PY{l+m+mi}{1}\\PY{p}{]}\n            \\PY{n}{x1} \\PY{o}{=} \\PY{n}{inputs}\\PY{p}{[}\\PY{l+s+s1}{\\PYZsq{}}\\PY{l+s+s1}{x}\\PY{l+s+s1}{\\PYZsq{}}\\PY{p}{]}\n            \\PY{n}{y2} \\PY{o}{=} \\PY{n}{inputs}\\PY{p}{[}\\PY{l+s+s1}{\\PYZsq{}}\\PY{l+s+s1}{y2}\\PY{l+s+s1}{\\PYZsq{}}\\PY{p}{]}\n\n            \\PY{n}{outputs}\\PY{p}{[}\\PY{l+s+s1}{\\PYZsq{}}\\PY{l+s+s1}{y1}\\PY{l+s+s1}{\\PYZsq{}}\\PY{p}{]} \\PY{o}{=} \\PY{n}{z1}\\PY{o}{*}\\PY{o}{*}\\PY{l+m+mi}{2} \\PY{o}{+} \\PY{n}{z2} \\PY{o}{+} \\PY{n}{x1} \\PY{o}{\\PYZhy{}} \\PY{l+m+mf}{0.2}\\PY{o}{*}\\PY{n}{y2}\n\n    \\PY{k}{class} \\PY{n+nc}{SellarDis2Units}\\PY{p}{(}\\PY{n}{om}\\PY{o}{.}\\PY{n}{ExplicitComponent}\\PY{p}{)}\\PY{p}{:}\n\\PY{+w}{        }\\PY{l+s+sd}{\\PYZdq{}\\PYZdq{}\\PYZdq{}}\n\\PY{l+s+sd}{        Component containing Discipline 2 \\PYZhy{}\\PYZhy{} no derivatives version.}\n\\PY{l+s+sd}{        \\PYZdq{}\\PYZdq{}\\PYZdq{}}\n\n        \\PY{k}{def} \\PY{n+nf}{setup}\\PY{p}{(}\\PY{n+nb+bp}{self}\\PY{p}{)}\\PY{p}{:}\n            \\PY{c+c1}{\\PYZsh{} Global Design Variable}\n            \\PY{n+nb+bp}{self}\\PY{o}{.}\\PY{n}{add\\PYZus{}input}\\PY{p}{(}\\PY{l+s+s1}{\\PYZsq{}}\\PY{l+s+s1}{z}\\PY{l+s+s1}{\\PYZsq{}}\\PY{p}{,} \\PY{n}{val}\\PY{o}{=}\\PY{n}{np}\\PY{o}{.}\\PY{n}{zeros}\\PY{p}{(}\\PY{l+m+mi}{2}\\PY{p}{)}\\PY{p}{,} \\PY{n}{units}\\PY{o}{=}\\PY{l+s+s1}{\\PYZsq{}}\\PY{l+s+s1}{degC}\\PY{l+s+s1}{\\PYZsq{}}\\PY{p}{)}\n\n            \\PY{c+c1}{\\PYZsh{} Coupling parameter}\n            \\PY{n+nb+bp}{self}\\PY{o}{.}\\PY{n}{add\\PYZus{}input}\\PY{p}{(}\\PY{l+s+s1}{\\PYZsq{}}\\PY{l+s+s1}{y1}\\PY{l+s+s1}{\\PYZsq{}}\\PY{p}{,} \\PY{n}{val}\\PY{o}{=}\\PY{l+m+mf}{1.0}\\PY{p}{,} \\PY{n}{units}\\PY{o}{=}\\PY{l+s+s1}{\\PYZsq{}}\\PY{l+s+s1}{degC}\\PY{l+s+s1}{\\PYZsq{}}\\PY{p}{)}\n\n            \\PY{c+c1}{\\PYZsh{} Coupling output}\n            \\PY{n+nb+bp}{self}\\PY{o}{.}\\PY{n}{add\\PYZus{}output}\\PY{p}{(}\\PY{l+s+s1}{\\PYZsq{}}\\PY{l+s+s1}{y2}\\PY{l+s+s1}{\\PYZsq{}}\\PY{p}{,} \\PY{n}{val}\\PY{o}{=}\\PY{l+m+mf}{1.0}\\PY{p}{,} \\PY{n}{units}\\PY{o}{=}\\PY{l+s+s1}{\\PYZsq{}}\\PY{l+s+s1}{degC}\\PY{l+s+s1}{\\PYZsq{}}\\PY{p}{)}\n\n        \\PY{k}{def} \\PY{n+nf}{setup\\PYZus{}partials}\\PY{p}{(}\\PY{n+nb+bp}{self}\\PY{p}{)}\\PY{p}{:}\n            \\PY{c+c1}{\\PYZsh{} Finite difference all partials.}\n            \\PY{n+nb+bp}{self}\\PY{o}{.}\\PY{n}{declare\\PYZus{}partials}\\PY{p}{(}\\PY{l+s+s1}{\\PYZsq{}}\\PY{l+s+s1}{*}\\PY{l+s+s1}{\\PYZsq{}}\\PY{p}{,} \\PY{l+s+s1}{\\PYZsq{}}\\PY{l+s+s1}{*}\\PY{l+s+s1}{\\PYZsq{}}\\PY{p}{,} \\PY{n}{method}\\PY{o}{=}\\PY{l+s+s1}{\\PYZsq{}}\\PY{l+s+s1}{fd}\\PY{l+s+s1}{\\PYZsq{}}\\PY{p}{)}\n\n        \\PY{k}{def} \\PY{n+nf}{compute}\\PY{p}{(}\\PY{n+nb+bp}{self}\\PY{p}{,} \\PY{n}{inputs}\\PY{p}{,} \\PY{n}{outputs}\\PY{p}{)}\\PY{p}{:}\n\\PY{+w}{            }\\PY{l+s+sd}{\\PYZdq{}\\PYZdq{}\\PYZdq{}}\n\\PY{l+s+sd}{            Evaluates the equation}\n\\PY{l+s+sd}{            y2 = y1**(.5) + z1 + z2}\n\\PY{l+s+sd}{            \\PYZdq{}\\PYZdq{}\\PYZdq{}}\n\n            \\PY{n}{z1} \\PY{o}{=} \\PY{n}{inputs}\\PY{p}{[}\\PY{l+s+s1}{\\PYZsq{}}\\PY{l+s+s1}{z}\\PY{l+s+s1}{\\PYZsq{}}\\PY{p}{]}\\PY{p}{[}\\PY{l+m+mi}{0}\\PY{p}{]}\n            \\PY{n}{z2} \\PY{o}{=} \\PY{n}{inputs}\\PY{p}{[}\\PY{l+s+s1}{\\PYZsq{}}\\PY{l+s+s1}{z}\\PY{l+s+s1}{\\PYZsq{}}\\PY{p}{]}\\PY{p}{[}\\PY{l+m+mi}{1}\\PY{p}{]}\n            \\PY{n}{y1} \\PY{o}{=} \\PY{n}{inputs}\\PY{p}{[}\\PY{l+s+s1}{\\PYZsq{}}\\PY{l+s+s1}{y1}\\PY{l+s+s1}{\\PYZsq{}}\\PY{p}{]}\n\n            \\PY{c+c1}{\\PYZsh{} Note: this may cause some issues. However, y1 is constrained to be}\n            \\PY{c+c1}{\\PYZsh{} above 3.16, so lets just let it converge, and the optimizer will}\n            \\PY{c+c1}{\\PYZsh{} throw it out}\n            \\PY{k}{if} \\PY{n}{y1}\\PY{o}{.}\\PY{n}{real} \\PY{o}{\\PYZlt{}} \\PY{l+m+mf}{0.0}\\PY{p}{:}\n                \\PY{n}{y1} \\PY{o}{*}\\PY{o}{=} \\PY{o}{\\PYZhy{}}\\PY{l+m+mi}{1}\n\n            \\PY{n}{outputs}\\PY{p}{[}\\PY{l+s+s1}{\\PYZsq{}}\\PY{l+s+s1}{y2}\\PY{l+s+s1}{\\PYZsq{}}\\PY{p}{]} \\PY{o}{=} \\PY{n}{y1}\\PY{o}{*}\\PY{o}{*}\\PY{l+m+mf}{.5} \\PY{o}{+} \\PY{n}{z1} \\PY{o}{+} \\PY{n}{z2}\n\n    \\PY{k}{def} \\PY{n+nf}{setup}\\PY{p}{(}\\PY{n+nb+bp}{self}\\PY{p}{)}\\PY{p}{:}\n\n        \\PY{n}{cycle} \\PY{o}{=} \\PY{n+nb+bp}{self}\\PY{o}{.}\\PY{n}{add\\PYZus{}subsystem}\\PY{p}{(}\\PY{l+s+s1}{\\PYZsq{}}\\PY{l+s+s1}{cycle}\\PY{l+s+s1}{\\PYZsq{}}\\PY{p}{,} \\PY{n}{om}\\PY{o}{.}\\PY{n}{Group}\\PY{p}{(}\\PY{p}{)}\\PY{p}{,} \\PY{n}{promotes}\\PY{o}{=}\\PY{p}{[}\\PY{l+s+s1}{\\PYZsq{}}\\PY{l+s+s1}{*}\\PY{l+s+s1}{\\PYZsq{}}\\PY{p}{]}\\PY{p}{)}\n        \\PY{n}{cycle}\\PY{o}{.}\\PY{n}{add\\PYZus{}subsystem}\\PY{p}{(}\\PY{l+s+s1}{\\PYZsq{}}\\PY{l+s+s1}{d1}\\PY{l+s+s1}{\\PYZsq{}}\\PY{p}{,} \\PY{n+nb+bp}{self}\\PY{o}{.}\\PY{n}{SellarDis1Units}\\PY{p}{(}\\PY{p}{)}\\PY{p}{,} \\PY{n}{promotes\\PYZus{}inputs}\\PY{o}{=}\\PY{p}{[}\\PY{l+s+s1}{\\PYZsq{}}\\PY{l+s+s1}{x}\\PY{l+s+s1}{\\PYZsq{}}\\PY{p}{,} \\PY{l+s+s1}{\\PYZsq{}}\\PY{l+s+s1}{z}\\PY{l+s+s1}{\\PYZsq{}}\\PY{p}{,} \\PY{l+s+s1}{\\PYZsq{}}\\PY{l+s+s1}{y2}\\PY{l+s+s1}{\\PYZsq{}}\\PY{p}{]}\\PY{p}{,}\n                            \\PY{n}{promotes\\PYZus{}outputs}\\PY{o}{=}\\PY{p}{[}\\PY{l+s+s1}{\\PYZsq{}}\\PY{l+s+s1}{y1}\\PY{l+s+s1}{\\PYZsq{}}\\PY{p}{]}\\PY{p}{)}\n        \\PY{n}{cycle}\\PY{o}{.}\\PY{n}{add\\PYZus{}subsystem}\\PY{p}{(}\\PY{l+s+s1}{\\PYZsq{}}\\PY{l+s+s1}{d2}\\PY{l+s+s1}{\\PYZsq{}}\\PY{p}{,} \\PY{n+nb+bp}{self}\\PY{o}{.}\\PY{n}{SellarDis2Units}\\PY{p}{(}\\PY{p}{)}\\PY{p}{,} \\PY{n}{promotes\\PYZus{}inputs}\\PY{o}{=}\\PY{p}{[}\\PY{l+s+s1}{\\PYZsq{}}\\PY{l+s+s1}{z}\\PY{l+s+s1}{\\PYZsq{}}\\PY{p}{,} \\PY{l+s+s1}{\\PYZsq{}}\\PY{l+s+s1}{y1}\\PY{l+s+s1}{\\PYZsq{}}\\PY{p}{]}\\PY{p}{,}\n                            \\PY{n}{promotes\\PYZus{}outputs}\\PY{o}{=}\\PY{p}{[}\\PY{l+s+s1}{\\PYZsq{}}\\PY{l+s+s1}{y2}\\PY{l+s+s1}{\\PYZsq{}}\\PY{p}{]}\\PY{p}{)}\n\n        \\PY{n}{cycle}\\PY{o}{.}\\PY{n}{set\\PYZus{}input\\PYZus{}defaults}\\PY{p}{(}\\PY{l+s+s1}{\\PYZsq{}}\\PY{l+s+s1}{x}\\PY{l+s+s1}{\\PYZsq{}}\\PY{p}{,} \\PY{l+m+mf}{1.0}\\PY{p}{,} \\PY{n}{units}\\PY{o}{=}\\PY{l+s+s1}{\\PYZsq{}}\\PY{l+s+s1}{degC}\\PY{l+s+s1}{\\PYZsq{}}\\PY{p}{)}\n        \\PY{n}{cycle}\\PY{o}{.}\\PY{n}{set\\PYZus{}input\\PYZus{}defaults}\\PY{p}{(}\\PY{l+s+s1}{\\PYZsq{}}\\PY{l+s+s1}{z}\\PY{l+s+s1}{\\PYZsq{}}\\PY{p}{,} \\PY{n}{np}\\PY{o}{.}\\PY{n}{array}\\PY{p}{(}\\PY{p}{[}\\PY{l+m+mf}{5.0}\\PY{p}{,} \\PY{l+m+mf}{2.0}\\PY{p}{]}\\PY{p}{)}\\PY{p}{,} \\PY{n}{units}\\PY{o}{=}\\PY{l+s+s1}{\\PYZsq{}}\\PY{l+s+s1}{degC}\\PY{l+s+s1}{\\PYZsq{}}\\PY{p}{)}\n\n        \\PY{c+c1}{\\PYZsh{} Nonlinear Block Gauss Seidel is a gradient free solver}\n        \\PY{n}{cycle}\\PY{o}{.}\\PY{n}{nonlinear\\PYZus{}solver} \\PY{o}{=} \\PY{n}{om}\\PY{o}{.}\\PY{n}{NonlinearBlockGS}\\PY{p}{(}\\PY{p}{)}\n\n        \\PY{n+nb+bp}{self}\\PY{o}{.}\\PY{n}{add\\PYZus{}subsystem}\\PY{p}{(}\\PY{l+s+s1}{\\PYZsq{}}\\PY{l+s+s1}{obj\\PYZus{}cmp}\\PY{l+s+s1}{\\PYZsq{}}\\PY{p}{,} \\PY{n}{om}\\PY{o}{.}\\PY{n}{ExecComp}\\PY{p}{(}\\PY{l+s+s1}{\\PYZsq{}}\\PY{l+s+s1}{obj = x**2 + z[1] + y1 + exp(\\PYZhy{}y2)}\\PY{l+s+s1}{\\PYZsq{}}\\PY{p}{,}\n                                                  \\PY{n}{z}\\PY{o}{=}\\PY{p}{\\PYZob{}}\\PY{l+s+s1}{\\PYZsq{}}\\PY{l+s+s1}{val}\\PY{l+s+s1}{\\PYZsq{}}\\PY{p}{:} \\PY{n}{np}\\PY{o}{.}\\PY{n}{array}\\PY{p}{(}\\PY{p}{[}\\PY{l+m+mf}{0.0}\\PY{p}{,} \\PY{l+m+mf}{0.0}\\PY{p}{]}\\PY{p}{)}\\PY{p}{,} \\PY{l+s+s1}{\\PYZsq{}}\\PY{l+s+s1}{units}\\PY{l+s+s1}{\\PYZsq{}}\\PY{p}{:} \\PY{l+s+s1}{\\PYZsq{}}\\PY{l+s+s1}{degC}\\PY{l+s+s1}{\\PYZsq{}}\\PY{p}{\\PYZcb{}}\\PY{p}{,}\n                                                  \\PY{n}{x}\\PY{o}{=}\\PY{p}{\\PYZob{}}\\PY{l+s+s1}{\\PYZsq{}}\\PY{l+s+s1}{val}\\PY{l+s+s1}{\\PYZsq{}}\\PY{p}{:} \\PY{l+m+mf}{0.0}\\PY{p}{,} \\PY{l+s+s1}{\\PYZsq{}}\\PY{l+s+s1}{units}\\PY{l+s+s1}{\\PYZsq{}}\\PY{p}{:} \\PY{l+s+s1}{\\PYZsq{}}\\PY{l+s+s1}{degC}\\PY{l+s+s1}{\\PYZsq{}}\\PY{p}{\\PYZcb{}}\\PY{p}{,}\n                                                  \\PY{n}{y1}\\PY{o}{=}\\PY{p}{\\PYZob{}}\\PY{l+s+s1}{\\PYZsq{}}\\PY{l+s+s1}{units}\\PY{l+s+s1}{\\PYZsq{}}\\PY{p}{:} \\PY{l+s+s1}{\\PYZsq{}}\\PY{l+s+s1}{degC}\\PY{l+s+s1}{\\PYZsq{}}\\PY{p}{\\PYZcb{}}\\PY{p}{,}\n                                                  \\PY{n}{y2}\\PY{o}{=}\\PY{p}{\\PYZob{}}\\PY{l+s+s1}{\\PYZsq{}}\\PY{l+s+s1}{units}\\PY{l+s+s1}{\\PYZsq{}}\\PY{p}{:} \\PY{l+s+s1}{\\PYZsq{}}\\PY{l+s+s1}{degC}\\PY{l+s+s1}{\\PYZsq{}}\\PY{p}{\\PYZcb{}}\\PY{p}{)}\\PY{p}{,}\n                           \\PY{n}{promotes}\\PY{o}{=}\\PY{p}{[}\\PY{l+s+s1}{\\PYZsq{}}\\PY{l+s+s1}{x}\\PY{l+s+s1}{\\PYZsq{}}\\PY{p}{,} \\PY{l+s+s1}{\\PYZsq{}}\\PY{l+s+s1}{z}\\PY{l+s+s1}{\\PYZsq{}}\\PY{p}{,} \\PY{l+s+s1}{\\PYZsq{}}\\PY{l+s+s1}{y1}\\PY{l+s+s1}{\\PYZsq{}}\\PY{p}{,} \\PY{l+s+s1}{\\PYZsq{}}\\PY{l+s+s1}{y2}\\PY{l+s+s1}{\\PYZsq{}}\\PY{p}{,} \\PY{l+s+s1}{\\PYZsq{}}\\PY{l+s+s1}{obj}\\PY{l+s+s1}{\\PYZsq{}}\\PY{p}{]}\\PY{p}{)}\n\n        \\PY{n+nb+bp}{self}\\PY{o}{.}\\PY{n}{add\\PYZus{}subsystem}\\PY{p}{(}\\PY{l+s+s1}{\\PYZsq{}}\\PY{l+s+s1}{con\\PYZus{}cmp1}\\PY{l+s+s1}{\\PYZsq{}}\\PY{p}{,} \\PY{n}{om}\\PY{o}{.}\\PY{n}{ExecComp}\\PY{p}{(}\\PY{l+s+s1}{\\PYZsq{}}\\PY{l+s+s1}{con1 = 3.16 \\PYZhy{} y1}\\PY{l+s+s1}{\\PYZsq{}}\\PY{p}{,} \\PY{n}{y1}\\PY{o}{=}\\PY{p}{\\PYZob{}}\\PY{l+s+s1}{\\PYZsq{}}\\PY{l+s+s1}{units}\\PY{l+s+s1}{\\PYZsq{}}\\PY{p}{:} \\PY{l+s+s1}{\\PYZsq{}}\\PY{l+s+s1}{degC}\\PY{l+s+s1}{\\PYZsq{}}\\PY{p}{\\PYZcb{}}\\PY{p}{,}\n                                                   \\PY{n}{con1}\\PY{o}{=}\\PY{p}{\\PYZob{}}\\PY{l+s+s1}{\\PYZsq{}}\\PY{l+s+s1}{units}\\PY{l+s+s1}{\\PYZsq{}}\\PY{p}{:} \\PY{l+s+s1}{\\PYZsq{}}\\PY{l+s+s1}{degC}\\PY{l+s+s1}{\\PYZsq{}}\\PY{p}{\\PYZcb{}}\\PY{p}{)}\\PY{p}{,}\n                           \\PY{n}{promotes}\\PY{o}{=}\\PY{p}{[}\\PY{l+s+s1}{\\PYZsq{}}\\PY{l+s+s1}{con1}\\PY{l+s+s1}{\\PYZsq{}}\\PY{p}{,} \\PY{l+s+s1}{\\PYZsq{}}\\PY{l+s+s1}{y1}\\PY{l+s+s1}{\\PYZsq{}}\\PY{p}{]}\\PY{p}{)}\n        \\PY{n+nb+bp}{self}\\PY{o}{.}\\PY{n}{add\\PYZus{}subsystem}\\PY{p}{(}\\PY{l+s+s1}{\\PYZsq{}}\\PY{l+s+s1}{con\\PYZus{}cmp2}\\PY{l+s+s1}{\\PYZsq{}}\\PY{p}{,} \\PY{n}{om}\\PY{o}{.}\\PY{n}{ExecComp}\\PY{p}{(}\\PY{l+s+s1}{\\PYZsq{}}\\PY{l+s+s1}{con2 = y2 \\PYZhy{} 24.0}\\PY{l+s+s1}{\\PYZsq{}}\\PY{p}{,} \\PY{n}{y2}\\PY{o}{=}\\PY{p}{\\PYZob{}}\\PY{l+s+s1}{\\PYZsq{}}\\PY{l+s+s1}{units}\\PY{l+s+s1}{\\PYZsq{}}\\PY{p}{:} \\PY{l+s+s1}{\\PYZsq{}}\\PY{l+s+s1}{degC}\\PY{l+s+s1}{\\PYZsq{}}\\PY{p}{\\PYZcb{}}\\PY{p}{,}\n                                                   \\PY{n}{con2}\\PY{o}{=}\\PY{p}{\\PYZob{}}\\PY{l+s+s1}{\\PYZsq{}}\\PY{l+s+s1}{units}\\PY{l+s+s1}{\\PYZsq{}}\\PY{p}{:} \\PY{l+s+s1}{\\PYZsq{}}\\PY{l+s+s1}{degC}\\PY{l+s+s1}{\\PYZsq{}}\\PY{p}{\\PYZcb{}}\\PY{p}{)}\\PY{p}{,}\n                           \\PY{n}{promotes}\\PY{o}{=}\\PY{p}{[}\\PY{l+s+s1}{\\PYZsq{}}\\PY{l+s+s1}{con2}\\PY{l+s+s1}{\\PYZsq{}}\\PY{p}{,} \\PY{l+s+s1}{\\PYZsq{}}\\PY{l+s+s1}{y2}\\PY{l+s+s1}{\\PYZsq{}}\\PY{p}{]}\\PY{p}{)}\n\\end{Verbatim}\n",
      "application/papermill.record/text/plain": "class SellarMDAWithUnits(om.Group):\n    \"\"\"\n    Group containing the Sellar MDA.\n    \"\"\"\n\n    class SellarDis1Units(om.ExplicitComponent):\n        \"\"\"\n        Component containing Discipline 1 -- no derivatives version.\n        \"\"\"\n\n        def setup(self):\n\n            # Global Design Variable\n            self.add_input('z', val=np.zeros(2), units='degC')\n\n            # Local Design Variable\n            self.add_input('x', val=0., units='degC')\n\n            # Coupling parameter\n            self.add_input('y2', val=1.0, units='degC')\n\n            # Coupling output\n            self.add_output('y1', val=1.0, units='degC')\n\n        def setup_partials(self):\n            # Finite difference all partials.\n            self.declare_partials('*', '*', method='fd')\n\n        def compute(self, inputs, outputs):\n            \"\"\"\n            Evaluates the equation\n            y1 = z1**2 + z2 + x1 - 0.2*y2\n            \"\"\"\n            z1 = inputs['z'][0]\n            z2 = inputs['z'][1]\n            x1 = inputs['x']\n            y2 = inputs['y2']\n\n            outputs['y1'] = z1**2 + z2 + x1 - 0.2*y2\n\n    class SellarDis2Units(om.ExplicitComponent):\n        \"\"\"\n        Component containing Discipline 2 -- no derivatives version.\n        \"\"\"\n\n        def setup(self):\n            # Global Design Variable\n            self.add_input('z', val=np.zeros(2), units='degC')\n\n            # Coupling parameter\n            self.add_input('y1', val=1.0, units='degC')\n\n            # Coupling output\n            self.add_output('y2', val=1.0, units='degC')\n\n        def setup_partials(self):\n            # Finite difference all partials.\n            self.declare_partials('*', '*', method='fd')\n\n        def compute(self, inputs, outputs):\n            \"\"\"\n            Evaluates the equation\n            y2 = y1**(.5) + z1 + z2\n            \"\"\"\n\n            z1 = inputs['z'][0]\n            z2 = inputs['z'][1]\n            y1 = inputs['y1']\n\n            # Note: this may cause some issues. However, y1 is constrained to be\n            # above 3.16, so lets just let it converge, and the optimizer will\n            # throw it out\n            if y1.real < 0.0:\n                y1 *= -1\n\n            outputs['y2'] = y1**.5 + z1 + z2\n\n    def setup(self):\n\n        cycle = self.add_subsystem('cycle', om.Group(), promotes=['*'])\n        cycle.add_subsystem('d1', self.SellarDis1Units(), promotes_inputs=['x', 'z', 'y2'],\n                            promotes_outputs=['y1'])\n        cycle.add_subsystem('d2', self.SellarDis2Units(), promotes_inputs=['z', 'y1'],\n                            promotes_outputs=['y2'])\n\n        cycle.set_input_defaults('x', 1.0, units='degC')\n        cycle.set_input_defaults('z', np.array([5.0, 2.0]), units='degC')\n\n        # Nonlinear Block Gauss Seidel is a gradient free solver\n        cycle.nonlinear_solver = om.NonlinearBlockGS()\n\n        self.add_subsystem('obj_cmp', om.ExecComp('obj = x**2 + z[1] + y1 + exp(-y2)',\n                                                  z={'val': np.array([0.0, 0.0]), 'units': 'degC'},\n                                                  x={'val': 0.0, 'units': 'degC'},\n                                                  y1={'units': 'degC'},\n                                                  y2={'units': 'degC'}),\n                           promotes=['x', 'z', 'y1', 'y2', 'obj'])\n\n        self.add_subsystem('con_cmp1', om.ExecComp('con1 = 3.16 - y1', y1={'units': 'degC'},\n                                                   con1={'units': 'degC'}),\n                           promotes=['con1', 'y1'])\n        self.add_subsystem('con_cmp2', om.ExecComp('con2 = y2 - 24.0', y2={'units': 'degC'},\n                                                   con2={'units': 'degC'}),\n                           promotes=['con2', 'y2'])"
     },
     "metadata": {
      "scrapbook": {
       "mime_prefix": "application/papermill.record/",
       "name": "code_src8"
      }
     },
     "output_type": "display_data"
    }
   ],
   "source": [
    "from openmdao.utils.notebook_utils import get_code\n",
    "from myst_nb import glue\n",
    "glue(\"code_src8\", get_code(\"openmdao.test_suite.components.sellar_feature.SellarMDAWithUnits\"), display=False)"
   ]
  },
  {
   "cell_type": "markdown",
   "metadata": {},
   "source": [
    ":::{Admonition} `SellarMDAWithUnits` class definition \n",
    ":class: dropdown\n",
    "\n",
    "{glue:}`code_src8`\n",
    ":::"
   ]
  },
  {
   "cell_type": "code",
   "execution_count": 7,
   "metadata": {},
   "outputs": [
    {
     "name": "stdout",
     "output_type": "stream",
     "text": [
      "\n",
      "=====\n",
      "cycle\n",
      "=====\n",
      "NL: NLBGS 1 ; 29.0742299 1\n",
      "NL: NLBGS 2 ; 2.26505979 0.0779060975\n",
      "NL: NLBGS 3 ; 0.0438762115 0.00150911001\n",
      "NL: NLBGS 4 ; 0.000867730413 2.98453446e-05\n",
      "NL: NLBGS 5 ; 1.715381e-05 5.90000492e-07\n",
      "NL: NLBGS 6 ; 3.39109478e-07 1.16635756e-08\n",
      "NL: NLBGS 7 ; 6.70377103e-09 2.30574328e-10\n",
      "NL: NLBGS 8 ; 1.32523072e-10 4.55809395e-12\n",
      "NL: NLBGS Converged\n",
      "\n",
      "=====\n",
      "cycle\n",
      "=====\n",
      "NL: NLBGS 1 ; 2.62038164e-12 1\n",
      "NL: NLBGS Converged\n",
      "\n",
      "=====\n",
      "cycle\n",
      "=====\n",
      "NL: NLBGS 1 ; 19.1706591 1\n",
      "NL: NLBGS 2 ; 1.13589624 0.0592518093\n",
      "NL: NLBGS 3 ; 0.0406301437 0.00211939211\n",
      "NL: NLBGS 4 ; 0.00140619452 7.33513916e-05\n",
      "NL: NLBGS 5 ; 4.87225696e-05 2.54151771e-06\n",
      "NL: NLBGS 6 ; 1.68809957e-06 8.80564178e-08\n",
      "NL: NLBGS 7 ; 5.84879656e-08 3.05091053e-09\n",
      "NL: NLBGS 8 ; 2.0264448e-09 1.05705536e-10\n",
      "NL: NLBGS 9 ; 7.02104123e-11 3.66238907e-12\n",
      "NL: NLBGS Converged\n",
      "\n",
      "=====\n",
      "cycle\n",
      "=====\n",
      "NL: NLBGS 1 ; 5.26036063 1\n",
      "NL: NLBGS 2 ; 0.514550635 0.0978166083\n",
      "NL: NLBGS 3 ; 0.0258623712 0.00491646354\n",
      "NL: NLBGS 4 ; 0.00126421196 0.000240328003\n",
      "NL: NLBGS 5 ; 6.18806612e-05 1.17635777e-05\n",
      "NL: NLBGS 6 ; 3.02873598e-06 5.75765845e-07\n",
      "NL: NLBGS 7 ; 1.48241324e-07 2.81808292e-08\n",
      "NL: NLBGS 8 ; 7.25566271e-09 1.37930899e-09\n",
      "NL: NLBGS 9 ; 3.55128357e-10 6.75102682e-11\n",
      "NL: NLBGS Converged\n",
      "\n",
      "=====\n",
      "cycle\n",
      "=====\n",
      "NL: NLBGS 1 ; 1.07485557 1\n",
      "NL: NLBGS 2 ; 0.0990937832 0.0921926498\n",
      "NL: NLBGS 3 ; 0.00548653522 0.00510443949\n",
      "NL: NLBGS 4 ; 0.000301840404 0.0002808195\n",
      "NL: NLBGS 5 ; 1.66114932e-05 1.54546282e-05\n",
      "NL: NLBGS 6 ; 9.14179753e-07 8.50514039e-07\n",
      "NL: NLBGS 7 ; 5.03100772e-08 4.68063604e-08\n",
      "NL: NLBGS 8 ; 2.76871581e-09 2.57589567e-09\n",
      "NL: NLBGS 9 ; 1.52371261e-10 1.41759753e-10\n",
      "NL: NLBGS 10 ; 8.3855111e-12 7.8015236e-12\n",
      "NL: NLBGS Converged\n",
      "\n",
      "=====\n",
      "cycle\n",
      "=====\n",
      "NL: NLBGS 1 ; 0.158851234 1\n",
      "NL: NLBGS 2 ; 0.0153545659 0.0966600355\n",
      "NL: NLBGS 3 ; 0.000862519807 0.00542973314\n",
      "NL: NLBGS 4 ; 4.84015908e-05 0.000304697607\n",
      "NL: NLBGS 5 ; 2.71628245e-06 1.70995364e-05\n",
      "NL: NLBGS 6 ; 1.52436452e-07 9.59617681e-07\n",
      "NL: NLBGS 7 ; 8.55466098e-09 5.38532864e-08\n",
      "NL: NLBGS 8 ; 4.80083341e-10 3.02221978e-09\n",
      "NL: NLBGS 9 ; 2.69420789e-11 1.69605726e-10\n",
      "NL: NLBGS Converged\n",
      "\n",
      "=====\n",
      "cycle\n",
      "=====\n",
      "NL: NLBGS 1 ; 0.0172187064 1\n",
      "NL: NLBGS 2 ; 0.00168376512 0.0977869697\n",
      "NL: NLBGS 3 ; 9.47059832e-05 0.00550017993\n",
      "NL: NLBGS 4 ; 5.32629052e-06 0.00030933163\n",
      "NL: NLBGS 5 ; 2.99553922e-07 1.73970051e-05\n",
      "NL: NLBGS 6 ; 1.68470947e-08 9.78418139e-07\n",
      "NL: NLBGS 7 ; 9.47490739e-10 5.50268248e-08\n",
      "NL: NLBGS 8 ; 5.32873141e-11 3.09473389e-09\n",
      "NL: NLBGS Converged\n",
      "\n",
      "=====\n",
      "cycle\n",
      "=====\n",
      "NL: NLBGS 1 ; 0.00175633487 1\n",
      "NL: NLBGS 2 ; 0.000171891789 0.0978695987\n",
      "NL: NLBGS 3 ; 9.66953305e-06 0.00550551789\n",
      "NL: NLBGS 4 ; 5.43939908e-07 0.000309701707\n",
      "NL: NLBGS 5 ; 3.05982523e-08 1.74216505e-05\n",
      "NL: NLBGS 6 ; 1.7212435e-09 9.80020113e-07\n",
      "NL: NLBGS 7 ; 9.68252644e-11 5.5129159e-08\n",
      "NL: NLBGS Converged\n",
      "\n",
      "=====\n",
      "cycle\n",
      "=====\n",
      "NL: NLBGS 1 ; 0.000177747685 1\n",
      "NL: NLBGS 2 ; 1.73975938e-05 0.097878033\n",
      "NL: NLBGS 3 ; 9.78689728e-07 0.00550606173\n",
      "NL: NLBGS 4 ; 5.50554571e-08 0.000309739376\n",
      "NL: NLBGS 5 ; 3.09710328e-09 1.74241553e-05\n",
      "NL: NLBGS 6 ; 1.74224984e-10 9.80181452e-07\n",
      "NL: NLBGS 7 ; 9.80082451e-12 5.51389712e-08\n",
      "NL: NLBGS Converged\n",
      "\n",
      "=====\n",
      "cycle\n",
      "=====\n",
      "NL: NLBGS 1 ; 1.7981531e-05 1\n",
      "NL: NLBGS 2 ; 1.76001222e-06 0.0978788856\n",
      "NL: NLBGS 3 ; 9.90084082e-08 0.0055061167\n",
      "NL: NLBGS 4 ; 5.56965656e-09 0.000309743178\n",
      "NL: NLBGS 5 ; 3.13317193e-10 1.74243891e-05\n",
      "NL: NLBGS 6 ; 1.7625223e-11 9.80184777e-07\n",
      "NL: NLBGS Converged\n",
      "\n",
      "=====\n",
      "cycle\n",
      "=====\n",
      "NL: NLBGS 1 ; 1.81835866e-06 1\n",
      "NL: NLBGS 2 ; 1.77979054e-07 0.0978789599\n",
      "NL: NLBGS 3 ; 1.00121042e-08 0.00550612177\n",
      "NL: NLBGS 4 ; 5.63224845e-10 0.000309743538\n",
      "NL: NLBGS 5 ; 3.16836023e-11 1.74242865e-05\n",
      "NL: NLBGS Converged\n",
      "\n",
      "=====\n",
      "cycle\n",
      "=====\n",
      "NL: NLBGS 1 ; 1.84072864e-07 1\n",
      "NL: NLBGS 2 ; 1.80169344e-08 0.0978793619\n",
      "NL: NLBGS 3 ; 1.01353155e-09 0.0055061432\n",
      "NL: NLBGS 4 ; 5.70152462e-11 0.000309742811\n",
      "NL: NLBGS Converged\n",
      "\n",
      "=====\n",
      "cycle\n",
      "=====\n",
      "NL: NLBGS 1 ; 1.86255466e-08 1\n",
      "NL: NLBGS 2 ; 1.82292341e-09 0.0978722097\n",
      "NL: NLBGS 3 ; 1.02547751e-10 0.00550575795\n",
      "NL: NLBGS 4 ; 5.76879087e-12 0.000309724648\n",
      "NL: NLBGS Converged\n",
      "\n",
      "=====\n",
      "cycle\n",
      "=====\n",
      "NL: NLBGS 1 ; 1.8804238e-09 1\n",
      "NL: NLBGS 2 ; 1.84040998e-10 0.0978720854\n",
      "NL: NLBGS 3 ; 1.03529445e-11 0.00550564426\n",
      "NL: NLBGS Converged\n"
     ]
    },
    {
     "name": "stderr",
     "output_type": "stream",
     "text": [
      "/Users/rfalck/Codes/OpenMDAO.git/openmdao/recorders/sqlite_recorder.py:226: UserWarning:The existing case recorder file, problem3_out/cases.sql, is being overwritten.\n"
     ]
    },
    {
     "name": "stdout",
     "output_type": "stream",
     "text": [
      "[-1.66901604e-10]\n",
      "[273.15]\n"
     ]
    }
   ],
   "source": [
    "from openmdao.test_suite.components.sellar_feature import SellarMDAWithUnits\n",
    "import numpy as np\n",
    "import openmdao.api as om\n",
    "\n",
    "# build the model\n",
    "prob = om.Problem(model=SellarMDAWithUnits())\n",
    "\n",
    "model = prob.model\n",
    "model.add_design_var('z', lower=np.array([-10.0, 0.0]), upper=np.array([10.0, 10.0]))\n",
    "model.add_design_var('x', lower=0.0, upper=10.0)\n",
    "model.add_objective('obj')\n",
    "model.add_constraint('con1', upper=0.0)\n",
    "model.add_constraint('con2', upper=0.0)\n",
    "\n",
    "# setup the optimization\n",
    "driver = prob.driver = om.ScipyOptimizeDriver(optimizer='SLSQP', tol=1e-9, disp=False)\n",
    "\n",
    "# Create a recorder variable\n",
    "recorder = om.SqliteRecorder('cases.sql')\n",
    "# Attach a recorder to the problem\n",
    "prob.add_recorder(recorder)\n",
    "\n",
    "prob.setup()\n",
    "prob.set_solver_print(2)\n",
    "prob.run_driver()\n",
    "prob.record(\"after_run_driver\")\n",
    "\n",
    "# Instantiate your CaseReader\n",
    "cr = om.CaseReader(prob.get_outputs_dir() / \"cases.sql\")\n",
    "# Isolate \"problem\" as your source\n",
    "driver_cases = cr.list_cases('problem', out_stream=None)\n",
    "# Get the first case from the recorder\n",
    "case = cr.get_case('after_run_driver')\n",
    "\n",
    "# These options will give outputs as the model sees them\n",
    "# Gets value but will not convert units\n",
    "const = case['con1']\n",
    "print(const)\n",
    "\n",
    "# get_val can convert your result's units if desired\n",
    "const_K = case.get_val(\"con1\", units='K')\n",
    "\n",
    "print(const_K)"
   ]
  },
  {
   "cell_type": "code",
   "execution_count": 9,
   "metadata": {
    "tags": [
     "remove-input",
     "remove-output"
    ]
   },
   "outputs": [
    {
     "data": {
      "text/plain": [
       "6.109913153041638e-13"
      ]
     },
     "execution_count": 9,
     "metadata": {},
     "output_type": "execute_result"
    }
   ],
   "source": [
    "from openmdao.utils.assert_utils import assert_near_equal\n",
    "assert_near_equal(const, -1.68550507e-10, 1e-8, tol_type='abs')\n",
    "assert_near_equal(const_K, 273.15, 1e-3, tol_type='rel')"
   ]
  },
  {
   "cell_type": "code",
   "execution_count": 10,
   "metadata": {},
   "outputs": [
    {
     "name": "stdout",
     "output_type": "stream",
     "text": [
      "5 Explicit Output(s) in 'model'\n",
      "\n",
      "varname   val                prom_name\n",
      "--------  -----------------  ---------\n",
      "cycle\n",
      "  d1\n",
      "    y1    [3.16]             y1       \n",
      "  d2\n",
      "    y2    [3.75527777]       y2       \n",
      "obj_cmp\n",
      "  obj     [3.18339395]       obj      \n",
      "con_cmp1\n",
      "  con1    [-1.66901604e-10]  con1     \n",
      "con_cmp2\n",
      "  con2    [-20.24472223]     con2     \n",
      "\n",
      "\n",
      "0 Implicit Output(s) in 'model'\n",
      "\n",
      "\n",
      "[('con_cmp1.con1', {'val': array([-1.66901604e-10]), 'io': 'output', 'prom_name': 'con1'}), ('con_cmp2.con2', {'val': array([-20.24472223]), 'io': 'output', 'prom_name': 'con2'}), ('cycle.d1.y1', {'val': array([3.16]), 'io': 'output', 'prom_name': 'y1'}), ('cycle.d2.y2', {'val': array([3.75527777]), 'io': 'output', 'prom_name': 'y2'}), ('obj_cmp.obj', {'val': array([3.18339395]), 'io': 'output', 'prom_name': 'obj'})]\n"
     ]
    }
   ],
   "source": [
    "# list_outputs will list your model's outputs and return a list of them too\n",
    "print(case.list_outputs())"
   ]
  },
  {
   "cell_type": "code",
   "execution_count": 11,
   "metadata": {},
   "outputs": [
    {
     "name": "stdout",
     "output_type": "stream",
     "text": [
      "[3.18339395]\n",
      "[0.]\n",
      "[-1.66901604e-10]\n"
     ]
    }
   ],
   "source": [
    "# This code below will find all the objectives, design variables, and constraints that the\n",
    "# problem source contains\n",
    "objectives = case.get_objectives()\n",
    "print(objectives['obj'])\n",
    "\n",
    "design_vars = case.get_design_vars()\n",
    "print(design_vars['x'])\n",
    "\n",
    "constraints = case.get_constraints()\n",
    "print(constraints['con1'])"
   ]
  },
  {
   "cell_type": "code",
   "execution_count": 13,
   "metadata": {
    "tags": [
     "remove-input",
     "remove-output"
    ]
   },
   "outputs": [
    {
     "data": {
      "text/plain": [
       "1.6489033512608081e-12"
      ]
     },
     "execution_count": 13,
     "metadata": {},
     "output_type": "execute_result"
    }
   ],
   "source": [
    "assert_near_equal(objectives['obj'], 3.18339395, 1e-4)\n",
    "assert_near_equal(design_vars['x'], 0., 1e-4)\n",
    "assert_near_equal(constraints['con1'], -1.68550507e-10, 1e-8, tol_type='abs')"
   ]
  }
 ],
 "metadata": {
  "celltoolbar": "Tags",
  "kernelspec": {
   "display_name": "Python 3",
   "language": "python",
   "name": "python3"
  },
  "language_info": {
   "codemirror_mode": {
    "name": "ipython",
    "version": 3
   },
   "file_extension": ".py",
   "mimetype": "text/x-python",
   "name": "python",
   "nbconvert_exporter": "python",
   "pygments_lexer": "ipython3",
   "version": "3.11.4"
  }
 },
 "nbformat": 4,
 "nbformat_minor": 4
}
